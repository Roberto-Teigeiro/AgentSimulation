{
 "cells": [
  {
   "cell_type": "markdown",
   "metadata": {
    "colab_type": "text",
    "id": "view-in-github"
   },
   "source": [
    "<a href=\"https://colab.research.google.com/github/Roberto-Teigeiro/AgentSimulation/blob/main/DroneRobberSimulationV2.ipynb\" target=\"_parent\"><img src=\"https://colab.research.google.com/assets/colab-badge.svg\" alt=\"Open In Colab\"/></a>"
   ]
  },
  {
   "cell_type": "markdown",
   "metadata": {
    "id": "Dy_IqvBoD8gR"
   },
   "source": [
    "# Evidence 2\n"
   ]
  },
  {
   "cell_type": "markdown",
   "metadata": {
    "id": "DeUsXosAD4_m"
   },
   "source": [
    "## 0. Installing libraries"
   ]
  },
  {
   "cell_type": "code",
   "execution_count": 217,
   "metadata": {
    "colab": {
     "base_uri": "https://localhost:8080/"
    },
    "collapsed": true,
    "id": "64kTta8nB0kt",
    "outputId": "05717d30-fe2a-4fdc-928b-1c2fb30f9cf2"
   },
   "outputs": [
    {
     "name": "stderr",
     "output_type": "stream",
     "text": [
      "\n",
      "[notice] A new release of pip is available: 24.2 -> 24.3.1\n",
      "[notice] To update, run: C:\\Users\\ID140\\AppData\\Local\\Microsoft\\WindowsApps\\PythonSoftwareFoundation.Python.3.12_qbz5n2kfra8p0\\python.exe -m pip install --upgrade pip\n"
     ]
    },
    {
     "name": "stdout",
     "output_type": "stream",
     "text": [
      "Defaulting to user installation because normal site-packages is not writeable\n",
      "Requirement already satisfied: agentpy in c:\\users\\id140\\appdata\\local\\packages\\pythonsoftwarefoundation.python.3.12_qbz5n2kfra8p0\\localcache\\local-packages\\python312\\site-packages (0.1.5)\n",
      "Requirement already satisfied: pathfinding in c:\\users\\id140\\appdata\\local\\packages\\pythonsoftwarefoundation.python.3.12_qbz5n2kfra8p0\\localcache\\local-packages\\python312\\site-packages (1.0.11)\n",
      "Requirement already satisfied: owlready2 in c:\\users\\id140\\appdata\\local\\packages\\pythonsoftwarefoundation.python.3.12_qbz5n2kfra8p0\\localcache\\local-packages\\python312\\site-packages (0.47)\n",
      "Requirement already satisfied: requests in c:\\users\\id140\\appdata\\local\\packages\\pythonsoftwarefoundation.python.3.12_qbz5n2kfra8p0\\localcache\\local-packages\\python312\\site-packages (2.32.3)\n",
      "Requirement already satisfied: numpy>=1.19 in c:\\users\\id140\\appdata\\local\\packages\\pythonsoftwarefoundation.python.3.12_qbz5n2kfra8p0\\localcache\\local-packages\\python312\\site-packages (from agentpy) (2.1.2)\n",
      "Requirement already satisfied: scipy>=1.5.2 in c:\\users\\id140\\appdata\\local\\packages\\pythonsoftwarefoundation.python.3.12_qbz5n2kfra8p0\\localcache\\local-packages\\python312\\site-packages (from agentpy) (1.14.1)\n",
      "Requirement already satisfied: matplotlib>=3.3.3 in c:\\users\\id140\\appdata\\local\\packages\\pythonsoftwarefoundation.python.3.12_qbz5n2kfra8p0\\localcache\\local-packages\\python312\\site-packages (from agentpy) (3.9.2)\n",
      "Requirement already satisfied: networkx>=2.5 in c:\\users\\id140\\appdata\\local\\packages\\pythonsoftwarefoundation.python.3.12_qbz5n2kfra8p0\\localcache\\local-packages\\python312\\site-packages (from agentpy) (3.4.2)\n",
      "Requirement already satisfied: pandas>=1.1.3 in c:\\users\\id140\\appdata\\local\\packages\\pythonsoftwarefoundation.python.3.12_qbz5n2kfra8p0\\localcache\\local-packages\\python312\\site-packages (from agentpy) (2.2.3)\n",
      "Requirement already satisfied: SALib>=1.3.7 in c:\\users\\id140\\appdata\\local\\packages\\pythonsoftwarefoundation.python.3.12_qbz5n2kfra8p0\\localcache\\local-packages\\python312\\site-packages (from agentpy) (1.5.1)\n",
      "Requirement already satisfied: joblib>=1.1.0 in c:\\users\\id140\\appdata\\local\\packages\\pythonsoftwarefoundation.python.3.12_qbz5n2kfra8p0\\localcache\\local-packages\\python312\\site-packages (from agentpy) (1.4.2)\n",
      "Requirement already satisfied: charset-normalizer<4,>=2 in c:\\users\\id140\\appdata\\local\\packages\\pythonsoftwarefoundation.python.3.12_qbz5n2kfra8p0\\localcache\\local-packages\\python312\\site-packages (from requests) (3.4.0)\n",
      "Requirement already satisfied: idna<4,>=2.5 in c:\\users\\id140\\appdata\\local\\packages\\pythonsoftwarefoundation.python.3.12_qbz5n2kfra8p0\\localcache\\local-packages\\python312\\site-packages (from requests) (3.10)\n",
      "Requirement already satisfied: urllib3<3,>=1.21.1 in c:\\users\\id140\\appdata\\local\\packages\\pythonsoftwarefoundation.python.3.12_qbz5n2kfra8p0\\localcache\\local-packages\\python312\\site-packages (from requests) (2.2.3)\n",
      "Requirement already satisfied: certifi>=2017.4.17 in c:\\users\\id140\\appdata\\local\\packages\\pythonsoftwarefoundation.python.3.12_qbz5n2kfra8p0\\localcache\\local-packages\\python312\\site-packages (from requests) (2024.8.30)\n",
      "Requirement already satisfied: contourpy>=1.0.1 in c:\\users\\id140\\appdata\\local\\packages\\pythonsoftwarefoundation.python.3.12_qbz5n2kfra8p0\\localcache\\local-packages\\python312\\site-packages (from matplotlib>=3.3.3->agentpy) (1.3.0)\n",
      "Requirement already satisfied: cycler>=0.10 in c:\\users\\id140\\appdata\\local\\packages\\pythonsoftwarefoundation.python.3.12_qbz5n2kfra8p0\\localcache\\local-packages\\python312\\site-packages (from matplotlib>=3.3.3->agentpy) (0.12.1)\n",
      "Requirement already satisfied: fonttools>=4.22.0 in c:\\users\\id140\\appdata\\local\\packages\\pythonsoftwarefoundation.python.3.12_qbz5n2kfra8p0\\localcache\\local-packages\\python312\\site-packages (from matplotlib>=3.3.3->agentpy) (4.54.1)\n",
      "Requirement already satisfied: kiwisolver>=1.3.1 in c:\\users\\id140\\appdata\\local\\packages\\pythonsoftwarefoundation.python.3.12_qbz5n2kfra8p0\\localcache\\local-packages\\python312\\site-packages (from matplotlib>=3.3.3->agentpy) (1.4.7)\n",
      "Requirement already satisfied: packaging>=20.0 in c:\\users\\id140\\appdata\\local\\packages\\pythonsoftwarefoundation.python.3.12_qbz5n2kfra8p0\\localcache\\local-packages\\python312\\site-packages (from matplotlib>=3.3.3->agentpy) (24.1)\n",
      "Requirement already satisfied: pillow>=8 in c:\\users\\id140\\appdata\\local\\packages\\pythonsoftwarefoundation.python.3.12_qbz5n2kfra8p0\\localcache\\local-packages\\python312\\site-packages (from matplotlib>=3.3.3->agentpy) (11.0.0)\n",
      "Requirement already satisfied: pyparsing>=2.3.1 in c:\\users\\id140\\appdata\\local\\packages\\pythonsoftwarefoundation.python.3.12_qbz5n2kfra8p0\\localcache\\local-packages\\python312\\site-packages (from matplotlib>=3.3.3->agentpy) (3.2.0)\n",
      "Requirement already satisfied: python-dateutil>=2.7 in c:\\users\\id140\\appdata\\local\\packages\\pythonsoftwarefoundation.python.3.12_qbz5n2kfra8p0\\localcache\\local-packages\\python312\\site-packages (from matplotlib>=3.3.3->agentpy) (2.9.0.post0)\n",
      "Requirement already satisfied: pytz>=2020.1 in c:\\users\\id140\\appdata\\local\\packages\\pythonsoftwarefoundation.python.3.12_qbz5n2kfra8p0\\localcache\\local-packages\\python312\\site-packages (from pandas>=1.1.3->agentpy) (2024.2)\n",
      "Requirement already satisfied: tzdata>=2022.7 in c:\\users\\id140\\appdata\\local\\packages\\pythonsoftwarefoundation.python.3.12_qbz5n2kfra8p0\\localcache\\local-packages\\python312\\site-packages (from pandas>=1.1.3->agentpy) (2024.2)\n",
      "Requirement already satisfied: multiprocess in c:\\users\\id140\\appdata\\local\\packages\\pythonsoftwarefoundation.python.3.12_qbz5n2kfra8p0\\localcache\\local-packages\\python312\\site-packages (from SALib>=1.3.7->agentpy) (0.70.17)\n",
      "Requirement already satisfied: six>=1.5 in c:\\users\\id140\\appdata\\local\\packages\\pythonsoftwarefoundation.python.3.12_qbz5n2kfra8p0\\localcache\\local-packages\\python312\\site-packages (from python-dateutil>=2.7->matplotlib>=3.3.3->agentpy) (1.16.0)\n",
      "Requirement already satisfied: dill>=0.3.9 in c:\\users\\id140\\appdata\\local\\packages\\pythonsoftwarefoundation.python.3.12_qbz5n2kfra8p0\\localcache\\local-packages\\python312\\site-packages (from multiprocess->SALib>=1.3.7->agentpy) (0.3.9)\n"
     ]
    }
   ],
   "source": [
    "!pip install agentpy pathfinding owlready2 requests"
   ]
  },
  {
   "cell_type": "code",
   "execution_count": 218,
   "metadata": {
    "id": "wwjch697D0kA"
   },
   "outputs": [],
   "source": [
    "import agentpy as ap\n",
    "import pathfinding as pf        #use pathfinding algorithms for the agent's plan\n",
    "import matplotlib.pyplot as plt\n",
    "from owlready2 import *\n",
    "import itertools\n",
    "import random\n",
    "import IPython\n",
    "import math\n",
    "import requests"
   ]
  },
  {
   "cell_type": "markdown",
   "metadata": {
    "id": "veIPF7AOEMVX"
   },
   "source": [
    "## 1. Defining Ontology"
   ]
  },
  {
   "cell_type": "code",
   "execution_count": 219,
   "metadata": {
    "id": "9GaZv_6qEO7L"
   },
   "outputs": [],
   "source": [
    "# THIS CELL MUST NOT BE EXECUTED TWICE\n",
    "# If we need to execute this cell again you can do it deleting the ontology as follows:\n",
    "#onto.destroy(update_relation = True, update_is_a = True)\n",
    "\n",
    "#Ontology name and path\n",
    "onto = get_ontology(\"file:///content/coin_onto.owl\")"
   ]
  },
  {
   "cell_type": "code",
   "execution_count": 220,
   "metadata": {
    "colab": {
     "base_uri": "https://localhost:8080/",
     "height": 36
    },
    "id": "QETMY5wGEbYa",
    "outputId": "26d46261-c492-423d-8f30-6d012d629ef5"
   },
   "outputs": [
    {
     "data": {
      "text/plain": [
       "\"Ontology defined and saved as 'drone_security_ontology.owl'.\""
      ]
     },
     "execution_count": 220,
     "metadata": {},
     "output_type": "execute_result"
    }
   ],
   "source": [
    "# Opening the ontology\n",
    "with onto:\n",
    "    # Define core classes\n",
    "    class Entity(Thing):\n",
    "        \"\"\"Superclass for all entities.\"\"\"\n",
    "        pass\n",
    "\n",
    "    class Drone(Entity):\n",
    "        \"\"\"Represents the surveillance drone.\"\"\"\n",
    "        pass\n",
    "\n",
    "    class Camera(Entity):\n",
    "        \"\"\"Represents a fixed surveillance camera.\"\"\"\n",
    "        pass\n",
    "\n",
    "    class Robber(Entity):\n",
    "        \"\"\"Represents a potentially suspicious individual.\"\"\"\n",
    "        pass\n",
    "\n",
    "    class SecurityPersonnel(Entity):\n",
    "        \"\"\"Represents a security team member.\"\"\"\n",
    "        pass\n",
    "\n",
    "    class Place(Thing):\n",
    "        \"\"\"Represents a specific area or position.\"\"\"\n",
    "        pass\n",
    "\n",
    "    # Define relationships (Object Properties)\n",
    "    class is_in_place(ObjectProperty):\n",
    "        \"\"\"Links an entity to a position (Place).\"\"\"\n",
    "        domain = [Entity]\n",
    "        range = [Place]\n",
    "\n",
    "    class at_position(DataProperty,FunctionalProperty):\n",
    "        \"\"\" Specifies the position of a Place \"\"\"\n",
    "        domain = [Place]\n",
    "        range = [str]\n",
    "        pass\n",
    "\n",
    "    class detects_suspicion(ObjectProperty):\n",
    "        \"\"\"Links a camera or drone to a suspicious entity.\"\"\"\n",
    "        domain = [Camera, Drone]\n",
    "        range = [Robber]\n",
    "\n",
    "    class alerts(ObjectProperty):\n",
    "        \"\"\"Links a camera to a drone or security personnel.\"\"\"\n",
    "        domain = [Camera]\n",
    "        range = [Drone, SecurityPersonnel] # NO CAMERA - > security\n",
    "\n",
    "    class patrolled_by(ObjectProperty):\n",
    "        \"\"\"Links a place to a drone patrolling it.\"\"\"\n",
    "        domain = [Place]\n",
    "        range = [Drone]\n",
    "\n",
    "    class status(DataProperty, FunctionalProperty):\n",
    "        \"\"\"Indicates the status of an entity.\"\"\"\n",
    "        domain = [Entity]\n",
    "        range = [str]\n",
    "\n",
    "# Save the ontology\n",
    "onto.save(file=\"drone_security_ontology.owl\")\n",
    "\n",
    "# Confirmation\n",
    "\"Ontology defined and saved as 'drone_security_ontology.owl'.\""
   ]
  },
  {
   "cell_type": "markdown",
   "metadata": {
    "id": "b0kzRx3IRltw"
   },
   "source": [
    "## 2. Define agents classes and behaviour"
   ]
  },
  {
   "cell_type": "markdown",
   "metadata": {
    "id": "DimwRAscTTpo"
   },
   "source": [
    "### Drone"
   ]
  },
  {
   "cell_type": "code",
   "execution_count": 221,
   "metadata": {
    "id": "RBpntbbNIVFg"
   },
   "outputs": [],
   "source": [
    "def send_position(agent_type, position):\n",
    "    url = 'http://localhost:5000/update_position'\n",
    "    payload = {\n",
    "        'agent_type': agent_type,\n",
    "        'position': position\n",
    "    }\n",
    "    try:\n",
    "        response = requests.post(url, json=payload)\n",
    "        if response.status_code == 200:\n",
    "            print(f\"{agent_type} position sent successfully.\")\n",
    "        else:\n",
    "            print(f\"Failed to send {agent_type} position.\")\n",
    "    except requests.exceptions.ConnectionError:\n",
    "        print(\"Failed to connect to the Flask server.\")\n",
    "\n",
    "class DroneAgent(ap.Agent):\n",
    "    \"\"\"Represents a surveillance drone with BDI architecture.\"\"\"\n",
    "\n",
    "    def setup(self):\n",
    "        \"\"\"Initialize the drone's attributes.\"\"\"\n",
    "        self.beliefs = None  # Current robber belief\n",
    "        self.intention = None  # Current goal\n",
    "        self.plan_steps = []  # Steps to achieve the goal\n",
    "        self.intention_succeeded = True  # Whether the current intention is complete\n",
    "        self.patrol_mode = False  # Whether the drone is patrolling\n",
    "        self.agent_type = 0  # For visualization\n",
    "        self.landing_position = None  # The fixed landing station\n",
    "\n",
    "    def send_alert_to_security(self):\n",
    "        \"\"\"Send an alert to the SecurityPersonnelAgent.\"\"\"\n",
    "        if self.beliefs:\n",
    "            robber_position = eval(self.beliefs.is_in_place[0].at_position)\n",
    "            alert = {\n",
    "                'type': 'drone_signal',\n",
    "                'drone': self,\n",
    "                'location': robber_position\n",
    "            }\n",
    "            self.model.alerts.append(alert)\n",
    "            print(f\"Drone sent a signal to security: Robber detected at {robber_position}.\")\n",
    "\n",
    "    def process_camera_alerts(self):\n",
    "        \"\"\"Processes alerts from cameras and verifies the robber's presence.\"\"\"\n",
    "        for alert in self.model.alerts[:]:  # Iterate over a copy to allow safe removal\n",
    "            if 'type' in alert and alert['type'] == 'camera_signal':  # Check if 'type' exists\n",
    "                print(f\"Drone received camera alert: Robber at {alert['location']}.\")\n",
    "                self.intention = 'verify_camera_alert'\n",
    "                self.plan_steps = self.plan_to(alert['location'])\n",
    "                self.model.alerts.remove(alert)\n",
    "\n",
    "    def plan_to(self, target_position):\n",
    "        \"\"\"Creates a plan (sequence of movements) to a specified target.\"\"\"\n",
    "        current_position = self.model.grid.positions[self]\n",
    "        dx = target_position[0] - current_position[0]\n",
    "        dy = target_position[1] - current_position[1]\n",
    "\n",
    "        plan = []\n",
    "\n",
    "        # Crée des pas combinés jusqu'à ce que l'un des axes atteigne la cible\n",
    "        while dx != 0 and dy != 0:\n",
    "            step_x = 1 if dx > 0 else -1\n",
    "            step_y = 1 if dy > 0 else -1\n",
    "            plan.append((step_x, step_y))\n",
    "            dx -= step_x\n",
    "            dy -= step_y\n",
    "\n",
    "        # Ajoute les pas restants uniquement en x si nécessaire\n",
    "        while dx != 0:\n",
    "            step_x = 1 if dx > 0 else -1\n",
    "            plan.append((step_x, 0))\n",
    "            dx -= step_x\n",
    "\n",
    "        # Ajoute les pas restants uniquement en y si nécessaire\n",
    "        while dy != 0:\n",
    "            step_y = 1 if dy > 0 else -1\n",
    "            plan.append((0, step_y))\n",
    "            dy -= step_y\n",
    "\n",
    "        return plan\n",
    "\n",
    "\n",
    "    def land(self):\n",
    "        \"\"\"Simulates the drone landing at the station.\"\"\"\n",
    "        if self.model.grid.positions[self] != self.landing_position:\n",
    "            print(f\"Drone returning to its landing position at {self.landing_position}.\")\n",
    "            self.plan_steps = self.plan_to(self.landing_position)\n",
    "        else:\n",
    "            self.patrol_mode = False\n",
    "            print(f\"Drone has landed safely at {self.landing_position}.\")\n",
    "\n",
    "    def takeoff(self):\n",
    "        \"\"\"Simulates the drone taking off from the landing station.\"\"\"\n",
    "        self.patrol_mode = True\n",
    "        print(f\"Drone is taking off from {self.landing_position} and starting patrol.\")\n",
    "\n",
    "    def see(self, environment):\n",
    "        \"\"\"Perception: Detects the robber within range.\"\"\"\n",
    "        detection_range = 10\n",
    "        detected_robber = next(\n",
    "            (entity for entity in environment.neighbors(self, distance=detection_range)\n",
    "             if isinstance(entity, Robber)),\n",
    "            None\n",
    "        )\n",
    "        return detected_robber\n",
    "\n",
    "    def brf(self, detected_robber):\n",
    "        \"\"\"Belief Revision Function: Updates the belief system based on perceptions.\"\"\"\n",
    "        self.destroy_previous_beliefs()\n",
    "        if detected_robber:\n",
    "            current_position = self.model.grid.positions[detected_robber]\n",
    "            detected_robber.is_in_place = [Place(at_position=str(current_position))]\n",
    "            self.beliefs = detected_robber\n",
    "\n",
    "    def destroy_previous_beliefs(self):\n",
    "        \"\"\"Clears the drone's current belief system.\"\"\"\n",
    "        if self.beliefs:\n",
    "            if hasattr(self.beliefs, 'is_in_place') and self.beliefs.is_in_place:\n",
    "                destroy_entity(self.beliefs.is_in_place[0])\n",
    "            destroy_entity(self.beliefs)\n",
    "            self.beliefs = None\n",
    "\n",
    "    def execute_plan(self):\n",
    "        \"\"\"Executes the current plan by taking one step at a time.\"\"\"\n",
    "        if self.plan_steps:\n",
    "            next_step = self.plan_steps.pop(0)\n",
    "            self.model.grid.move_by(self, next_step)\n",
    "            print(f\"Drone moved to {self.model.grid.positions[self]}.\")\n",
    "        else:\n",
    "            self.intention_succeeded = True\n",
    "            print(\"Drone has completed its current plan.\")\n",
    "\n",
    "    def take_random_step(self):\n",
    "        \"\"\"Makes small random steps to patrol.\"\"\"\n",
    "        directions = [(1, 0), (-1, 0), (0, 1), (0, -1)]\n",
    "        step = random.choice(directions)\n",
    "        new_position = (\n",
    "            self.model.grid.positions[self][0] + step[0],\n",
    "            self.model.grid.positions[self][1] + step[1]\n",
    "        )\n",
    "        if 0 <= new_position[0] < self.model.p.worldSize[0] and 0 <= new_position[1] < self.model.p.worldSize[1]:\n",
    "            self.model.grid.move_by(self, step)\n",
    "            print(f\"Drone moved to {new_position}.\")\n",
    "\n",
    "    def step(self):\n",
    "        \"\"\"The main drone logic for a single simulation step.\"\"\"\n",
    "        position = self.model.grid.positions[self]\n",
    "        send_position('Drone', position)\n",
    "        # Step 1: Take off if not patrolling\n",
    "        if not self.patrol_mode:\n",
    "            self.takeoff()\n",
    "\n",
    "        # Step 2: Process camera alerts\n",
    "        self.process_camera_alerts()\n",
    "        if self.intention == 'verify_camera_alert':\n",
    "            self.execute_plan()\n",
    "            return\n",
    "\n",
    "        # Step 3: Direct detection of robbers\n",
    "        detected_robber = self.see(self.model.grid)\n",
    "        if detected_robber:\n",
    "            self.brf(detected_robber)\n",
    "            self.send_alert_to_security()\n",
    "            self.plan_steps = self.plan_to(eval(self.beliefs.is_in_place[0].at_position))\n",
    "            self.execute_plan()\n",
    "            return\n",
    "\n",
    "        # Step 4: Check if the drone is at the same position as the robber\n",
    "        if self.beliefs and self.model.grid.positions[self] == eval(self.beliefs.is_in_place[0].at_position):\n",
    "            print(f\"Drone captured the robber at {self.model.grid.positions[self]}!\")\n",
    "            self.model.grid.remove_agents(self.beliefs)  # Remove the robber\n",
    "            self.beliefs = None  # Clear belief about the robber\n",
    "            self.plan_steps = self.plan_to(self.landing_position)  # Plan to return to base\n",
    "            self.execute_plan()\n",
    "            return\n",
    "\n",
    "        # Step 5: Continue patrolling if no active tasks\n",
    "        if not self.plan_steps and not self.beliefs:\n",
    "            self.take_random_step()  # Random patrol movement\n",
    "            self.execute_plan()\n",
    "\n",
    "        # Step 6: Land if patrolling is complete\n",
    "        if not self.plan_steps and not self.beliefs:\n",
    "            self.land()\n",
    "\n",
    "\n"
   ]
  },
  {
   "cell_type": "markdown",
   "metadata": {
    "id": "YXTJ4okKTW5R"
   },
   "source": [
    "### Camera"
   ]
  },
  {
   "cell_type": "code",
   "execution_count": 222,
   "metadata": {
    "id": "qskUv1UZqtAn"
   },
   "outputs": [],
   "source": [
    "class CameraAgent(ap.Agent):\n",
    "    \"\"\"Represents a stationary surveillance camera.\"\"\"\n",
    "\n",
    "    def setup(self):\n",
    "        \"\"\"Initialize the camera's attributes.\"\"\"\n",
    "        self.detection_range = 18  # Larger range than the drone\n",
    "        self.alerts_sent = 0  # Tracks the number of alerts sent\n",
    "        self.agent_type = 1  # Unique type identifier for visualization\n",
    "        \n",
    "\n",
    "    def detect_robber(self):\n",
    "        \"\"\"Detects the robber within the camera's perception range.\"\"\"\n",
    "        # use neighbors() to find all agents within the specified range\n",
    "        detected_robber = next(\n",
    "            (entity for entity in self.model.grid.neighbors(self, distance=self.detection_range)\n",
    "             if isinstance(entity, Robber)),\n",
    "            None  # Default to None if no robber is detected\n",
    "        )\n",
    "        return detected_robber\n",
    "\n",
    "    def send_alert(self, robber):\n",
    "        \"\"\"Sends an alert to the drone with the robber's location.\"\"\"\n",
    "        robber_position = self.model.grid.positions[robber]\n",
    "        alert = {'type': 'camera_signal',\n",
    "                 'camera' : self,\n",
    "                 'location': robber_position}\n",
    "        self.model.alerts.append(alert)  # Add the alert to the model's alert system\n",
    "        self.alerts_sent += 1\n",
    "        print(f\"Camera at {self.model.grid.positions[self]} sent an alert: Robber detected at {robber_position}\")\n",
    "\n",
    "    def step(self):\n",
    "       \n",
    "        \"\"\"Defines the camera's behavior per simulation step.\"\"\"\n",
    "        detected_robber = self.detect_robber()\n",
    "        if detected_robber:\n",
    "            self.send_alert(detected_robber)\n"
   ]
  },
  {
   "cell_type": "markdown",
   "metadata": {
    "id": "6au7ISEdTZA7"
   },
   "source": [
    "### Robber"
   ]
  },
  {
   "cell_type": "code",
   "execution_count": 223,
   "metadata": {
    "id": "46AmaYPkdewS"
   },
   "outputs": [],
   "source": [
    "class Robber(ap.Agent):\n",
    "    \"\"\"Represents a suspicious entity (robber) in the environment.\"\"\"\n",
    "\n",
    "    def setup(self):\n",
    "        \"\"\"Initialize the robber's attributes.\"\"\"\n",
    "        # No need for separate suspicious behavior\n",
    "        self.agent_type = 2  # Unique type identifier for visualization\n",
    "\n",
    "    def move_randomly(self):\n",
    "        \"\"\"Moves the robber randomly within the grid.\"\"\"\n",
    "        directions = [(1, 0), (-1, 0), (0, 1), (0, -1), (0, 0)]  # Including staying in place\n",
    "        step = random.choice(directions)\n",
    "        self.model.grid.move_by(self, step)\n",
    "\n",
    "    def step(self):\n",
    "        position = self.model.grid.positions[self]\n",
    "        send_position('Robber', position)\n",
    "        \"\"\"Defines the robber's behavior per simulation step.\"\"\"\n",
    "        self.move_randomly()\n"
   ]
  },
  {
   "cell_type": "markdown",
   "metadata": {
    "id": "5ylZyS9BTcat"
   },
   "source": [
    "### Security"
   ]
  },
  {
   "cell_type": "code",
   "execution_count": 224,
   "metadata": {
    "id": "-72A3l2fsBCt"
   },
   "outputs": [],
   "source": [
    "class SecurityPersonnelAgent(ap.Agent):\n",
    "    \"\"\"Represents security personnel responsible for simulated control of the drone.\"\"\"\n",
    "\n",
    "    def setup(self):\n",
    "        \"\"\"Initialize the agent's attributes.\"\"\"\n",
    "        self.in_communication = False  # Whether communication with the drone is active\n",
    "        self.alert_handled = False  # Tracks whether the current alert has been addressed\n",
    "        self.agent_type = 3  # Unique type identifier for visualization\n",
    "\n",
    "    def respond_to_drone_signal(self, drone, robber_position):\n",
    "        \"\"\"\n",
    "        Simulates taking control of the drone by communicating with it.\n",
    "\n",
    "        Args:\n",
    "            drone (DroneAgent): The drone requesting assistance.\n",
    "            robber_position (tuple): The location of the detected robber.\n",
    "        \"\"\"\n",
    "        print(f\"Security personnel are communicating with the drone at {robber_position}.\")\n",
    "        self.in_communication = True\n",
    "        self.confirm_robber(drone, robber_position)\n",
    "\n",
    "    def confirm_robber(self, drone, robber_position):\n",
    "        \"\"\"\n",
    "        Confirms the presence of the robber and issues a general alarm.\n",
    "\n",
    "        Args:\n",
    "            drone (DroneAgent): The drone currently under simulated control.\n",
    "            robber_position (tuple): The location of the detected robber.\n",
    "        \"\"\"\n",
    "        print(f\"Robber confirmed at {robber_position}. Issuing a general alarm.\")\n",
    "        self.simulate_general_alarm(drone)\n",
    "\n",
    "    def simulate_general_alarm(self, drone):\n",
    "        \"\"\"Simulates issuing a general alarm.\"\"\"\n",
    "        print(\"General alarm issued. Security personnel have resolved the alert.\")\n",
    "        self.in_communication = False\n",
    "        self.alert_handled = True\n",
    "        drone.receive_command(\"alert_resolved\")  # Simulated command to drone\n",
    "\n",
    "    def step(self):\n",
    "        \"\"\"\n",
    "        Defines the agent's behavior per simulation step.\n",
    "        Reacts only if an alert is present and the drone signals for assistance.\n",
    "        \"\"\"\n",
    "        position = self.model.grid.positions[self]\n",
    "        send_position('SecurityPersonnel', position)\n",
    "        if not self.in_communication and not self.alert_handled:\n",
    "            # Check if the drone has sent a signal for help\n",
    "            for alert in self.model.alerts[:]:\n",
    "                if 'type' not in alert:\n",
    "                    print(f\"Malformed alert: {alert}\")\n",
    "                    self.model.alerts.remove(alert)  # Remove invalid alerts\n",
    "                    continue\n",
    "\n",
    "                if alert['type'] == 'drone_signal':\n",
    "                    self.respond_to_drone_signal(alert['drone'], alert['location'])\n",
    "                    self.model.alerts.remove(alert)  # Remove the alert after handling\n"
   ]
  },
  {
   "cell_type": "markdown",
   "metadata": {
    "id": "iPlqoeBaqj0J"
   },
   "source": [
    "## Additional functions"
   ]
  },
  {
   "cell_type": "markdown",
   "metadata": {
    "id": "m4uPF-SUfV49"
   },
   "source": [
    "Destroy Beliefs"
   ]
  },
  {
   "cell_type": "code",
   "execution_count": 225,
   "metadata": {
    "id": "zoAttPsYdGs4"
   },
   "outputs": [],
   "source": [
    "def destroy_previous_beliefs(self):\n",
    "    \"\"\"Clears outdated beliefs and their associated ontology entities.\"\"\"\n",
    "    for belief in self.beliefs:\n",
    "        destroy_entity(belief.is_in_place[0])  # Destroy associated Place\n",
    "        destroy_entity(belief)  # Destroy the belief itself (e.g., Robber)\n",
    "    self.beliefs.clear()  # Reset beliefs list\n"
   ]
  },
  {
   "cell_type": "markdown",
   "metadata": {
    "id": "mZHWN9Pnpj0c"
   },
   "source": [
    "Move the agents thanks to a move_by function."
   ]
  },
  {
   "cell_type": "code",
   "execution_count": 226,
   "metadata": {
    "id": "eA9YC0hspjH2"
   },
   "outputs": [],
   "source": [
    "def move_by(agent, step):\n",
    "    \"\"\"\n",
    "    Moves the agent by the specified step on the grid.\n",
    "\n",
    "    Args:\n",
    "        agent (ap.Agent): The agent to move.\n",
    "        step (tuple): The step to move, e.g., (1, 0) for right or (0, -1) for down.\n",
    "    \"\"\"\n",
    "    current_position = agent.model.grid.positions[agent]\n",
    "    new_position = (current_position[0] + step[0], current_position[1] + step[1])\n",
    "\n",
    "    # Ensure the new position is within grid boundaries\n",
    "    if agent.model.grid.is_within_bounds(new_position):\n",
    "        agent.model.grid.move_to(agent, new_position)\n"
   ]
  },
  {
   "cell_type": "markdown",
   "metadata": {
    "id": "-jTkmLbzuKRa"
   },
   "source": [
    "## Simulation"
   ]
  },
  {
   "cell_type": "code",
   "execution_count": 227,
   "metadata": {
    "id": "bOUBnlMCuMXf"
   },
   "outputs": [],
   "source": [
    "class SurveillanceModel(ap.Model):\n",
    "    def setup(self):\n",
    "        \"\"\"Initialize the simulation with agents and a shared environment.\"\"\"\n",
    "        # Retrieve parameters\n",
    "        world_size = self.p.worldSize\n",
    "        drone_count = self.p.droneAgents\n",
    "        camera_count = self.p.cameraAgents\n",
    "        robber_count = self.p.robberAgents\n",
    "\n",
    "        # Create agents using ap.AgentList\n",
    "        self.drone = ap.AgentList(self, drone_count, DroneAgent)\n",
    "        self.cameras = ap.AgentList(self, camera_count, CameraAgent)\n",
    "        self.robber = ap.AgentList(self, robber_count, Robber)\n",
    "        self.security = ap.AgentList(self, 1, SecurityPersonnelAgent)\n",
    "\n",
    "        # Create a grid\n",
    "        self.grid = ap.Grid(self, world_size, track_empty=True)\n",
    "\n",
    "        # Place agents on the grid\n",
    "        self.grid.add_agents(self.drone, positions=[(world_size[0] // 2, world_size[1] // 2)])  # Drone at center\n",
    "        self.grid.add_agents(self.robber, random=True)  # Place robber randomly\n",
    "        self.grid.add_agents(self.cameras, random=True)  # Place cameras randomly\n",
    "        self.grid.add_agents(self.security, positions=[(5, 5)])  # Fixed position for security personnel\n",
    "\n",
    "        # Initialize landing position for the drones\n",
    "        for drone in self.drone:\n",
    "            drone.landing_position = (world_size[0] // 2, world_size[1] // 2)\n",
    "\n",
    "        # Create a shared alert system\n",
    "        self.alerts = []\n",
    "\n",
    "    def step(self):\n",
    "        \"\"\"Run the simulation for one step.\"\"\"\n",
    "        # Call the step method for each type of agent\n",
    "        self.robber.step()\n",
    "        self.cameras.step()\n",
    "        self.drone.step()\n",
    "        self.security.step()\n",
    "\n",
    "    def update(self):\n",
    "        \"\"\"Update data or visualization after each step.\"\"\"\n",
    "        pass\n",
    "\n",
    "    def end(self):\n",
    "        \"\"\"Finalize the simulation.\"\"\"\n",
    "        print(\"Simulation completed!\")\n",
    "\n"
   ]
  },
  {
   "cell_type": "code",
   "execution_count": 228,
   "metadata": {
    "id": "qpjVH1poCFDj"
   },
   "outputs": [],
   "source": [
    "def animation_plot(model, ax):\n",
    "    \"\"\"Visualizes the grid and agent types.\"\"\"\n",
    "    # Use attr_grid to get agent_type for each grid cell\n",
    "    agent_type_grid = model.grid.attr_grid('agent_type')\n",
    "    ap.gridplot(agent_type_grid, cmap='Accent', ax=ax)\n",
    "    ax.set_title(f\"Surveillance Simulation \\n Time-step: {model.t}\")\n"
   ]
  },
  {
   "cell_type": "code",
   "execution_count": 229,
   "metadata": {
    "id": "lYWsPp89uRS4"
   },
   "outputs": [],
   "source": [
    "# Parameters\n",
    "parameters = {\n",
    "    \"droneAgents\": 1,         # Number of drones\n",
    "    \"cameraAgents\": 3,        # Number of cameras\n",
    "    \"robberAgents\": 1,        # Number of robbers\n",
    "    \"worldSize\": (100, 100),    # Grid size (width, height)\n",
    "    \"steps\": 50,              # Maximum steps\n",
    "    \"seed\": 16               # Random seed for reproducibility\n",
    "}\n",
    "\n"
   ]
  },
  {
   "cell_type": "code",
   "execution_count": 230,
   "metadata": {
    "colab": {
     "base_uri": "https://localhost:8080/",
     "height": 1000
    },
    "collapsed": true,
    "id": "KZY1YRQ8dvKx",
    "outputId": "1f95f535-816f-47df-fe31-fdfde4bb114a"
   },
   "outputs": [
    {
     "name": "stdout",
     "output_type": "stream",
     "text": [
      "Robber position sent successfully.\n",
      "Camera at (44, 67) sent an alert: Robber detected at (42, 69)\n",
      "Drone position sent successfully.\n",
      "Drone is taking off from (50, 50) and starting patrol.\n",
      "Drone received camera alert: Robber at (42, 69).\n",
      "Drone moved to (49, 51).\n",
      "SecurityPersonnel position sent successfully.\n",
      "Robber position sent successfully.\n",
      "Camera at (44, 67) sent an alert: Robber detected at (43, 69)\n",
      "Drone position sent successfully.\n",
      "Drone received camera alert: Robber at (43, 69).\n",
      "Drone moved to (48, 52).\n",
      "SecurityPersonnel position sent successfully.\n",
      "Robber position sent successfully.\n",
      "Camera at (44, 67) sent an alert: Robber detected at (43, 68)\n",
      "Drone position sent successfully.\n",
      "Drone received camera alert: Robber at (43, 68).\n",
      "Drone moved to (47, 53).\n",
      "SecurityPersonnel position sent successfully.\n",
      "Robber position sent successfully.\n",
      "Camera at (44, 67) sent an alert: Robber detected at (42, 68)\n",
      "Drone position sent successfully.\n",
      "Drone received camera alert: Robber at (42, 68).\n",
      "Drone moved to (46, 54).\n",
      "SecurityPersonnel position sent successfully.\n",
      "Robber position sent successfully.\n",
      "Camera at (44, 67) sent an alert: Robber detected at (42, 69)\n",
      "Drone position sent successfully.\n",
      "Drone received camera alert: Robber at (42, 69).\n",
      "Drone moved to (45, 55).\n",
      "SecurityPersonnel position sent successfully.\n",
      "Robber position sent successfully.\n",
      "Camera at (44, 67) sent an alert: Robber detected at (41, 69)\n",
      "Drone position sent successfully.\n",
      "Drone received camera alert: Robber at (41, 69).\n",
      "Drone moved to (44, 56).\n",
      "SecurityPersonnel position sent successfully.\n",
      "Robber position sent successfully.\n",
      "Camera at (44, 67) sent an alert: Robber detected at (40, 69)\n",
      "Drone position sent successfully.\n",
      "Drone received camera alert: Robber at (40, 69).\n",
      "Drone moved to (43, 57).\n",
      "SecurityPersonnel position sent successfully.\n",
      "Robber position sent successfully.\n",
      "Camera at (44, 67) sent an alert: Robber detected at (41, 69)\n",
      "Drone position sent successfully.\n",
      "Drone received camera alert: Robber at (41, 69).\n",
      "Drone moved to (42, 58).\n",
      "SecurityPersonnel position sent successfully.\n",
      "Robber position sent successfully.\n",
      "Camera at (44, 67) sent an alert: Robber detected at (42, 69)\n",
      "Drone position sent successfully.\n",
      "Drone received camera alert: Robber at (42, 69).\n",
      "Drone moved to (42, 59).\n",
      "SecurityPersonnel position sent successfully.\n",
      "Robber position sent successfully.\n",
      "Camera at (44, 67) sent an alert: Robber detected at (41, 69)\n",
      "Drone position sent successfully.\n",
      "Drone received camera alert: Robber at (41, 69).\n",
      "Drone moved to (41, 60).\n",
      "SecurityPersonnel position sent successfully.\n",
      "Robber position sent successfully.\n",
      "Camera at (44, 67) sent an alert: Robber detected at (41, 70)\n",
      "Drone position sent successfully.\n",
      "Drone received camera alert: Robber at (41, 70).\n",
      "Drone moved to (41, 61).\n",
      "SecurityPersonnel position sent successfully.\n",
      "Robber position sent successfully.\n",
      "Camera at (44, 67) sent an alert: Robber detected at (41, 69)\n",
      "Drone position sent successfully.\n",
      "Drone received camera alert: Robber at (41, 69).\n",
      "Drone moved to (41, 62).\n",
      "SecurityPersonnel position sent successfully.\n",
      "Robber position sent successfully.\n",
      "Camera at (44, 67) sent an alert: Robber detected at (41, 68)\n",
      "Drone position sent successfully.\n",
      "Drone received camera alert: Robber at (41, 68).\n",
      "Drone moved to (41, 63).\n",
      "SecurityPersonnel position sent successfully.\n",
      "Robber position sent successfully.\n",
      "Camera at (44, 67) sent an alert: Robber detected at (41, 67)\n",
      "Drone position sent successfully.\n",
      "Drone received camera alert: Robber at (41, 67).\n",
      "Drone moved to (41, 64).\n",
      "SecurityPersonnel position sent successfully.\n",
      "Robber position sent successfully.\n",
      "Camera at (44, 67) sent an alert: Robber detected at (41, 68)\n",
      "Drone position sent successfully.\n",
      "Drone received camera alert: Robber at (41, 68).\n",
      "Drone moved to (41, 65).\n",
      "SecurityPersonnel position sent successfully.\n",
      "Robber position sent successfully.\n",
      "Camera at (44, 67) sent an alert: Robber detected at (41, 67)\n",
      "Drone position sent successfully.\n",
      "Drone received camera alert: Robber at (41, 67).\n",
      "Drone moved to (41, 66).\n",
      "SecurityPersonnel position sent successfully.\n",
      "Robber position sent successfully.\n",
      "Camera at (44, 67) sent an alert: Robber detected at (42, 67)\n",
      "Drone position sent successfully.\n",
      "Drone received camera alert: Robber at (42, 67).\n",
      "Drone moved to (42, 67).\n",
      "SecurityPersonnel position sent successfully.\n",
      "Robber position sent successfully.\n",
      "Camera at (44, 67) sent an alert: Robber detected at (41, 67)\n",
      "Drone position sent successfully.\n",
      "Drone received camera alert: Robber at (41, 67).\n",
      "Drone moved to (41, 67).\n",
      "SecurityPersonnel position sent successfully.\n",
      "Robber position sent successfully.\n",
      "Camera at (44, 67) sent an alert: Robber detected at (41, 68)\n",
      "Drone position sent successfully.\n",
      "Drone received camera alert: Robber at (41, 68).\n",
      "Drone moved to (41, 68).\n",
      "SecurityPersonnel position sent successfully.\n",
      "Robber position sent successfully.\n",
      "Camera at (44, 67) sent an alert: Robber detected at (41, 68)\n",
      "Drone position sent successfully.\n",
      "Drone received camera alert: Robber at (41, 68).\n",
      "Drone has completed its current plan.\n",
      "SecurityPersonnel position sent successfully.\n",
      "Robber position sent successfully.\n",
      "Camera at (44, 67) sent an alert: Robber detected at (42, 68)\n",
      "Drone position sent successfully.\n",
      "Drone received camera alert: Robber at (42, 68).\n",
      "Drone moved to (42, 68).\n",
      "SecurityPersonnel position sent successfully.\n",
      "Robber position sent successfully.\n",
      "Camera at (44, 67) sent an alert: Robber detected at (43, 68)\n"
     ]
    },
    {
     "ename": "KeyboardInterrupt",
     "evalue": "",
     "output_type": "error",
     "traceback": [
      "\u001b[1;31m---------------------------------------------------------------------------\u001b[0m",
      "\u001b[1;31mConnectionRefusedError\u001b[0m                    Traceback (most recent call last)",
      "File \u001b[1;32m~\\AppData\\Local\\Packages\\PythonSoftwareFoundation.Python.3.12_qbz5n2kfra8p0\\LocalCache\\local-packages\\Python312\\site-packages\\urllib3\\util\\connection.py:73\u001b[0m, in \u001b[0;36mcreate_connection\u001b[1;34m(address, timeout, source_address, socket_options)\u001b[0m\n\u001b[0;32m     72\u001b[0m     sock\u001b[38;5;241m.\u001b[39mbind(source_address)\n\u001b[1;32m---> 73\u001b[0m \u001b[43msock\u001b[49m\u001b[38;5;241;43m.\u001b[39;49m\u001b[43mconnect\u001b[49m\u001b[43m(\u001b[49m\u001b[43msa\u001b[49m\u001b[43m)\u001b[49m\n\u001b[0;32m     74\u001b[0m \u001b[38;5;66;03m# Break explicitly a reference cycle\u001b[39;00m\n",
      "\u001b[1;31mConnectionRefusedError\u001b[0m: [WinError 10061] No connection could be made because the target machine actively refused it",
      "\nDuring handling of the above exception, another exception occurred:\n",
      "\u001b[1;31mKeyboardInterrupt\u001b[0m                         Traceback (most recent call last)",
      "Cell \u001b[1;32mIn[230], line 11\u001b[0m\n\u001b[0;32m      8\u001b[0m animation \u001b[38;5;241m=\u001b[39m ap\u001b[38;5;241m.\u001b[39manimate(model, fig, ax, animation_plot)\n\u001b[0;32m     10\u001b[0m \u001b[38;5;66;03m# Display the animation\u001b[39;00m\n\u001b[1;32m---> 11\u001b[0m IPython\u001b[38;5;241m.\u001b[39mdisplay\u001b[38;5;241m.\u001b[39mHTML(\u001b[43manimation\u001b[49m\u001b[38;5;241;43m.\u001b[39;49m\u001b[43mto_jshtml\u001b[49m\u001b[43m(\u001b[49m\u001b[43m)\u001b[49m)\n",
      "File \u001b[1;32m~\\AppData\\Local\\Packages\\PythonSoftwareFoundation.Python.3.12_qbz5n2kfra8p0\\LocalCache\\local-packages\\Python312\\site-packages\\matplotlib\\animation.py:1333\u001b[0m, in \u001b[0;36mAnimation.to_jshtml\u001b[1;34m(self, fps, embed_frames, default_mode)\u001b[0m\n\u001b[0;32m   1329\u001b[0m         path \u001b[38;5;241m=\u001b[39m Path(tmpdir, \u001b[38;5;124m\"\u001b[39m\u001b[38;5;124mtemp.html\u001b[39m\u001b[38;5;124m\"\u001b[39m)\n\u001b[0;32m   1330\u001b[0m         writer \u001b[38;5;241m=\u001b[39m HTMLWriter(fps\u001b[38;5;241m=\u001b[39mfps,\n\u001b[0;32m   1331\u001b[0m                             embed_frames\u001b[38;5;241m=\u001b[39membed_frames,\n\u001b[0;32m   1332\u001b[0m                             default_mode\u001b[38;5;241m=\u001b[39mdefault_mode)\n\u001b[1;32m-> 1333\u001b[0m         \u001b[38;5;28;43mself\u001b[39;49m\u001b[38;5;241;43m.\u001b[39;49m\u001b[43msave\u001b[49m\u001b[43m(\u001b[49m\u001b[38;5;28;43mstr\u001b[39;49m\u001b[43m(\u001b[49m\u001b[43mpath\u001b[49m\u001b[43m)\u001b[49m\u001b[43m,\u001b[49m\u001b[43m \u001b[49m\u001b[43mwriter\u001b[49m\u001b[38;5;241;43m=\u001b[39;49m\u001b[43mwriter\u001b[49m\u001b[43m)\u001b[49m\n\u001b[0;32m   1334\u001b[0m         \u001b[38;5;28mself\u001b[39m\u001b[38;5;241m.\u001b[39m_html_representation \u001b[38;5;241m=\u001b[39m path\u001b[38;5;241m.\u001b[39mread_text()\n\u001b[0;32m   1336\u001b[0m \u001b[38;5;28;01mreturn\u001b[39;00m \u001b[38;5;28mself\u001b[39m\u001b[38;5;241m.\u001b[39m_html_representation\n",
      "File \u001b[1;32m~\\AppData\\Local\\Packages\\PythonSoftwareFoundation.Python.3.12_qbz5n2kfra8p0\\LocalCache\\local-packages\\Python312\\site-packages\\matplotlib\\animation.py:1082\u001b[0m, in \u001b[0;36mAnimation.save\u001b[1;34m(self, filename, writer, fps, dpi, codec, bitrate, extra_args, metadata, extra_anim, savefig_kwargs, progress_callback)\u001b[0m\n\u001b[0;32m   1080\u001b[0m \u001b[38;5;28;01melse\u001b[39;00m:\n\u001b[0;32m   1081\u001b[0m     total_frames \u001b[38;5;241m=\u001b[39m \u001b[38;5;28msum\u001b[39m(save_count_list)\n\u001b[1;32m-> 1082\u001b[0m \u001b[43m\u001b[49m\u001b[38;5;28;43;01mfor\u001b[39;49;00m\u001b[43m \u001b[49m\u001b[43mdata\u001b[49m\u001b[43m \u001b[49m\u001b[38;5;129;43;01min\u001b[39;49;00m\u001b[43m \u001b[49m\u001b[38;5;28;43mzip\u001b[39;49m\u001b[43m(\u001b[49m\u001b[38;5;241;43m*\u001b[39;49m\u001b[43m[\u001b[49m\u001b[43ma\u001b[49m\u001b[38;5;241;43m.\u001b[39;49m\u001b[43mnew_saved_frame_seq\u001b[49m\u001b[43m(\u001b[49m\u001b[43m)\u001b[49m\u001b[43m \u001b[49m\u001b[38;5;28;43;01mfor\u001b[39;49;00m\u001b[43m \u001b[49m\u001b[43ma\u001b[49m\u001b[43m \u001b[49m\u001b[38;5;129;43;01min\u001b[39;49;00m\u001b[43m \u001b[49m\u001b[43mall_anim\u001b[49m\u001b[43m]\u001b[49m\u001b[43m)\u001b[49m\u001b[43m:\u001b[49m\n\u001b[0;32m   1083\u001b[0m \u001b[43m    \u001b[49m\u001b[38;5;28;43;01mfor\u001b[39;49;00m\u001b[43m \u001b[49m\u001b[43manim\u001b[49m\u001b[43m,\u001b[49m\u001b[43m \u001b[49m\u001b[43md\u001b[49m\u001b[43m \u001b[49m\u001b[38;5;129;43;01min\u001b[39;49;00m\u001b[43m \u001b[49m\u001b[38;5;28;43mzip\u001b[39;49m\u001b[43m(\u001b[49m\u001b[43mall_anim\u001b[49m\u001b[43m,\u001b[49m\u001b[43m \u001b[49m\u001b[43mdata\u001b[49m\u001b[43m)\u001b[49m\u001b[43m:\u001b[49m\n\u001b[0;32m   1084\u001b[0m \u001b[43m        \u001b[49m\u001b[38;5;66;43;03m# TODO: See if turning off blit is really necessary\u001b[39;49;00m\n\u001b[0;32m   1085\u001b[0m \u001b[43m        \u001b[49m\u001b[43manim\u001b[49m\u001b[38;5;241;43m.\u001b[39;49m\u001b[43m_draw_next_frame\u001b[49m\u001b[43m(\u001b[49m\u001b[43md\u001b[49m\u001b[43m,\u001b[49m\u001b[43m \u001b[49m\u001b[43mblit\u001b[49m\u001b[38;5;241;43m=\u001b[39;49m\u001b[38;5;28;43;01mFalse\u001b[39;49;00m\u001b[43m)\u001b[49m\n",
      "File \u001b[1;32m~\\AppData\\Local\\Packages\\PythonSoftwareFoundation.Python.3.12_qbz5n2kfra8p0\\LocalCache\\local-packages\\Python312\\site-packages\\agentpy\\visualization.py:73\u001b[0m, in \u001b[0;36manimate.<locals>.frames\u001b[1;34m()\u001b[0m\n\u001b[0;32m     71\u001b[0m     pre_steps \u001b[38;5;241m+\u001b[39m\u001b[38;5;241m=\u001b[39m \u001b[38;5;241m1\u001b[39m\n\u001b[0;32m     72\u001b[0m \u001b[38;5;28;01melse\u001b[39;00m:\n\u001b[1;32m---> 73\u001b[0m     \u001b[43mmodel\u001b[49m\u001b[38;5;241;43m.\u001b[39;49m\u001b[43msim_step\u001b[49m\u001b[43m(\u001b[49m\u001b[43m)\u001b[49m\n\u001b[0;32m     74\u001b[0m     model\u001b[38;5;241m.\u001b[39mcreate_output()\n\u001b[0;32m     75\u001b[0m \u001b[38;5;28;01myield\u001b[39;00m model\u001b[38;5;241m.\u001b[39mt\n",
      "File \u001b[1;32m~\\AppData\\Local\\Packages\\PythonSoftwareFoundation.Python.3.12_qbz5n2kfra8p0\\LocalCache\\local-packages\\Python312\\site-packages\\agentpy\\model.py:327\u001b[0m, in \u001b[0;36mModel.sim_step\u001b[1;34m(self)\u001b[0m\n\u001b[0;32m    324\u001b[0m \u001b[38;5;250m\u001b[39m\u001b[38;5;124;03m\"\"\" Proceeds the simulation by one step, incrementing `Model.t` by 1\u001b[39;00m\n\u001b[0;32m    325\u001b[0m \u001b[38;5;124;03mand then calling :func:`Model.step` and :func:`Model.update`.\"\"\"\u001b[39;00m\n\u001b[0;32m    326\u001b[0m \u001b[38;5;28mself\u001b[39m\u001b[38;5;241m.\u001b[39mt \u001b[38;5;241m+\u001b[39m\u001b[38;5;241m=\u001b[39m \u001b[38;5;241m1\u001b[39m\n\u001b[1;32m--> 327\u001b[0m \u001b[38;5;28;43mself\u001b[39;49m\u001b[38;5;241;43m.\u001b[39;49m\u001b[43mstep\u001b[49m\u001b[43m(\u001b[49m\u001b[43m)\u001b[49m\n\u001b[0;32m    328\u001b[0m \u001b[38;5;28mself\u001b[39m\u001b[38;5;241m.\u001b[39mupdate()\n\u001b[0;32m    329\u001b[0m \u001b[38;5;28;01mif\u001b[39;00m \u001b[38;5;28mself\u001b[39m\u001b[38;5;241m.\u001b[39mt \u001b[38;5;241m>\u001b[39m\u001b[38;5;241m=\u001b[39m \u001b[38;5;28mself\u001b[39m\u001b[38;5;241m.\u001b[39m_steps:\n",
      "Cell \u001b[1;32mIn[227], line 37\u001b[0m, in \u001b[0;36mSurveillanceModel.step\u001b[1;34m(self)\u001b[0m\n\u001b[0;32m     35\u001b[0m \u001b[38;5;28mself\u001b[39m\u001b[38;5;241m.\u001b[39mrobber\u001b[38;5;241m.\u001b[39mstep()\n\u001b[0;32m     36\u001b[0m \u001b[38;5;28mself\u001b[39m\u001b[38;5;241m.\u001b[39mcameras\u001b[38;5;241m.\u001b[39mstep()\n\u001b[1;32m---> 37\u001b[0m \u001b[38;5;28;43mself\u001b[39;49m\u001b[38;5;241;43m.\u001b[39;49m\u001b[43mdrone\u001b[49m\u001b[38;5;241;43m.\u001b[39;49m\u001b[43mstep\u001b[49m\u001b[43m(\u001b[49m\u001b[43m)\u001b[49m\n\u001b[0;32m     38\u001b[0m \u001b[38;5;28mself\u001b[39m\u001b[38;5;241m.\u001b[39msecurity\u001b[38;5;241m.\u001b[39mstep()\n",
      "File \u001b[1;32m~\\AppData\\Local\\Packages\\PythonSoftwareFoundation.Python.3.12_qbz5n2kfra8p0\\LocalCache\\local-packages\\Python312\\site-packages\\agentpy\\sequences.py:102\u001b[0m, in \u001b[0;36mAttrIter.__call__\u001b[1;34m(self, *args, **kwargs)\u001b[0m\n\u001b[0;32m    101\u001b[0m \u001b[38;5;28;01mdef\u001b[39;00m \u001b[38;5;21m__call__\u001b[39m(\u001b[38;5;28mself\u001b[39m, \u001b[38;5;241m*\u001b[39margs, \u001b[38;5;241m*\u001b[39m\u001b[38;5;241m*\u001b[39mkwargs):\n\u001b[1;32m--> 102\u001b[0m     \u001b[38;5;28;01mreturn\u001b[39;00m AttrIter([\u001b[43mfunc_obj\u001b[49m\u001b[43m(\u001b[49m\u001b[38;5;241;43m*\u001b[39;49m\u001b[43margs\u001b[49m\u001b[43m,\u001b[49m\u001b[43m \u001b[49m\u001b[38;5;241;43m*\u001b[39;49m\u001b[38;5;241;43m*\u001b[39;49m\u001b[43mkwargs\u001b[49m\u001b[43m)\u001b[49m \u001b[38;5;28;01mfor\u001b[39;00m func_obj \u001b[38;5;129;01min\u001b[39;00m \u001b[38;5;28mself\u001b[39m])\n",
      "Cell \u001b[1;32mIn[221], line 146\u001b[0m, in \u001b[0;36mDroneAgent.step\u001b[1;34m(self)\u001b[0m\n\u001b[0;32m    144\u001b[0m \u001b[38;5;250m\u001b[39m\u001b[38;5;124;03m\"\"\"The main drone logic for a single simulation step.\"\"\"\u001b[39;00m\n\u001b[0;32m    145\u001b[0m position \u001b[38;5;241m=\u001b[39m \u001b[38;5;28mself\u001b[39m\u001b[38;5;241m.\u001b[39mmodel\u001b[38;5;241m.\u001b[39mgrid\u001b[38;5;241m.\u001b[39mpositions[\u001b[38;5;28mself\u001b[39m]\n\u001b[1;32m--> 146\u001b[0m \u001b[43msend_position\u001b[49m\u001b[43m(\u001b[49m\u001b[38;5;124;43m'\u001b[39;49m\u001b[38;5;124;43mDrone\u001b[39;49m\u001b[38;5;124;43m'\u001b[39;49m\u001b[43m,\u001b[49m\u001b[43m \u001b[49m\u001b[43mposition\u001b[49m\u001b[43m)\u001b[49m\n\u001b[0;32m    147\u001b[0m \u001b[38;5;66;03m# Step 1: Take off if not patrolling\u001b[39;00m\n\u001b[0;32m    148\u001b[0m \u001b[38;5;28;01mif\u001b[39;00m \u001b[38;5;129;01mnot\u001b[39;00m \u001b[38;5;28mself\u001b[39m\u001b[38;5;241m.\u001b[39mpatrol_mode:\n",
      "Cell \u001b[1;32mIn[221], line 8\u001b[0m, in \u001b[0;36msend_position\u001b[1;34m(agent_type, position)\u001b[0m\n\u001b[0;32m      3\u001b[0m payload \u001b[38;5;241m=\u001b[39m {\n\u001b[0;32m      4\u001b[0m     \u001b[38;5;124m'\u001b[39m\u001b[38;5;124magent_type\u001b[39m\u001b[38;5;124m'\u001b[39m: agent_type,\n\u001b[0;32m      5\u001b[0m     \u001b[38;5;124m'\u001b[39m\u001b[38;5;124mposition\u001b[39m\u001b[38;5;124m'\u001b[39m: position\n\u001b[0;32m      6\u001b[0m }\n\u001b[0;32m      7\u001b[0m \u001b[38;5;28;01mtry\u001b[39;00m:\n\u001b[1;32m----> 8\u001b[0m     response \u001b[38;5;241m=\u001b[39m \u001b[43mrequests\u001b[49m\u001b[38;5;241;43m.\u001b[39;49m\u001b[43mpost\u001b[49m\u001b[43m(\u001b[49m\u001b[43murl\u001b[49m\u001b[43m,\u001b[49m\u001b[43m \u001b[49m\u001b[43mjson\u001b[49m\u001b[38;5;241;43m=\u001b[39;49m\u001b[43mpayload\u001b[49m\u001b[43m)\u001b[49m\n\u001b[0;32m      9\u001b[0m     \u001b[38;5;28;01mif\u001b[39;00m response\u001b[38;5;241m.\u001b[39mstatus_code \u001b[38;5;241m==\u001b[39m \u001b[38;5;241m200\u001b[39m:\n\u001b[0;32m     10\u001b[0m         \u001b[38;5;28mprint\u001b[39m(\u001b[38;5;124mf\u001b[39m\u001b[38;5;124m\"\u001b[39m\u001b[38;5;132;01m{\u001b[39;00magent_type\u001b[38;5;132;01m}\u001b[39;00m\u001b[38;5;124m position sent successfully.\u001b[39m\u001b[38;5;124m\"\u001b[39m)\n",
      "File \u001b[1;32m~\\AppData\\Local\\Packages\\PythonSoftwareFoundation.Python.3.12_qbz5n2kfra8p0\\LocalCache\\local-packages\\Python312\\site-packages\\requests\\api.py:115\u001b[0m, in \u001b[0;36mpost\u001b[1;34m(url, data, json, **kwargs)\u001b[0m\n\u001b[0;32m    103\u001b[0m \u001b[38;5;28;01mdef\u001b[39;00m \u001b[38;5;21mpost\u001b[39m(url, data\u001b[38;5;241m=\u001b[39m\u001b[38;5;28;01mNone\u001b[39;00m, json\u001b[38;5;241m=\u001b[39m\u001b[38;5;28;01mNone\u001b[39;00m, \u001b[38;5;241m*\u001b[39m\u001b[38;5;241m*\u001b[39mkwargs):\n\u001b[0;32m    104\u001b[0m \u001b[38;5;250m    \u001b[39m\u001b[38;5;124mr\u001b[39m\u001b[38;5;124;03m\"\"\"Sends a POST request.\u001b[39;00m\n\u001b[0;32m    105\u001b[0m \n\u001b[0;32m    106\u001b[0m \u001b[38;5;124;03m    :param url: URL for the new :class:`Request` object.\u001b[39;00m\n\u001b[1;32m   (...)\u001b[0m\n\u001b[0;32m    112\u001b[0m \u001b[38;5;124;03m    :rtype: requests.Response\u001b[39;00m\n\u001b[0;32m    113\u001b[0m \u001b[38;5;124;03m    \"\"\"\u001b[39;00m\n\u001b[1;32m--> 115\u001b[0m     \u001b[38;5;28;01mreturn\u001b[39;00m \u001b[43mrequest\u001b[49m\u001b[43m(\u001b[49m\u001b[38;5;124;43m\"\u001b[39;49m\u001b[38;5;124;43mpost\u001b[39;49m\u001b[38;5;124;43m\"\u001b[39;49m\u001b[43m,\u001b[49m\u001b[43m \u001b[49m\u001b[43murl\u001b[49m\u001b[43m,\u001b[49m\u001b[43m \u001b[49m\u001b[43mdata\u001b[49m\u001b[38;5;241;43m=\u001b[39;49m\u001b[43mdata\u001b[49m\u001b[43m,\u001b[49m\u001b[43m \u001b[49m\u001b[43mjson\u001b[49m\u001b[38;5;241;43m=\u001b[39;49m\u001b[43mjson\u001b[49m\u001b[43m,\u001b[49m\u001b[43m \u001b[49m\u001b[38;5;241;43m*\u001b[39;49m\u001b[38;5;241;43m*\u001b[39;49m\u001b[43mkwargs\u001b[49m\u001b[43m)\u001b[49m\n",
      "File \u001b[1;32m~\\AppData\\Local\\Packages\\PythonSoftwareFoundation.Python.3.12_qbz5n2kfra8p0\\LocalCache\\local-packages\\Python312\\site-packages\\requests\\api.py:59\u001b[0m, in \u001b[0;36mrequest\u001b[1;34m(method, url, **kwargs)\u001b[0m\n\u001b[0;32m     55\u001b[0m \u001b[38;5;66;03m# By using the 'with' statement we are sure the session is closed, thus we\u001b[39;00m\n\u001b[0;32m     56\u001b[0m \u001b[38;5;66;03m# avoid leaving sockets open which can trigger a ResourceWarning in some\u001b[39;00m\n\u001b[0;32m     57\u001b[0m \u001b[38;5;66;03m# cases, and look like a memory leak in others.\u001b[39;00m\n\u001b[0;32m     58\u001b[0m \u001b[38;5;28;01mwith\u001b[39;00m sessions\u001b[38;5;241m.\u001b[39mSession() \u001b[38;5;28;01mas\u001b[39;00m session:\n\u001b[1;32m---> 59\u001b[0m     \u001b[38;5;28;01mreturn\u001b[39;00m \u001b[43msession\u001b[49m\u001b[38;5;241;43m.\u001b[39;49m\u001b[43mrequest\u001b[49m\u001b[43m(\u001b[49m\u001b[43mmethod\u001b[49m\u001b[38;5;241;43m=\u001b[39;49m\u001b[43mmethod\u001b[49m\u001b[43m,\u001b[49m\u001b[43m \u001b[49m\u001b[43murl\u001b[49m\u001b[38;5;241;43m=\u001b[39;49m\u001b[43murl\u001b[49m\u001b[43m,\u001b[49m\u001b[43m \u001b[49m\u001b[38;5;241;43m*\u001b[39;49m\u001b[38;5;241;43m*\u001b[39;49m\u001b[43mkwargs\u001b[49m\u001b[43m)\u001b[49m\n",
      "File \u001b[1;32m~\\AppData\\Local\\Packages\\PythonSoftwareFoundation.Python.3.12_qbz5n2kfra8p0\\LocalCache\\local-packages\\Python312\\site-packages\\requests\\sessions.py:589\u001b[0m, in \u001b[0;36mSession.request\u001b[1;34m(self, method, url, params, data, headers, cookies, files, auth, timeout, allow_redirects, proxies, hooks, stream, verify, cert, json)\u001b[0m\n\u001b[0;32m    584\u001b[0m send_kwargs \u001b[38;5;241m=\u001b[39m {\n\u001b[0;32m    585\u001b[0m     \u001b[38;5;124m\"\u001b[39m\u001b[38;5;124mtimeout\u001b[39m\u001b[38;5;124m\"\u001b[39m: timeout,\n\u001b[0;32m    586\u001b[0m     \u001b[38;5;124m\"\u001b[39m\u001b[38;5;124mallow_redirects\u001b[39m\u001b[38;5;124m\"\u001b[39m: allow_redirects,\n\u001b[0;32m    587\u001b[0m }\n\u001b[0;32m    588\u001b[0m send_kwargs\u001b[38;5;241m.\u001b[39mupdate(settings)\n\u001b[1;32m--> 589\u001b[0m resp \u001b[38;5;241m=\u001b[39m \u001b[38;5;28;43mself\u001b[39;49m\u001b[38;5;241;43m.\u001b[39;49m\u001b[43msend\u001b[49m\u001b[43m(\u001b[49m\u001b[43mprep\u001b[49m\u001b[43m,\u001b[49m\u001b[43m \u001b[49m\u001b[38;5;241;43m*\u001b[39;49m\u001b[38;5;241;43m*\u001b[39;49m\u001b[43msend_kwargs\u001b[49m\u001b[43m)\u001b[49m\n\u001b[0;32m    591\u001b[0m \u001b[38;5;28;01mreturn\u001b[39;00m resp\n",
      "File \u001b[1;32m~\\AppData\\Local\\Packages\\PythonSoftwareFoundation.Python.3.12_qbz5n2kfra8p0\\LocalCache\\local-packages\\Python312\\site-packages\\requests\\sessions.py:703\u001b[0m, in \u001b[0;36mSession.send\u001b[1;34m(self, request, **kwargs)\u001b[0m\n\u001b[0;32m    700\u001b[0m start \u001b[38;5;241m=\u001b[39m preferred_clock()\n\u001b[0;32m    702\u001b[0m \u001b[38;5;66;03m# Send the request\u001b[39;00m\n\u001b[1;32m--> 703\u001b[0m r \u001b[38;5;241m=\u001b[39m \u001b[43madapter\u001b[49m\u001b[38;5;241;43m.\u001b[39;49m\u001b[43msend\u001b[49m\u001b[43m(\u001b[49m\u001b[43mrequest\u001b[49m\u001b[43m,\u001b[49m\u001b[43m \u001b[49m\u001b[38;5;241;43m*\u001b[39;49m\u001b[38;5;241;43m*\u001b[39;49m\u001b[43mkwargs\u001b[49m\u001b[43m)\u001b[49m\n\u001b[0;32m    705\u001b[0m \u001b[38;5;66;03m# Total elapsed time of the request (approximately)\u001b[39;00m\n\u001b[0;32m    706\u001b[0m elapsed \u001b[38;5;241m=\u001b[39m preferred_clock() \u001b[38;5;241m-\u001b[39m start\n",
      "File \u001b[1;32m~\\AppData\\Local\\Packages\\PythonSoftwareFoundation.Python.3.12_qbz5n2kfra8p0\\LocalCache\\local-packages\\Python312\\site-packages\\requests\\adapters.py:667\u001b[0m, in \u001b[0;36mHTTPAdapter.send\u001b[1;34m(self, request, stream, timeout, verify, cert, proxies)\u001b[0m\n\u001b[0;32m    664\u001b[0m     timeout \u001b[38;5;241m=\u001b[39m TimeoutSauce(connect\u001b[38;5;241m=\u001b[39mtimeout, read\u001b[38;5;241m=\u001b[39mtimeout)\n\u001b[0;32m    666\u001b[0m \u001b[38;5;28;01mtry\u001b[39;00m:\n\u001b[1;32m--> 667\u001b[0m     resp \u001b[38;5;241m=\u001b[39m \u001b[43mconn\u001b[49m\u001b[38;5;241;43m.\u001b[39;49m\u001b[43murlopen\u001b[49m\u001b[43m(\u001b[49m\n\u001b[0;32m    668\u001b[0m \u001b[43m        \u001b[49m\u001b[43mmethod\u001b[49m\u001b[38;5;241;43m=\u001b[39;49m\u001b[43mrequest\u001b[49m\u001b[38;5;241;43m.\u001b[39;49m\u001b[43mmethod\u001b[49m\u001b[43m,\u001b[49m\n\u001b[0;32m    669\u001b[0m \u001b[43m        \u001b[49m\u001b[43murl\u001b[49m\u001b[38;5;241;43m=\u001b[39;49m\u001b[43murl\u001b[49m\u001b[43m,\u001b[49m\n\u001b[0;32m    670\u001b[0m \u001b[43m        \u001b[49m\u001b[43mbody\u001b[49m\u001b[38;5;241;43m=\u001b[39;49m\u001b[43mrequest\u001b[49m\u001b[38;5;241;43m.\u001b[39;49m\u001b[43mbody\u001b[49m\u001b[43m,\u001b[49m\n\u001b[0;32m    671\u001b[0m \u001b[43m        \u001b[49m\u001b[43mheaders\u001b[49m\u001b[38;5;241;43m=\u001b[39;49m\u001b[43mrequest\u001b[49m\u001b[38;5;241;43m.\u001b[39;49m\u001b[43mheaders\u001b[49m\u001b[43m,\u001b[49m\n\u001b[0;32m    672\u001b[0m \u001b[43m        \u001b[49m\u001b[43mredirect\u001b[49m\u001b[38;5;241;43m=\u001b[39;49m\u001b[38;5;28;43;01mFalse\u001b[39;49;00m\u001b[43m,\u001b[49m\n\u001b[0;32m    673\u001b[0m \u001b[43m        \u001b[49m\u001b[43massert_same_host\u001b[49m\u001b[38;5;241;43m=\u001b[39;49m\u001b[38;5;28;43;01mFalse\u001b[39;49;00m\u001b[43m,\u001b[49m\n\u001b[0;32m    674\u001b[0m \u001b[43m        \u001b[49m\u001b[43mpreload_content\u001b[49m\u001b[38;5;241;43m=\u001b[39;49m\u001b[38;5;28;43;01mFalse\u001b[39;49;00m\u001b[43m,\u001b[49m\n\u001b[0;32m    675\u001b[0m \u001b[43m        \u001b[49m\u001b[43mdecode_content\u001b[49m\u001b[38;5;241;43m=\u001b[39;49m\u001b[38;5;28;43;01mFalse\u001b[39;49;00m\u001b[43m,\u001b[49m\n\u001b[0;32m    676\u001b[0m \u001b[43m        \u001b[49m\u001b[43mretries\u001b[49m\u001b[38;5;241;43m=\u001b[39;49m\u001b[38;5;28;43mself\u001b[39;49m\u001b[38;5;241;43m.\u001b[39;49m\u001b[43mmax_retries\u001b[49m\u001b[43m,\u001b[49m\n\u001b[0;32m    677\u001b[0m \u001b[43m        \u001b[49m\u001b[43mtimeout\u001b[49m\u001b[38;5;241;43m=\u001b[39;49m\u001b[43mtimeout\u001b[49m\u001b[43m,\u001b[49m\n\u001b[0;32m    678\u001b[0m \u001b[43m        \u001b[49m\u001b[43mchunked\u001b[49m\u001b[38;5;241;43m=\u001b[39;49m\u001b[43mchunked\u001b[49m\u001b[43m,\u001b[49m\n\u001b[0;32m    679\u001b[0m \u001b[43m    \u001b[49m\u001b[43m)\u001b[49m\n\u001b[0;32m    681\u001b[0m \u001b[38;5;28;01mexcept\u001b[39;00m (ProtocolError, \u001b[38;5;167;01mOSError\u001b[39;00m) \u001b[38;5;28;01mas\u001b[39;00m err:\n\u001b[0;32m    682\u001b[0m     \u001b[38;5;28;01mraise\u001b[39;00m \u001b[38;5;167;01mConnectionError\u001b[39;00m(err, request\u001b[38;5;241m=\u001b[39mrequest)\n",
      "File \u001b[1;32m~\\AppData\\Local\\Packages\\PythonSoftwareFoundation.Python.3.12_qbz5n2kfra8p0\\LocalCache\\local-packages\\Python312\\site-packages\\urllib3\\connectionpool.py:789\u001b[0m, in \u001b[0;36mHTTPConnectionPool.urlopen\u001b[1;34m(self, method, url, body, headers, retries, redirect, assert_same_host, timeout, pool_timeout, release_conn, chunked, body_pos, preload_content, decode_content, **response_kw)\u001b[0m\n\u001b[0;32m    786\u001b[0m response_conn \u001b[38;5;241m=\u001b[39m conn \u001b[38;5;28;01mif\u001b[39;00m \u001b[38;5;129;01mnot\u001b[39;00m release_conn \u001b[38;5;28;01melse\u001b[39;00m \u001b[38;5;28;01mNone\u001b[39;00m\n\u001b[0;32m    788\u001b[0m \u001b[38;5;66;03m# Make the request on the HTTPConnection object\u001b[39;00m\n\u001b[1;32m--> 789\u001b[0m response \u001b[38;5;241m=\u001b[39m \u001b[38;5;28;43mself\u001b[39;49m\u001b[38;5;241;43m.\u001b[39;49m\u001b[43m_make_request\u001b[49m\u001b[43m(\u001b[49m\n\u001b[0;32m    790\u001b[0m \u001b[43m    \u001b[49m\u001b[43mconn\u001b[49m\u001b[43m,\u001b[49m\n\u001b[0;32m    791\u001b[0m \u001b[43m    \u001b[49m\u001b[43mmethod\u001b[49m\u001b[43m,\u001b[49m\n\u001b[0;32m    792\u001b[0m \u001b[43m    \u001b[49m\u001b[43murl\u001b[49m\u001b[43m,\u001b[49m\n\u001b[0;32m    793\u001b[0m \u001b[43m    \u001b[49m\u001b[43mtimeout\u001b[49m\u001b[38;5;241;43m=\u001b[39;49m\u001b[43mtimeout_obj\u001b[49m\u001b[43m,\u001b[49m\n\u001b[0;32m    794\u001b[0m \u001b[43m    \u001b[49m\u001b[43mbody\u001b[49m\u001b[38;5;241;43m=\u001b[39;49m\u001b[43mbody\u001b[49m\u001b[43m,\u001b[49m\n\u001b[0;32m    795\u001b[0m \u001b[43m    \u001b[49m\u001b[43mheaders\u001b[49m\u001b[38;5;241;43m=\u001b[39;49m\u001b[43mheaders\u001b[49m\u001b[43m,\u001b[49m\n\u001b[0;32m    796\u001b[0m \u001b[43m    \u001b[49m\u001b[43mchunked\u001b[49m\u001b[38;5;241;43m=\u001b[39;49m\u001b[43mchunked\u001b[49m\u001b[43m,\u001b[49m\n\u001b[0;32m    797\u001b[0m \u001b[43m    \u001b[49m\u001b[43mretries\u001b[49m\u001b[38;5;241;43m=\u001b[39;49m\u001b[43mretries\u001b[49m\u001b[43m,\u001b[49m\n\u001b[0;32m    798\u001b[0m \u001b[43m    \u001b[49m\u001b[43mresponse_conn\u001b[49m\u001b[38;5;241;43m=\u001b[39;49m\u001b[43mresponse_conn\u001b[49m\u001b[43m,\u001b[49m\n\u001b[0;32m    799\u001b[0m \u001b[43m    \u001b[49m\u001b[43mpreload_content\u001b[49m\u001b[38;5;241;43m=\u001b[39;49m\u001b[43mpreload_content\u001b[49m\u001b[43m,\u001b[49m\n\u001b[0;32m    800\u001b[0m \u001b[43m    \u001b[49m\u001b[43mdecode_content\u001b[49m\u001b[38;5;241;43m=\u001b[39;49m\u001b[43mdecode_content\u001b[49m\u001b[43m,\u001b[49m\n\u001b[0;32m    801\u001b[0m \u001b[43m    \u001b[49m\u001b[38;5;241;43m*\u001b[39;49m\u001b[38;5;241;43m*\u001b[39;49m\u001b[43mresponse_kw\u001b[49m\u001b[43m,\u001b[49m\n\u001b[0;32m    802\u001b[0m \u001b[43m\u001b[49m\u001b[43m)\u001b[49m\n\u001b[0;32m    804\u001b[0m \u001b[38;5;66;03m# Everything went great!\u001b[39;00m\n\u001b[0;32m    805\u001b[0m clean_exit \u001b[38;5;241m=\u001b[39m \u001b[38;5;28;01mTrue\u001b[39;00m\n",
      "File \u001b[1;32m~\\AppData\\Local\\Packages\\PythonSoftwareFoundation.Python.3.12_qbz5n2kfra8p0\\LocalCache\\local-packages\\Python312\\site-packages\\urllib3\\connectionpool.py:495\u001b[0m, in \u001b[0;36mHTTPConnectionPool._make_request\u001b[1;34m(self, conn, method, url, body, headers, retries, timeout, chunked, response_conn, preload_content, decode_content, enforce_content_length)\u001b[0m\n\u001b[0;32m    492\u001b[0m \u001b[38;5;66;03m# conn.request() calls http.client.*.request, not the method in\u001b[39;00m\n\u001b[0;32m    493\u001b[0m \u001b[38;5;66;03m# urllib3.request. It also calls makefile (recv) on the socket.\u001b[39;00m\n\u001b[0;32m    494\u001b[0m \u001b[38;5;28;01mtry\u001b[39;00m:\n\u001b[1;32m--> 495\u001b[0m     \u001b[43mconn\u001b[49m\u001b[38;5;241;43m.\u001b[39;49m\u001b[43mrequest\u001b[49m\u001b[43m(\u001b[49m\n\u001b[0;32m    496\u001b[0m \u001b[43m        \u001b[49m\u001b[43mmethod\u001b[49m\u001b[43m,\u001b[49m\n\u001b[0;32m    497\u001b[0m \u001b[43m        \u001b[49m\u001b[43murl\u001b[49m\u001b[43m,\u001b[49m\n\u001b[0;32m    498\u001b[0m \u001b[43m        \u001b[49m\u001b[43mbody\u001b[49m\u001b[38;5;241;43m=\u001b[39;49m\u001b[43mbody\u001b[49m\u001b[43m,\u001b[49m\n\u001b[0;32m    499\u001b[0m \u001b[43m        \u001b[49m\u001b[43mheaders\u001b[49m\u001b[38;5;241;43m=\u001b[39;49m\u001b[43mheaders\u001b[49m\u001b[43m,\u001b[49m\n\u001b[0;32m    500\u001b[0m \u001b[43m        \u001b[49m\u001b[43mchunked\u001b[49m\u001b[38;5;241;43m=\u001b[39;49m\u001b[43mchunked\u001b[49m\u001b[43m,\u001b[49m\n\u001b[0;32m    501\u001b[0m \u001b[43m        \u001b[49m\u001b[43mpreload_content\u001b[49m\u001b[38;5;241;43m=\u001b[39;49m\u001b[43mpreload_content\u001b[49m\u001b[43m,\u001b[49m\n\u001b[0;32m    502\u001b[0m \u001b[43m        \u001b[49m\u001b[43mdecode_content\u001b[49m\u001b[38;5;241;43m=\u001b[39;49m\u001b[43mdecode_content\u001b[49m\u001b[43m,\u001b[49m\n\u001b[0;32m    503\u001b[0m \u001b[43m        \u001b[49m\u001b[43menforce_content_length\u001b[49m\u001b[38;5;241;43m=\u001b[39;49m\u001b[43menforce_content_length\u001b[49m\u001b[43m,\u001b[49m\n\u001b[0;32m    504\u001b[0m \u001b[43m    \u001b[49m\u001b[43m)\u001b[49m\n\u001b[0;32m    506\u001b[0m \u001b[38;5;66;03m# We are swallowing BrokenPipeError (errno.EPIPE) since the server is\u001b[39;00m\n\u001b[0;32m    507\u001b[0m \u001b[38;5;66;03m# legitimately able to close the connection after sending a valid response.\u001b[39;00m\n\u001b[0;32m    508\u001b[0m \u001b[38;5;66;03m# With this behaviour, the received response is still readable.\u001b[39;00m\n\u001b[0;32m    509\u001b[0m \u001b[38;5;28;01mexcept\u001b[39;00m \u001b[38;5;167;01mBrokenPipeError\u001b[39;00m:\n",
      "File \u001b[1;32m~\\AppData\\Local\\Packages\\PythonSoftwareFoundation.Python.3.12_qbz5n2kfra8p0\\LocalCache\\local-packages\\Python312\\site-packages\\urllib3\\connection.py:441\u001b[0m, in \u001b[0;36mHTTPConnection.request\u001b[1;34m(self, method, url, body, headers, chunked, preload_content, decode_content, enforce_content_length)\u001b[0m\n\u001b[0;32m    439\u001b[0m \u001b[38;5;28;01mfor\u001b[39;00m header, value \u001b[38;5;129;01min\u001b[39;00m headers\u001b[38;5;241m.\u001b[39mitems():\n\u001b[0;32m    440\u001b[0m     \u001b[38;5;28mself\u001b[39m\u001b[38;5;241m.\u001b[39mputheader(header, value)\n\u001b[1;32m--> 441\u001b[0m \u001b[38;5;28;43mself\u001b[39;49m\u001b[38;5;241;43m.\u001b[39;49m\u001b[43mendheaders\u001b[49m\u001b[43m(\u001b[49m\u001b[43m)\u001b[49m\n\u001b[0;32m    443\u001b[0m \u001b[38;5;66;03m# If we're given a body we start sending that in chunks.\u001b[39;00m\n\u001b[0;32m    444\u001b[0m \u001b[38;5;28;01mif\u001b[39;00m chunks \u001b[38;5;129;01mis\u001b[39;00m \u001b[38;5;129;01mnot\u001b[39;00m \u001b[38;5;28;01mNone\u001b[39;00m:\n",
      "File \u001b[1;32mC:\\Program Files\\WindowsApps\\PythonSoftwareFoundation.Python.3.12_3.12.2032.0_x64__qbz5n2kfra8p0\\Lib\\http\\client.py:1331\u001b[0m, in \u001b[0;36mHTTPConnection.endheaders\u001b[1;34m(self, message_body, encode_chunked)\u001b[0m\n\u001b[0;32m   1329\u001b[0m \u001b[38;5;28;01melse\u001b[39;00m:\n\u001b[0;32m   1330\u001b[0m     \u001b[38;5;28;01mraise\u001b[39;00m CannotSendHeader()\n\u001b[1;32m-> 1331\u001b[0m \u001b[38;5;28;43mself\u001b[39;49m\u001b[38;5;241;43m.\u001b[39;49m\u001b[43m_send_output\u001b[49m\u001b[43m(\u001b[49m\u001b[43mmessage_body\u001b[49m\u001b[43m,\u001b[49m\u001b[43m \u001b[49m\u001b[43mencode_chunked\u001b[49m\u001b[38;5;241;43m=\u001b[39;49m\u001b[43mencode_chunked\u001b[49m\u001b[43m)\u001b[49m\n",
      "File \u001b[1;32mC:\\Program Files\\WindowsApps\\PythonSoftwareFoundation.Python.3.12_3.12.2032.0_x64__qbz5n2kfra8p0\\Lib\\http\\client.py:1091\u001b[0m, in \u001b[0;36mHTTPConnection._send_output\u001b[1;34m(self, message_body, encode_chunked)\u001b[0m\n\u001b[0;32m   1089\u001b[0m msg \u001b[38;5;241m=\u001b[39m \u001b[38;5;124mb\u001b[39m\u001b[38;5;124m\"\u001b[39m\u001b[38;5;130;01m\\r\u001b[39;00m\u001b[38;5;130;01m\\n\u001b[39;00m\u001b[38;5;124m\"\u001b[39m\u001b[38;5;241m.\u001b[39mjoin(\u001b[38;5;28mself\u001b[39m\u001b[38;5;241m.\u001b[39m_buffer)\n\u001b[0;32m   1090\u001b[0m \u001b[38;5;28;01mdel\u001b[39;00m \u001b[38;5;28mself\u001b[39m\u001b[38;5;241m.\u001b[39m_buffer[:]\n\u001b[1;32m-> 1091\u001b[0m \u001b[38;5;28;43mself\u001b[39;49m\u001b[38;5;241;43m.\u001b[39;49m\u001b[43msend\u001b[49m\u001b[43m(\u001b[49m\u001b[43mmsg\u001b[49m\u001b[43m)\u001b[49m\n\u001b[0;32m   1093\u001b[0m \u001b[38;5;28;01mif\u001b[39;00m message_body \u001b[38;5;129;01mis\u001b[39;00m \u001b[38;5;129;01mnot\u001b[39;00m \u001b[38;5;28;01mNone\u001b[39;00m:\n\u001b[0;32m   1094\u001b[0m \n\u001b[0;32m   1095\u001b[0m     \u001b[38;5;66;03m# create a consistent interface to message_body\u001b[39;00m\n\u001b[0;32m   1096\u001b[0m     \u001b[38;5;28;01mif\u001b[39;00m \u001b[38;5;28mhasattr\u001b[39m(message_body, \u001b[38;5;124m'\u001b[39m\u001b[38;5;124mread\u001b[39m\u001b[38;5;124m'\u001b[39m):\n\u001b[0;32m   1097\u001b[0m         \u001b[38;5;66;03m# Let file-like take precedence over byte-like.  This\u001b[39;00m\n\u001b[0;32m   1098\u001b[0m         \u001b[38;5;66;03m# is needed to allow the current position of mmap'ed\u001b[39;00m\n\u001b[0;32m   1099\u001b[0m         \u001b[38;5;66;03m# files to be taken into account.\u001b[39;00m\n",
      "File \u001b[1;32mC:\\Program Files\\WindowsApps\\PythonSoftwareFoundation.Python.3.12_3.12.2032.0_x64__qbz5n2kfra8p0\\Lib\\http\\client.py:1035\u001b[0m, in \u001b[0;36mHTTPConnection.send\u001b[1;34m(self, data)\u001b[0m\n\u001b[0;32m   1033\u001b[0m \u001b[38;5;28;01mif\u001b[39;00m \u001b[38;5;28mself\u001b[39m\u001b[38;5;241m.\u001b[39msock \u001b[38;5;129;01mis\u001b[39;00m \u001b[38;5;28;01mNone\u001b[39;00m:\n\u001b[0;32m   1034\u001b[0m     \u001b[38;5;28;01mif\u001b[39;00m \u001b[38;5;28mself\u001b[39m\u001b[38;5;241m.\u001b[39mauto_open:\n\u001b[1;32m-> 1035\u001b[0m         \u001b[38;5;28;43mself\u001b[39;49m\u001b[38;5;241;43m.\u001b[39;49m\u001b[43mconnect\u001b[49m\u001b[43m(\u001b[49m\u001b[43m)\u001b[49m\n\u001b[0;32m   1036\u001b[0m     \u001b[38;5;28;01melse\u001b[39;00m:\n\u001b[0;32m   1037\u001b[0m         \u001b[38;5;28;01mraise\u001b[39;00m NotConnected()\n",
      "File \u001b[1;32m~\\AppData\\Local\\Packages\\PythonSoftwareFoundation.Python.3.12_qbz5n2kfra8p0\\LocalCache\\local-packages\\Python312\\site-packages\\urllib3\\connection.py:279\u001b[0m, in \u001b[0;36mHTTPConnection.connect\u001b[1;34m(self)\u001b[0m\n\u001b[0;32m    278\u001b[0m \u001b[38;5;28;01mdef\u001b[39;00m \u001b[38;5;21mconnect\u001b[39m(\u001b[38;5;28mself\u001b[39m) \u001b[38;5;241m-\u001b[39m\u001b[38;5;241m>\u001b[39m \u001b[38;5;28;01mNone\u001b[39;00m:\n\u001b[1;32m--> 279\u001b[0m     \u001b[38;5;28mself\u001b[39m\u001b[38;5;241m.\u001b[39msock \u001b[38;5;241m=\u001b[39m \u001b[38;5;28;43mself\u001b[39;49m\u001b[38;5;241;43m.\u001b[39;49m\u001b[43m_new_conn\u001b[49m\u001b[43m(\u001b[49m\u001b[43m)\u001b[49m\n\u001b[0;32m    280\u001b[0m     \u001b[38;5;28;01mif\u001b[39;00m \u001b[38;5;28mself\u001b[39m\u001b[38;5;241m.\u001b[39m_tunnel_host:\n\u001b[0;32m    281\u001b[0m         \u001b[38;5;66;03m# If we're tunneling it means we're connected to our proxy.\u001b[39;00m\n\u001b[0;32m    282\u001b[0m         \u001b[38;5;28mself\u001b[39m\u001b[38;5;241m.\u001b[39m_has_connected_to_proxy \u001b[38;5;241m=\u001b[39m \u001b[38;5;28;01mTrue\u001b[39;00m\n",
      "File \u001b[1;32m~\\AppData\\Local\\Packages\\PythonSoftwareFoundation.Python.3.12_qbz5n2kfra8p0\\LocalCache\\local-packages\\Python312\\site-packages\\urllib3\\connection.py:199\u001b[0m, in \u001b[0;36mHTTPConnection._new_conn\u001b[1;34m(self)\u001b[0m\n\u001b[0;32m    194\u001b[0m \u001b[38;5;250m\u001b[39m\u001b[38;5;124;03m\"\"\"Establish a socket connection and set nodelay settings on it.\u001b[39;00m\n\u001b[0;32m    195\u001b[0m \n\u001b[0;32m    196\u001b[0m \u001b[38;5;124;03m:return: New socket connection.\u001b[39;00m\n\u001b[0;32m    197\u001b[0m \u001b[38;5;124;03m\"\"\"\u001b[39;00m\n\u001b[0;32m    198\u001b[0m \u001b[38;5;28;01mtry\u001b[39;00m:\n\u001b[1;32m--> 199\u001b[0m     sock \u001b[38;5;241m=\u001b[39m \u001b[43mconnection\u001b[49m\u001b[38;5;241;43m.\u001b[39;49m\u001b[43mcreate_connection\u001b[49m\u001b[43m(\u001b[49m\n\u001b[0;32m    200\u001b[0m \u001b[43m        \u001b[49m\u001b[43m(\u001b[49m\u001b[38;5;28;43mself\u001b[39;49m\u001b[38;5;241;43m.\u001b[39;49m\u001b[43m_dns_host\u001b[49m\u001b[43m,\u001b[49m\u001b[43m \u001b[49m\u001b[38;5;28;43mself\u001b[39;49m\u001b[38;5;241;43m.\u001b[39;49m\u001b[43mport\u001b[49m\u001b[43m)\u001b[49m\u001b[43m,\u001b[49m\n\u001b[0;32m    201\u001b[0m \u001b[43m        \u001b[49m\u001b[38;5;28;43mself\u001b[39;49m\u001b[38;5;241;43m.\u001b[39;49m\u001b[43mtimeout\u001b[49m\u001b[43m,\u001b[49m\n\u001b[0;32m    202\u001b[0m \u001b[43m        \u001b[49m\u001b[43msource_address\u001b[49m\u001b[38;5;241;43m=\u001b[39;49m\u001b[38;5;28;43mself\u001b[39;49m\u001b[38;5;241;43m.\u001b[39;49m\u001b[43msource_address\u001b[49m\u001b[43m,\u001b[49m\n\u001b[0;32m    203\u001b[0m \u001b[43m        \u001b[49m\u001b[43msocket_options\u001b[49m\u001b[38;5;241;43m=\u001b[39;49m\u001b[38;5;28;43mself\u001b[39;49m\u001b[38;5;241;43m.\u001b[39;49m\u001b[43msocket_options\u001b[49m\u001b[43m,\u001b[49m\n\u001b[0;32m    204\u001b[0m \u001b[43m    \u001b[49m\u001b[43m)\u001b[49m\n\u001b[0;32m    205\u001b[0m \u001b[38;5;28;01mexcept\u001b[39;00m socket\u001b[38;5;241m.\u001b[39mgaierror \u001b[38;5;28;01mas\u001b[39;00m e:\n\u001b[0;32m    206\u001b[0m     \u001b[38;5;28;01mraise\u001b[39;00m NameResolutionError(\u001b[38;5;28mself\u001b[39m\u001b[38;5;241m.\u001b[39mhost, \u001b[38;5;28mself\u001b[39m, e) \u001b[38;5;28;01mfrom\u001b[39;00m \u001b[38;5;21;01me\u001b[39;00m\n",
      "File \u001b[1;32m~\\AppData\\Local\\Packages\\PythonSoftwareFoundation.Python.3.12_qbz5n2kfra8p0\\LocalCache\\local-packages\\Python312\\site-packages\\urllib3\\util\\connection.py:81\u001b[0m, in \u001b[0;36mcreate_connection\u001b[1;34m(address, timeout, source_address, socket_options)\u001b[0m\n\u001b[0;32m     79\u001b[0m         err \u001b[38;5;241m=\u001b[39m _\n\u001b[0;32m     80\u001b[0m         \u001b[38;5;28;01mif\u001b[39;00m sock \u001b[38;5;129;01mis\u001b[39;00m \u001b[38;5;129;01mnot\u001b[39;00m \u001b[38;5;28;01mNone\u001b[39;00m:\n\u001b[1;32m---> 81\u001b[0m             \u001b[43msock\u001b[49m\u001b[38;5;241;43m.\u001b[39;49m\u001b[43mclose\u001b[49m\u001b[43m(\u001b[49m\u001b[43m)\u001b[49m\n\u001b[0;32m     83\u001b[0m \u001b[38;5;28;01mif\u001b[39;00m err \u001b[38;5;129;01mis\u001b[39;00m \u001b[38;5;129;01mnot\u001b[39;00m \u001b[38;5;28;01mNone\u001b[39;00m:\n\u001b[0;32m     84\u001b[0m     \u001b[38;5;28;01mtry\u001b[39;00m:\n",
      "File \u001b[1;32mC:\\Program Files\\WindowsApps\\PythonSoftwareFoundation.Python.3.12_3.12.2032.0_x64__qbz5n2kfra8p0\\Lib\\socket.py:501\u001b[0m, in \u001b[0;36msocket.close\u001b[1;34m(self)\u001b[0m\n\u001b[0;32m    497\u001b[0m \u001b[38;5;28;01mdef\u001b[39;00m \u001b[38;5;21m_real_close\u001b[39m(\u001b[38;5;28mself\u001b[39m, _ss\u001b[38;5;241m=\u001b[39m_socket\u001b[38;5;241m.\u001b[39msocket):\n\u001b[0;32m    498\u001b[0m     \u001b[38;5;66;03m# This function should not reference any globals. See issue #808164.\u001b[39;00m\n\u001b[0;32m    499\u001b[0m     _ss\u001b[38;5;241m.\u001b[39mclose(\u001b[38;5;28mself\u001b[39m)\n\u001b[1;32m--> 501\u001b[0m \u001b[38;5;28;01mdef\u001b[39;00m \u001b[38;5;21mclose\u001b[39m(\u001b[38;5;28mself\u001b[39m):\n\u001b[0;32m    502\u001b[0m     \u001b[38;5;66;03m# This function should not reference any globals. See issue #808164.\u001b[39;00m\n\u001b[0;32m    503\u001b[0m     \u001b[38;5;28mself\u001b[39m\u001b[38;5;241m.\u001b[39m_closed \u001b[38;5;241m=\u001b[39m \u001b[38;5;28;01mTrue\u001b[39;00m\n\u001b[0;32m    504\u001b[0m     \u001b[38;5;28;01mif\u001b[39;00m \u001b[38;5;28mself\u001b[39m\u001b[38;5;241m.\u001b[39m_io_refs \u001b[38;5;241m<\u001b[39m\u001b[38;5;241m=\u001b[39m \u001b[38;5;241m0\u001b[39m:\n",
      "\u001b[1;31mKeyboardInterrupt\u001b[0m: "
     ]
    }
   ],
   "source": [
    "# Create figure for animation\n",
    "fig, ax = plt.subplots(figsize=(8, 8))\n",
    "\n",
    "# Create and run the model\n",
    "model = SurveillanceModel(parameters)\n",
    "\n",
    "# Run the simulation with animation\n",
    "animation = ap.animate(model, fig, ax, animation_plot)\n",
    "\n",
    "# Display the animation\n",
    "IPython.display.HTML(animation.to_jshtml())\n"
   ]
  }
 ],
 "metadata": {
  "colab": {
   "authorship_tag": "ABX9TyP44a8eYPtdr18YoL4wQue0",
   "include_colab_link": true,
   "provenance": []
  },
  "kernelspec": {
   "display_name": "Python 3",
   "name": "python3"
  },
  "language_info": {
   "codemirror_mode": {
    "name": "ipython",
    "version": 3
   },
   "file_extension": ".py",
   "mimetype": "text/x-python",
   "name": "python",
   "nbconvert_exporter": "python",
   "pygments_lexer": "ipython3",
   "version": "3.12.7"
  }
 },
 "nbformat": 4,
 "nbformat_minor": 0
}
