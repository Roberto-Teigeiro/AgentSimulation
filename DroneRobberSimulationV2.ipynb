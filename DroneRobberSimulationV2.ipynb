{
  "nbformat": 4,
  "nbformat_minor": 0,
  "metadata": {
    "colab": {
      "provenance": [],
      "authorship_tag": "ABX9TyOTISOQgaWbb3mGGalo7QHD",
      "include_colab_link": true
    },
    "kernelspec": {
      "name": "python3",
      "display_name": "Python 3"
    },
    "language_info": {
      "name": "python"
    }
  },
  "cells": [
    {
      "cell_type": "markdown",
      "metadata": {
        "id": "view-in-github",
        "colab_type": "text"
      },
      "source": [
        "<a href=\"https://colab.research.google.com/github/Roberto-Teigeiro/AgentSimulation/blob/main/DroneRobberSimulationV2.ipynb\" target=\"_parent\"><img src=\"https://colab.research.google.com/assets/colab-badge.svg\" alt=\"Open In Colab\"/></a>"
      ]
    },
    {
      "cell_type": "markdown",
      "source": [
        "# Evidence 2\n"
      ],
      "metadata": {
        "id": "Dy_IqvBoD8gR"
      }
    },
    {
      "cell_type": "markdown",
      "source": [
        "## 0. Installing libraries"
      ],
      "metadata": {
        "id": "DeUsXosAD4_m"
      }
    },
    {
      "cell_type": "code",
      "execution_count": 1,
      "metadata": {
        "colab": {
          "base_uri": "https://localhost:8080/"
        },
        "collapsed": true,
        "id": "64kTta8nB0kt",
        "outputId": "05717d30-fe2a-4fdc-928b-1c2fb30f9cf2"
      },
      "outputs": [
        {
          "output_type": "stream",
          "name": "stdout",
          "text": [
            "Collecting agentpy\n",
            "  Downloading agentpy-0.1.5-py3-none-any.whl.metadata (3.3 kB)\n",
            "Collecting pathfinding\n",
            "  Downloading pathfinding-1.0.11-py3-none-any.whl.metadata (4.6 kB)\n",
            "Collecting owlready2\n",
            "  Downloading owlready2-0.47.tar.gz (27.3 MB)\n",
            "\u001b[2K     \u001b[90m━━━━━━━━━━━━━━━━━━━━━━━━━━━━━━━━━━━━━━━━\u001b[0m \u001b[32m27.3/27.3 MB\u001b[0m \u001b[31m23.4 MB/s\u001b[0m eta \u001b[36m0:00:00\u001b[0m\n",
            "\u001b[?25h  Installing build dependencies ... \u001b[?25l\u001b[?25hdone\n",
            "  Getting requirements to build wheel ... \u001b[?25l\u001b[?25hdone\n",
            "  Preparing metadata (pyproject.toml) ... \u001b[?25l\u001b[?25hdone\n",
            "Requirement already satisfied: numpy>=1.19 in /usr/local/lib/python3.10/dist-packages (from agentpy) (1.26.4)\n",
            "Requirement already satisfied: scipy>=1.5.2 in /usr/local/lib/python3.10/dist-packages (from agentpy) (1.13.1)\n",
            "Requirement already satisfied: matplotlib>=3.3.3 in /usr/local/lib/python3.10/dist-packages (from agentpy) (3.8.0)\n",
            "Requirement already satisfied: networkx>=2.5 in /usr/local/lib/python3.10/dist-packages (from agentpy) (3.4.2)\n",
            "Requirement already satisfied: pandas>=1.1.3 in /usr/local/lib/python3.10/dist-packages (from agentpy) (2.2.2)\n",
            "Collecting SALib>=1.3.7 (from agentpy)\n",
            "  Downloading salib-1.5.1-py3-none-any.whl.metadata (11 kB)\n",
            "Requirement already satisfied: joblib>=1.1.0 in /usr/local/lib/python3.10/dist-packages (from agentpy) (1.4.2)\n",
            "Requirement already satisfied: contourpy>=1.0.1 in /usr/local/lib/python3.10/dist-packages (from matplotlib>=3.3.3->agentpy) (1.3.1)\n",
            "Requirement already satisfied: cycler>=0.10 in /usr/local/lib/python3.10/dist-packages (from matplotlib>=3.3.3->agentpy) (0.12.1)\n",
            "Requirement already satisfied: fonttools>=4.22.0 in /usr/local/lib/python3.10/dist-packages (from matplotlib>=3.3.3->agentpy) (4.55.0)\n",
            "Requirement already satisfied: kiwisolver>=1.0.1 in /usr/local/lib/python3.10/dist-packages (from matplotlib>=3.3.3->agentpy) (1.4.7)\n",
            "Requirement already satisfied: packaging>=20.0 in /usr/local/lib/python3.10/dist-packages (from matplotlib>=3.3.3->agentpy) (24.2)\n",
            "Requirement already satisfied: pillow>=6.2.0 in /usr/local/lib/python3.10/dist-packages (from matplotlib>=3.3.3->agentpy) (11.0.0)\n",
            "Requirement already satisfied: pyparsing>=2.3.1 in /usr/local/lib/python3.10/dist-packages (from matplotlib>=3.3.3->agentpy) (3.2.0)\n",
            "Requirement already satisfied: python-dateutil>=2.7 in /usr/local/lib/python3.10/dist-packages (from matplotlib>=3.3.3->agentpy) (2.8.2)\n",
            "Requirement already satisfied: pytz>=2020.1 in /usr/local/lib/python3.10/dist-packages (from pandas>=1.1.3->agentpy) (2024.2)\n",
            "Requirement already satisfied: tzdata>=2022.7 in /usr/local/lib/python3.10/dist-packages (from pandas>=1.1.3->agentpy) (2024.2)\n",
            "Collecting multiprocess (from SALib>=1.3.7->agentpy)\n",
            "  Downloading multiprocess-0.70.17-py310-none-any.whl.metadata (7.2 kB)\n",
            "Requirement already satisfied: six>=1.5 in /usr/local/lib/python3.10/dist-packages (from python-dateutil>=2.7->matplotlib>=3.3.3->agentpy) (1.16.0)\n",
            "Collecting dill>=0.3.9 (from multiprocess->SALib>=1.3.7->agentpy)\n",
            "  Downloading dill-0.3.9-py3-none-any.whl.metadata (10 kB)\n",
            "Downloading agentpy-0.1.5-py3-none-any.whl (53 kB)\n",
            "\u001b[2K   \u001b[90m━━━━━━━━━━━━━━━━━━━━━━━━━━━━━━━━━━━━━━━━\u001b[0m \u001b[32m53.9/53.9 kB\u001b[0m \u001b[31m3.7 MB/s\u001b[0m eta \u001b[36m0:00:00\u001b[0m\n",
            "\u001b[?25hDownloading pathfinding-1.0.11-py3-none-any.whl (22 kB)\n",
            "Downloading salib-1.5.1-py3-none-any.whl (778 kB)\n",
            "\u001b[2K   \u001b[90m━━━━━━━━━━━━━━━━━━━━━━━━━━━━━━━━━━━━━━━━\u001b[0m \u001b[32m778.9/778.9 kB\u001b[0m \u001b[31m35.0 MB/s\u001b[0m eta \u001b[36m0:00:00\u001b[0m\n",
            "\u001b[?25hDownloading multiprocess-0.70.17-py310-none-any.whl (134 kB)\n",
            "\u001b[2K   \u001b[90m━━━━━━━━━━━━━━━━━━━━━━━━━━━━━━━━━━━━━━━━\u001b[0m \u001b[32m134.8/134.8 kB\u001b[0m \u001b[31m9.6 MB/s\u001b[0m eta \u001b[36m0:00:00\u001b[0m\n",
            "\u001b[?25hDownloading dill-0.3.9-py3-none-any.whl (119 kB)\n",
            "\u001b[2K   \u001b[90m━━━━━━━━━━━━━━━━━━━━━━━━━━━━━━━━━━━━━━━━\u001b[0m \u001b[32m119.4/119.4 kB\u001b[0m \u001b[31m11.0 MB/s\u001b[0m eta \u001b[36m0:00:00\u001b[0m\n",
            "\u001b[?25hBuilding wheels for collected packages: owlready2\n",
            "  Building wheel for owlready2 (pyproject.toml) ... \u001b[?25l\u001b[?25hdone\n",
            "  Created wheel for owlready2: filename=owlready2-0.47-cp310-cp310-linux_x86_64.whl size=24075198 sha256=eba78de105bcb8ce650c9ae9cc4d1e03d7e4cbd190a7b925051c0537f2879a3b\n",
            "  Stored in directory: /root/.cache/pip/wheels/27/3e/ba/4171c4b10bba9fe1774fbf8fcf794de889e636ce64ad83a533\n",
            "Successfully built owlready2\n",
            "Installing collected packages: pathfinding, owlready2, dill, multiprocess, SALib, agentpy\n",
            "Successfully installed SALib-1.5.1 agentpy-0.1.5 dill-0.3.9 multiprocess-0.70.17 owlready2-0.47 pathfinding-1.0.11\n"
          ]
        }
      ],
      "source": [
        "!pip install agentpy pathfinding owlready2"
      ]
    },
    {
      "cell_type": "code",
      "source": [
        "import agentpy as ap\n",
        "import pathfinding as pf        #use pathfinding algorithms for the agent's plan\n",
        "import matplotlib.pyplot as plt\n",
        "from owlready2 import *\n",
        "import itertools\n",
        "import random\n",
        "import IPython\n",
        "import math"
      ],
      "metadata": {
        "id": "wwjch697D0kA"
      },
      "execution_count": 87,
      "outputs": []
    },
    {
      "cell_type": "markdown",
      "source": [
        "## 1. Defining Ontology"
      ],
      "metadata": {
        "id": "veIPF7AOEMVX"
      }
    },
    {
      "cell_type": "code",
      "source": [
        "# THIS CELL MUST NOT BE EXECUTED TWICE\n",
        "# If we need to execute this cell again you can do it deleting the ontology as follows:\n",
        "#onto.destroy(update_relation = True, update_is_a = True)\n",
        "\n",
        "#Ontology name and path\n",
        "onto = get_ontology(\"file:///content/coin_onto.owl\")"
      ],
      "metadata": {
        "id": "9GaZv_6qEO7L"
      },
      "execution_count": 3,
      "outputs": []
    },
    {
      "cell_type": "code",
      "source": [
        "# Opening the ontology\n",
        "with onto:\n",
        "    # Define core classes\n",
        "    class Entity(Thing):\n",
        "        \"\"\"Superclass for all entities.\"\"\"\n",
        "        pass\n",
        "\n",
        "    class Drone(Entity):\n",
        "        \"\"\"Represents the surveillance drone.\"\"\"\n",
        "        pass\n",
        "\n",
        "    class Camera(Entity):\n",
        "        \"\"\"Represents a fixed surveillance camera.\"\"\"\n",
        "        pass\n",
        "\n",
        "    class Robber(Entity):\n",
        "        \"\"\"Represents a potentially suspicious individual.\"\"\"\n",
        "        pass\n",
        "\n",
        "    class SecurityPersonnel(Entity):\n",
        "        \"\"\"Represents a security team member.\"\"\"\n",
        "        pass\n",
        "\n",
        "    class Place(Thing):\n",
        "        \"\"\"Represents a specific area or position.\"\"\"\n",
        "        pass\n",
        "\n",
        "    # Define relationships (Object Properties)\n",
        "    class is_in_place(ObjectProperty):\n",
        "        \"\"\"Links an entity to a position (Place).\"\"\"\n",
        "        domain = [Entity]\n",
        "        range = [Place]\n",
        "\n",
        "    class at_position(DataProperty,FunctionalProperty):\n",
        "        \"\"\" Specifies the position of a Place \"\"\"\n",
        "        domain = [Place]\n",
        "        range = [str]\n",
        "        pass\n",
        "\n",
        "    class detects_suspicion(ObjectProperty):\n",
        "        \"\"\"Links a camera or drone to a suspicious entity.\"\"\"\n",
        "        domain = [Camera, Drone]\n",
        "        range = [Robber]\n",
        "\n",
        "    class alerts(ObjectProperty):\n",
        "        \"\"\"Links a camera to a drone or security personnel.\"\"\"\n",
        "        domain = [Camera]\n",
        "        range = [Drone, SecurityPersonnel] # NO CAMERA - > security\n",
        "\n",
        "    class patrolled_by(ObjectProperty):\n",
        "        \"\"\"Links a place to a drone patrolling it.\"\"\"\n",
        "        domain = [Place]\n",
        "        range = [Drone]\n",
        "\n",
        "    class status(DataProperty, FunctionalProperty):\n",
        "        \"\"\"Indicates the status of an entity.\"\"\"\n",
        "        domain = [Entity]\n",
        "        range = [str]\n",
        "\n",
        "# Save the ontology\n",
        "onto.save(file=\"drone_security_ontology.owl\")\n",
        "\n",
        "# Confirmation\n",
        "\"Ontology defined and saved as 'drone_security_ontology.owl'.\""
      ],
      "metadata": {
        "colab": {
          "base_uri": "https://localhost:8080/",
          "height": 36
        },
        "id": "QETMY5wGEbYa",
        "outputId": "26d46261-c492-423d-8f30-6d012d629ef5"
      },
      "execution_count": 4,
      "outputs": [
        {
          "output_type": "execute_result",
          "data": {
            "text/plain": [
              "\"Ontology defined and saved as 'drone_security_ontology.owl'.\""
            ],
            "application/vnd.google.colaboratory.intrinsic+json": {
              "type": "string"
            }
          },
          "metadata": {},
          "execution_count": 4
        }
      ]
    },
    {
      "cell_type": "markdown",
      "source": [
        "## 2. Define agents classes and behaviour"
      ],
      "metadata": {
        "id": "b0kzRx3IRltw"
      }
    },
    {
      "cell_type": "markdown",
      "source": [
        "### Drone"
      ],
      "metadata": {
        "id": "DimwRAscTTpo"
      }
    },
    {
      "cell_type": "code",
      "source": [
        "class DroneAgent(ap.Agent):\n",
        "    \"\"\"Represents a surveillance drone with BDI architecture.\"\"\"\n",
        "\n",
        "    def setup(self):\n",
        "        \"\"\"Initialize the drone's attributes.\"\"\"\n",
        "        self.beliefs = None  # Current robber belief\n",
        "        self.intention = None  # Current goal\n",
        "        self.plan_steps = []  # Steps to achieve the goal\n",
        "        self.intention_succeeded = True  # Whether the current intention is complete\n",
        "        self.patrol_mode = False  # Whether the drone is patrolling\n",
        "        self.agent_type = 0  # For visualization\n",
        "        self.landing_position = None  # The fixed landing station\n",
        "\n",
        "    def send_alert_to_security(self):\n",
        "        \"\"\"Send an alert to the SecurityPersonnelAgent.\"\"\"\n",
        "        if self.beliefs:\n",
        "            robber_position = eval(self.beliefs.is_in_place[0].at_position)\n",
        "            alert = {\n",
        "                'type': 'drone_signal',\n",
        "                'drone': self,\n",
        "                'location': robber_position\n",
        "            }\n",
        "            self.model.alerts.append(alert)\n",
        "            print(f\"Drone sent a signal to security: Robber detected at {robber_position}.\")\n",
        "\n",
        "    def process_camera_alerts(self):\n",
        "        \"\"\"Processes alerts from cameras and verifies the robber's presence.\"\"\"\n",
        "        for alert in self.model.alerts[:]:  # Iterate over a copy to allow safe removal\n",
        "            if 'type' in alert and alert['type'] == 'camera_signal':  # Check if 'type' exists\n",
        "                print(f\"Drone received camera alert: Robber at {alert['location']}.\")\n",
        "                self.intention = 'verify_camera_alert'\n",
        "                self.plan_steps = self.plan_to(alert['location'])\n",
        "                self.model.alerts.remove(alert)\n",
        "\n",
        "    def plan_to(self, target_position):\n",
        "        \"\"\"Creates a plan (sequence of movements) to a specified target.\"\"\"\n",
        "        current_position = self.model.grid.positions[self]\n",
        "        dx = target_position[0] - current_position[0]\n",
        "        dy = target_position[1] - current_position[1]\n",
        "\n",
        "        plan = []\n",
        "\n",
        "        # Crée des pas combinés jusqu'à ce que l'un des axes atteigne la cible\n",
        "        while dx != 0 and dy != 0:\n",
        "            step_x = 1 if dx > 0 else -1\n",
        "            step_y = 1 if dy > 0 else -1\n",
        "            plan.append((step_x, step_y))\n",
        "            dx -= step_x\n",
        "            dy -= step_y\n",
        "\n",
        "        # Ajoute les pas restants uniquement en x si nécessaire\n",
        "        while dx != 0:\n",
        "            step_x = 1 if dx > 0 else -1\n",
        "            plan.append((step_x, 0))\n",
        "            dx -= step_x\n",
        "\n",
        "        # Ajoute les pas restants uniquement en y si nécessaire\n",
        "        while dy != 0:\n",
        "            step_y = 1 if dy > 0 else -1\n",
        "            plan.append((0, step_y))\n",
        "            dy -= step_y\n",
        "\n",
        "        return plan\n",
        "\n",
        "\n",
        "    def land(self):\n",
        "        \"\"\"Simulates the drone landing at the station.\"\"\"\n",
        "        if self.model.grid.positions[self] != self.landing_position:\n",
        "            print(f\"Drone returning to its landing position at {self.landing_position}.\")\n",
        "            self.plan_steps = self.plan_to(self.landing_position)\n",
        "        else:\n",
        "            self.patrol_mode = False\n",
        "            print(f\"Drone has landed safely at {self.landing_position}.\")\n",
        "\n",
        "    def takeoff(self):\n",
        "        \"\"\"Simulates the drone taking off from the landing station.\"\"\"\n",
        "        self.patrol_mode = True\n",
        "        print(f\"Drone is taking off from {self.landing_position} and starting patrol.\")\n",
        "\n",
        "    def see(self, environment):\n",
        "        \"\"\"Perception: Detects the robber within range.\"\"\"\n",
        "        detection_range = 10\n",
        "        detected_robber = next(\n",
        "            (entity for entity in environment.neighbors(self, distance=detection_range)\n",
        "             if isinstance(entity, Robber)),\n",
        "            None\n",
        "        )\n",
        "        return detected_robber\n",
        "\n",
        "    def brf(self, detected_robber):\n",
        "        \"\"\"Belief Revision Function: Updates the belief system based on perceptions.\"\"\"\n",
        "        self.destroy_previous_beliefs()\n",
        "        if detected_robber:\n",
        "            current_position = self.model.grid.positions[detected_robber]\n",
        "            detected_robber.is_in_place = [Place(at_position=str(current_position))]\n",
        "            self.beliefs = detected_robber\n",
        "\n",
        "    def destroy_previous_beliefs(self):\n",
        "        \"\"\"Clears the drone's current belief system.\"\"\"\n",
        "        if self.beliefs:\n",
        "            if hasattr(self.beliefs, 'is_in_place') and self.beliefs.is_in_place:\n",
        "                destroy_entity(self.beliefs.is_in_place[0])\n",
        "            destroy_entity(self.beliefs)\n",
        "            self.beliefs = None\n",
        "\n",
        "    def execute_plan(self):\n",
        "        \"\"\"Executes the current plan by taking one step at a time.\"\"\"\n",
        "        if self.plan_steps:\n",
        "            next_step = self.plan_steps.pop(0)\n",
        "            self.model.grid.move_by(self, next_step)\n",
        "            print(f\"Drone moved to {self.model.grid.positions[self]}.\")\n",
        "        else:\n",
        "            self.intention_succeeded = True\n",
        "            print(\"Drone has completed its current plan.\")\n",
        "\n",
        "    def take_random_step(self):\n",
        "        \"\"\"Makes small random steps to patrol.\"\"\"\n",
        "        directions = [(1, 0), (-1, 0), (0, 1), (0, -1)]\n",
        "        step = random.choice(directions)\n",
        "        new_position = (\n",
        "            self.model.grid.positions[self][0] + step[0],\n",
        "            self.model.grid.positions[self][1] + step[1]\n",
        "        )\n",
        "        if 0 <= new_position[0] < self.model.p.worldSize[0] and 0 <= new_position[1] < self.model.p.worldSize[1]:\n",
        "            self.model.grid.move_by(self, step)\n",
        "            print(f\"Drone moved to {new_position}.\")\n",
        "\n",
        "    def step(self):\n",
        "        \"\"\"The main drone logic for a single simulation step.\"\"\"\n",
        "\n",
        "        # Step 1: Take off if not patrolling\n",
        "        if not self.patrol_mode:\n",
        "            self.takeoff()\n",
        "\n",
        "        # Step 2: Process camera alerts\n",
        "        self.process_camera_alerts()\n",
        "        if self.intention == 'verify_camera_alert':\n",
        "            self.execute_plan()\n",
        "            return\n",
        "\n",
        "        # Step 3: Direct detection of robbers\n",
        "        detected_robber = self.see(self.model.grid)\n",
        "        if detected_robber:\n",
        "            self.brf(detected_robber)\n",
        "            self.send_alert_to_security()\n",
        "            self.plan_steps = self.plan_to(eval(self.beliefs.is_in_place[0].at_position))\n",
        "            self.execute_plan()\n",
        "            return\n",
        "\n",
        "        # Step 4: Check if the drone is at the same position as the robber\n",
        "        if self.beliefs and self.model.grid.positions[self] == eval(self.beliefs.is_in_place[0].at_position):\n",
        "            print(f\"Drone captured the robber at {self.model.grid.positions[self]}!\")\n",
        "            self.model.grid.remove_agents(self.beliefs)  # Remove the robber\n",
        "            self.beliefs = None  # Clear belief about the robber\n",
        "            self.plan_steps = self.plan_to(self.landing_position)  # Plan to return to base\n",
        "            self.execute_plan()\n",
        "            return\n",
        "\n",
        "        # Step 5: Continue patrolling if no active tasks\n",
        "        if not self.plan_steps and not self.beliefs:\n",
        "            self.take_random_step()  # Random patrol movement\n",
        "            self.execute_plan()\n",
        "\n",
        "        # Step 6: Land if patrolling is complete\n",
        "        if not self.plan_steps and not self.beliefs:\n",
        "            self.land()\n",
        "\n",
        "\n"
      ],
      "metadata": {
        "id": "RBpntbbNIVFg"
      },
      "execution_count": 179,
      "outputs": []
    },
    {
      "cell_type": "markdown",
      "source": [
        "### Camera"
      ],
      "metadata": {
        "id": "YXTJ4okKTW5R"
      }
    },
    {
      "cell_type": "code",
      "source": [
        "class CameraAgent(ap.Agent):\n",
        "    \"\"\"Represents a stationary surveillance camera.\"\"\"\n",
        "\n",
        "    def setup(self):\n",
        "        \"\"\"Initialize the camera's attributes.\"\"\"\n",
        "        self.detection_range = 18  # Larger range than the drone\n",
        "        self.alerts_sent = 0  # Tracks the number of alerts sent\n",
        "        self.agent_type = 1  # Unique type identifier for visualization\n",
        "\n",
        "    def detect_robber(self):\n",
        "        \"\"\"Detects the robber within the camera's perception range.\"\"\"\n",
        "        # use neighbors() to find all agents within the specified range\n",
        "        detected_robber = next(\n",
        "            (entity for entity in self.model.grid.neighbors(self, distance=self.detection_range)\n",
        "             if isinstance(entity, Robber)),\n",
        "            None  # Default to None if no robber is detected\n",
        "        )\n",
        "        return detected_robber\n",
        "\n",
        "    def send_alert(self, robber):\n",
        "        \"\"\"Sends an alert to the drone with the robber's location.\"\"\"\n",
        "        robber_position = self.model.grid.positions[robber]\n",
        "        alert = {'type': 'camera_signal',\n",
        "                 'camera' : self,\n",
        "                 'location': robber_position}\n",
        "        self.model.alerts.append(alert)  # Add the alert to the model's alert system\n",
        "        self.alerts_sent += 1\n",
        "        print(f\"Camera at {self.model.grid.positions[self]} sent an alert: Robber detected at {robber_position}\")\n",
        "\n",
        "    def step(self):\n",
        "        \"\"\"Defines the camera's behavior per simulation step.\"\"\"\n",
        "        detected_robber = self.detect_robber()\n",
        "        if detected_robber:\n",
        "            self.send_alert(detected_robber)\n"
      ],
      "metadata": {
        "id": "qskUv1UZqtAn"
      },
      "execution_count": 171,
      "outputs": []
    },
    {
      "cell_type": "markdown",
      "source": [
        "### Robber"
      ],
      "metadata": {
        "id": "6au7ISEdTZA7"
      }
    },
    {
      "cell_type": "code",
      "source": [
        "class Robber(ap.Agent):\n",
        "    \"\"\"Represents a suspicious entity (robber) in the environment.\"\"\"\n",
        "\n",
        "    def setup(self):\n",
        "        \"\"\"Initialize the robber's attributes.\"\"\"\n",
        "        # No need for separate suspicious behavior\n",
        "        self.agent_type = 2  # Unique type identifier for visualization\n",
        "\n",
        "    def move_randomly(self):\n",
        "        \"\"\"Moves the robber randomly within the grid.\"\"\"\n",
        "        directions = [(1, 0), (-1, 0), (0, 1), (0, -1), (0, 0)]  # Including staying in place\n",
        "        step = random.choice(directions)\n",
        "        self.model.grid.move_by(self, step)\n",
        "\n",
        "    def step(self):\n",
        "        \"\"\"Defines the robber's behavior per simulation step.\"\"\"\n",
        "        self.move_randomly()\n"
      ],
      "metadata": {
        "id": "46AmaYPkdewS"
      },
      "execution_count": 37,
      "outputs": []
    },
    {
      "cell_type": "markdown",
      "source": [
        "### Security"
      ],
      "metadata": {
        "id": "5ylZyS9BTcat"
      }
    },
    {
      "cell_type": "code",
      "source": [
        "class SecurityPersonnelAgent(ap.Agent):\n",
        "    \"\"\"Represents security personnel responsible for simulated control of the drone.\"\"\"\n",
        "\n",
        "    def setup(self):\n",
        "        \"\"\"Initialize the agent's attributes.\"\"\"\n",
        "        self.in_communication = False  # Whether communication with the drone is active\n",
        "        self.alert_handled = False  # Tracks whether the current alert has been addressed\n",
        "        self.agent_type = 3  # Unique type identifier for visualization\n",
        "\n",
        "    def respond_to_drone_signal(self, drone, robber_position):\n",
        "        \"\"\"\n",
        "        Simulates taking control of the drone by communicating with it.\n",
        "\n",
        "        Args:\n",
        "            drone (DroneAgent): The drone requesting assistance.\n",
        "            robber_position (tuple): The location of the detected robber.\n",
        "        \"\"\"\n",
        "        print(f\"Security personnel are communicating with the drone at {robber_position}.\")\n",
        "        self.in_communication = True\n",
        "        self.confirm_robber(drone, robber_position)\n",
        "\n",
        "    def confirm_robber(self, drone, robber_position):\n",
        "        \"\"\"\n",
        "        Confirms the presence of the robber and issues a general alarm.\n",
        "\n",
        "        Args:\n",
        "            drone (DroneAgent): The drone currently under simulated control.\n",
        "            robber_position (tuple): The location of the detected robber.\n",
        "        \"\"\"\n",
        "        print(f\"Robber confirmed at {robber_position}. Issuing a general alarm.\")\n",
        "        self.simulate_general_alarm(drone)\n",
        "\n",
        "    def simulate_general_alarm(self, drone):\n",
        "        \"\"\"Simulates issuing a general alarm.\"\"\"\n",
        "        print(\"General alarm issued. Security personnel have resolved the alert.\")\n",
        "        self.in_communication = False\n",
        "        self.alert_handled = True\n",
        "        drone.receive_command(\"alert_resolved\")  # Simulated command to drone\n",
        "\n",
        "    def step(self):\n",
        "        \"\"\"\n",
        "        Defines the agent's behavior per simulation step.\n",
        "        Reacts only if an alert is present and the drone signals for assistance.\n",
        "        \"\"\"\n",
        "        if not self.in_communication and not self.alert_handled:\n",
        "            # Check if the drone has sent a signal for help\n",
        "            for alert in self.model.alerts[:]:\n",
        "                if 'type' not in alert:\n",
        "                    print(f\"Malformed alert: {alert}\")\n",
        "                    self.model.alerts.remove(alert)  # Remove invalid alerts\n",
        "                    continue\n",
        "\n",
        "                if alert['type'] == 'drone_signal':\n",
        "                    self.respond_to_drone_signal(alert['drone'], alert['location'])\n",
        "                    self.model.alerts.remove(alert)  # Remove the alert after handling\n"
      ],
      "metadata": {
        "id": "-72A3l2fsBCt"
      },
      "execution_count": 125,
      "outputs": []
    },
    {
      "cell_type": "markdown",
      "source": [
        "## Additional functions"
      ],
      "metadata": {
        "id": "iPlqoeBaqj0J"
      }
    },
    {
      "cell_type": "markdown",
      "source": [
        "Destroy Beliefs"
      ],
      "metadata": {
        "id": "m4uPF-SUfV49"
      }
    },
    {
      "cell_type": "code",
      "source": [
        "def destroy_previous_beliefs(self):\n",
        "    \"\"\"Clears outdated beliefs and their associated ontology entities.\"\"\"\n",
        "    for belief in self.beliefs:\n",
        "        destroy_entity(belief.is_in_place[0])  # Destroy associated Place\n",
        "        destroy_entity(belief)  # Destroy the belief itself (e.g., Robber)\n",
        "    self.beliefs.clear()  # Reset beliefs list\n"
      ],
      "metadata": {
        "id": "zoAttPsYdGs4"
      },
      "execution_count": 25,
      "outputs": []
    },
    {
      "cell_type": "markdown",
      "source": [
        "Move the agents thanks to a move_by function."
      ],
      "metadata": {
        "id": "mZHWN9Pnpj0c"
      }
    },
    {
      "cell_type": "code",
      "source": [
        "def move_by(agent, step):\n",
        "    \"\"\"\n",
        "    Moves the agent by the specified step on the grid.\n",
        "\n",
        "    Args:\n",
        "        agent (ap.Agent): The agent to move.\n",
        "        step (tuple): The step to move, e.g., (1, 0) for right or (0, -1) for down.\n",
        "    \"\"\"\n",
        "    current_position = agent.model.grid.positions[agent]\n",
        "    new_position = (current_position[0] + step[0], current_position[1] + step[1])\n",
        "\n",
        "    # Ensure the new position is within grid boundaries\n",
        "    if agent.model.grid.is_within_bounds(new_position):\n",
        "        agent.model.grid.move_to(agent, new_position)\n"
      ],
      "metadata": {
        "id": "eA9YC0hspjH2"
      },
      "execution_count": 10,
      "outputs": []
    },
    {
      "cell_type": "markdown",
      "source": [
        "## Simulation"
      ],
      "metadata": {
        "id": "-jTkmLbzuKRa"
      }
    },
    {
      "cell_type": "code",
      "source": [
        "class SurveillanceModel(ap.Model):\n",
        "    def setup(self):\n",
        "        \"\"\"Initialize the simulation with agents and a shared environment.\"\"\"\n",
        "        # Retrieve parameters\n",
        "        world_size = self.p.worldSize\n",
        "        drone_count = self.p.droneAgents\n",
        "        camera_count = self.p.cameraAgents\n",
        "        robber_count = self.p.robberAgents\n",
        "\n",
        "        # Create agents using ap.AgentList\n",
        "        self.drone = ap.AgentList(self, drone_count, DroneAgent)\n",
        "        self.cameras = ap.AgentList(self, camera_count, CameraAgent)\n",
        "        self.robber = ap.AgentList(self, robber_count, Robber)\n",
        "        self.security = ap.AgentList(self, 1, SecurityPersonnelAgent)\n",
        "\n",
        "        # Create a grid\n",
        "        self.grid = ap.Grid(self, world_size, track_empty=True)\n",
        "\n",
        "        # Place agents on the grid\n",
        "        self.grid.add_agents(self.drone, positions=[(world_size[0] // 2, world_size[1] // 2)])  # Drone at center\n",
        "        self.grid.add_agents(self.robber, random=True)  # Place robber randomly\n",
        "        self.grid.add_agents(self.cameras, random=True)  # Place cameras randomly\n",
        "        self.grid.add_agents(self.security, positions=[(0, 0)])  # Fixed position for security personnel\n",
        "\n",
        "        # Initialize landing position for the drones\n",
        "        for drone in self.drone:\n",
        "            drone.landing_position = (world_size[0] // 2, world_size[1] // 2)\n",
        "\n",
        "        # Create a shared alert system\n",
        "        self.alerts = []\n",
        "\n",
        "    def step(self):\n",
        "        \"\"\"Run the simulation for one step.\"\"\"\n",
        "        # Call the step method for each type of agent\n",
        "        self.robber.step()\n",
        "        self.cameras.step()\n",
        "        self.drone.step()\n",
        "        self.security.step()\n",
        "\n",
        "    def update(self):\n",
        "        \"\"\"Update data or visualization after each step.\"\"\"\n",
        "        pass\n",
        "\n",
        "    def end(self):\n",
        "        \"\"\"Finalize the simulation.\"\"\"\n",
        "        print(\"Simulation completed!\")\n",
        "\n"
      ],
      "metadata": {
        "id": "bOUBnlMCuMXf"
      },
      "execution_count": 185,
      "outputs": []
    },
    {
      "cell_type": "code",
      "source": [
        "def animation_plot(model, ax):\n",
        "    \"\"\"Visualizes the grid and agent types.\"\"\"\n",
        "    # Use attr_grid to get agent_type for each grid cell\n",
        "    agent_type_grid = model.grid.attr_grid('agent_type')\n",
        "    ap.gridplot(agent_type_grid, cmap='Accent', ax=ax)\n",
        "    ax.set_title(f\"Surveillance Simulation \\n Time-step: {model.t}\")\n"
      ],
      "metadata": {
        "id": "qpjVH1poCFDj"
      },
      "execution_count": 107,
      "outputs": []
    },
    {
      "cell_type": "code",
      "source": [
        "# Parameters\n",
        "parameters = {\n",
        "    \"droneAgents\": 1,         # Number of drones\n",
        "    \"cameraAgents\": 3,        # Number of cameras\n",
        "    \"robberAgents\": 1,        # Number of robbers\n",
        "    \"worldSize\": (100, 100),    # Grid size (width, height)\n",
        "    \"steps\": 50,              # Maximum steps\n",
        "    \"seed\": 47                # Random seed for reproducibility\n",
        "}\n",
        "\n"
      ],
      "metadata": {
        "id": "lYWsPp89uRS4"
      },
      "execution_count": 181,
      "outputs": []
    },
    {
      "cell_type": "code",
      "source": [
        "# Create figure for animation\n",
        "fig, ax = plt.subplots(figsize=(8, 8))\n",
        "\n",
        "# Create and run the model\n",
        "model = SurveillanceModel(parameters)\n",
        "\n",
        "# Run the simulation with animation\n",
        "animation = ap.animate(model, fig, ax, animation_plot)\n",
        "\n",
        "# Display the animation\n",
        "IPython.display.HTML(animation.to_jshtml())\n"
      ],
      "metadata": {
        "colab": {
          "base_uri": "https://localhost:8080/",
          "height": 333
        },
        "collapsed": true,
        "id": "KZY1YRQ8dvKx",
        "outputId": "9c7ab919-e53e-4731-a129-cc85cce31b44"
      },
      "execution_count": 184,
      "outputs": [
        {
          "output_type": "error",
          "ename": "KeyError",
          "evalue": "CameraAgent (Obj 3)",
          "traceback": [
            "\u001b[0;31m---------------------------------------------------------------------------\u001b[0m",
            "\u001b[0;31mKeyError\u001b[0m                                  Traceback (most recent call last)",
            "\u001b[0;32m<ipython-input-184-97e41dd9e39e>\u001b[0m in \u001b[0;36m<cell line: 11>\u001b[0;34m()\u001b[0m\n\u001b[1;32m      9\u001b[0m \u001b[0;34m\u001b[0m\u001b[0m\n\u001b[1;32m     10\u001b[0m \u001b[0;31m# Display the animation\u001b[0m\u001b[0;34m\u001b[0m\u001b[0;34m\u001b[0m\u001b[0m\n\u001b[0;32m---> 11\u001b[0;31m \u001b[0mIPython\u001b[0m\u001b[0;34m.\u001b[0m\u001b[0mdisplay\u001b[0m\u001b[0;34m.\u001b[0m\u001b[0mHTML\u001b[0m\u001b[0;34m(\u001b[0m\u001b[0manimation\u001b[0m\u001b[0;34m.\u001b[0m\u001b[0mto_jshtml\u001b[0m\u001b[0;34m(\u001b[0m\u001b[0;34m)\u001b[0m\u001b[0;34m)\u001b[0m\u001b[0;34m\u001b[0m\u001b[0;34m\u001b[0m\u001b[0m\n\u001b[0m",
            "\u001b[0;32m/usr/local/lib/python3.10/dist-packages/matplotlib/animation.py\u001b[0m in \u001b[0;36mto_jshtml\u001b[0;34m(self, fps, embed_frames, default_mode)\u001b[0m\n\u001b[1;32m   1351\u001b[0m                                     \u001b[0membed_frames\u001b[0m\u001b[0;34m=\u001b[0m\u001b[0membed_frames\u001b[0m\u001b[0;34m,\u001b[0m\u001b[0;34m\u001b[0m\u001b[0;34m\u001b[0m\u001b[0m\n\u001b[1;32m   1352\u001b[0m                                     default_mode=default_mode)\n\u001b[0;32m-> 1353\u001b[0;31m                 \u001b[0mself\u001b[0m\u001b[0;34m.\u001b[0m\u001b[0msave\u001b[0m\u001b[0;34m(\u001b[0m\u001b[0mstr\u001b[0m\u001b[0;34m(\u001b[0m\u001b[0mpath\u001b[0m\u001b[0;34m)\u001b[0m\u001b[0;34m,\u001b[0m \u001b[0mwriter\u001b[0m\u001b[0;34m=\u001b[0m\u001b[0mwriter\u001b[0m\u001b[0;34m)\u001b[0m\u001b[0;34m\u001b[0m\u001b[0;34m\u001b[0m\u001b[0m\n\u001b[0m\u001b[1;32m   1354\u001b[0m                 \u001b[0mself\u001b[0m\u001b[0;34m.\u001b[0m\u001b[0m_html_representation\u001b[0m \u001b[0;34m=\u001b[0m \u001b[0mpath\u001b[0m\u001b[0;34m.\u001b[0m\u001b[0mread_text\u001b[0m\u001b[0;34m(\u001b[0m\u001b[0;34m)\u001b[0m\u001b[0;34m\u001b[0m\u001b[0;34m\u001b[0m\u001b[0m\n\u001b[1;32m   1355\u001b[0m \u001b[0;34m\u001b[0m\u001b[0m\n",
            "\u001b[0;32m/usr/local/lib/python3.10/dist-packages/matplotlib/animation.py\u001b[0m in \u001b[0;36msave\u001b[0;34m(self, filename, writer, fps, dpi, codec, bitrate, extra_args, metadata, extra_anim, savefig_kwargs, progress_callback)\u001b[0m\n\u001b[1;32m   1100\u001b[0m             \u001b[0;32melse\u001b[0m\u001b[0;34m:\u001b[0m\u001b[0;34m\u001b[0m\u001b[0;34m\u001b[0m\u001b[0m\n\u001b[1;32m   1101\u001b[0m                 \u001b[0mtotal_frames\u001b[0m \u001b[0;34m=\u001b[0m \u001b[0msum\u001b[0m\u001b[0;34m(\u001b[0m\u001b[0msave_count_list\u001b[0m\u001b[0;34m)\u001b[0m\u001b[0;34m\u001b[0m\u001b[0;34m\u001b[0m\u001b[0m\n\u001b[0;32m-> 1102\u001b[0;31m             \u001b[0;32mfor\u001b[0m \u001b[0mdata\u001b[0m \u001b[0;32min\u001b[0m \u001b[0mzip\u001b[0m\u001b[0;34m(\u001b[0m\u001b[0;34m*\u001b[0m\u001b[0;34m[\u001b[0m\u001b[0ma\u001b[0m\u001b[0;34m.\u001b[0m\u001b[0mnew_saved_frame_seq\u001b[0m\u001b[0;34m(\u001b[0m\u001b[0;34m)\u001b[0m \u001b[0;32mfor\u001b[0m \u001b[0ma\u001b[0m \u001b[0;32min\u001b[0m \u001b[0mall_anim\u001b[0m\u001b[0;34m]\u001b[0m\u001b[0;34m)\u001b[0m\u001b[0;34m:\u001b[0m\u001b[0;34m\u001b[0m\u001b[0;34m\u001b[0m\u001b[0m\n\u001b[0m\u001b[1;32m   1103\u001b[0m                 \u001b[0;32mfor\u001b[0m \u001b[0manim\u001b[0m\u001b[0;34m,\u001b[0m \u001b[0md\u001b[0m \u001b[0;32min\u001b[0m \u001b[0mzip\u001b[0m\u001b[0;34m(\u001b[0m\u001b[0mall_anim\u001b[0m\u001b[0;34m,\u001b[0m \u001b[0mdata\u001b[0m\u001b[0;34m)\u001b[0m\u001b[0;34m:\u001b[0m\u001b[0;34m\u001b[0m\u001b[0;34m\u001b[0m\u001b[0m\n\u001b[1;32m   1104\u001b[0m                     \u001b[0;31m# TODO: See if turning off blit is really necessary\u001b[0m\u001b[0;34m\u001b[0m\u001b[0;34m\u001b[0m\u001b[0m\n",
            "\u001b[0;32m/usr/local/lib/python3.10/dist-packages/agentpy/visualization.py\u001b[0m in \u001b[0;36mframes\u001b[0;34m()\u001b[0m\n\u001b[1;32m     71\u001b[0m                     \u001b[0mpre_steps\u001b[0m \u001b[0;34m+=\u001b[0m \u001b[0;36m1\u001b[0m\u001b[0;34m\u001b[0m\u001b[0;34m\u001b[0m\u001b[0m\n\u001b[1;32m     72\u001b[0m                 \u001b[0;32melse\u001b[0m\u001b[0;34m:\u001b[0m\u001b[0;34m\u001b[0m\u001b[0;34m\u001b[0m\u001b[0m\n\u001b[0;32m---> 73\u001b[0;31m                     \u001b[0mmodel\u001b[0m\u001b[0;34m.\u001b[0m\u001b[0msim_step\u001b[0m\u001b[0;34m(\u001b[0m\u001b[0;34m)\u001b[0m\u001b[0;34m\u001b[0m\u001b[0;34m\u001b[0m\u001b[0m\n\u001b[0m\u001b[1;32m     74\u001b[0m                     \u001b[0mmodel\u001b[0m\u001b[0;34m.\u001b[0m\u001b[0mcreate_output\u001b[0m\u001b[0;34m(\u001b[0m\u001b[0;34m)\u001b[0m\u001b[0;34m\u001b[0m\u001b[0;34m\u001b[0m\u001b[0m\n\u001b[1;32m     75\u001b[0m                 \u001b[0;32myield\u001b[0m \u001b[0mmodel\u001b[0m\u001b[0;34m.\u001b[0m\u001b[0mt\u001b[0m\u001b[0;34m\u001b[0m\u001b[0;34m\u001b[0m\u001b[0m\n",
            "\u001b[0;32m/usr/local/lib/python3.10/dist-packages/agentpy/model.py\u001b[0m in \u001b[0;36msim_step\u001b[0;34m(self)\u001b[0m\n\u001b[1;32m    325\u001b[0m         and then calling :func:`Model.step` and :func:`Model.update`.\"\"\"\n\u001b[1;32m    326\u001b[0m         \u001b[0mself\u001b[0m\u001b[0;34m.\u001b[0m\u001b[0mt\u001b[0m \u001b[0;34m+=\u001b[0m \u001b[0;36m1\u001b[0m\u001b[0;34m\u001b[0m\u001b[0;34m\u001b[0m\u001b[0m\n\u001b[0;32m--> 327\u001b[0;31m         \u001b[0mself\u001b[0m\u001b[0;34m.\u001b[0m\u001b[0mstep\u001b[0m\u001b[0;34m(\u001b[0m\u001b[0;34m)\u001b[0m\u001b[0;34m\u001b[0m\u001b[0;34m\u001b[0m\u001b[0m\n\u001b[0m\u001b[1;32m    328\u001b[0m         \u001b[0mself\u001b[0m\u001b[0;34m.\u001b[0m\u001b[0mupdate\u001b[0m\u001b[0;34m(\u001b[0m\u001b[0;34m)\u001b[0m\u001b[0;34m\u001b[0m\u001b[0;34m\u001b[0m\u001b[0m\n\u001b[1;32m    329\u001b[0m         \u001b[0;32mif\u001b[0m \u001b[0mself\u001b[0m\u001b[0;34m.\u001b[0m\u001b[0mt\u001b[0m \u001b[0;34m>=\u001b[0m \u001b[0mself\u001b[0m\u001b[0;34m.\u001b[0m\u001b[0m_steps\u001b[0m\u001b[0;34m:\u001b[0m\u001b[0;34m\u001b[0m\u001b[0;34m\u001b[0m\u001b[0m\n",
            "\u001b[0;32m<ipython-input-183-ef98e788ce96>\u001b[0m in \u001b[0;36mstep\u001b[0;34m(self)\u001b[0m\n\u001b[1;32m     52\u001b[0m         \u001b[0;31m# Call the step method for each type of agent\u001b[0m\u001b[0;34m\u001b[0m\u001b[0;34m\u001b[0m\u001b[0m\n\u001b[1;32m     53\u001b[0m         \u001b[0mself\u001b[0m\u001b[0;34m.\u001b[0m\u001b[0mrobber\u001b[0m\u001b[0;34m.\u001b[0m\u001b[0mstep\u001b[0m\u001b[0;34m(\u001b[0m\u001b[0;34m)\u001b[0m\u001b[0;34m\u001b[0m\u001b[0;34m\u001b[0m\u001b[0m\n\u001b[0;32m---> 54\u001b[0;31m         \u001b[0mself\u001b[0m\u001b[0;34m.\u001b[0m\u001b[0mcameras\u001b[0m\u001b[0;34m.\u001b[0m\u001b[0mstep\u001b[0m\u001b[0;34m(\u001b[0m\u001b[0;34m)\u001b[0m\u001b[0;34m\u001b[0m\u001b[0;34m\u001b[0m\u001b[0m\n\u001b[0m\u001b[1;32m     55\u001b[0m         \u001b[0mself\u001b[0m\u001b[0;34m.\u001b[0m\u001b[0mdrone\u001b[0m\u001b[0;34m.\u001b[0m\u001b[0mstep\u001b[0m\u001b[0;34m(\u001b[0m\u001b[0;34m)\u001b[0m\u001b[0;34m\u001b[0m\u001b[0;34m\u001b[0m\u001b[0m\n\u001b[1;32m     56\u001b[0m         \u001b[0mself\u001b[0m\u001b[0;34m.\u001b[0m\u001b[0msecurity\u001b[0m\u001b[0;34m.\u001b[0m\u001b[0mstep\u001b[0m\u001b[0;34m(\u001b[0m\u001b[0;34m)\u001b[0m\u001b[0;34m\u001b[0m\u001b[0;34m\u001b[0m\u001b[0m\n",
            "\u001b[0;32m/usr/local/lib/python3.10/dist-packages/agentpy/sequences.py\u001b[0m in \u001b[0;36m__call__\u001b[0;34m(self, *args, **kwargs)\u001b[0m\n\u001b[1;32m    100\u001b[0m \u001b[0;34m\u001b[0m\u001b[0m\n\u001b[1;32m    101\u001b[0m     \u001b[0;32mdef\u001b[0m \u001b[0m__call__\u001b[0m\u001b[0;34m(\u001b[0m\u001b[0mself\u001b[0m\u001b[0;34m,\u001b[0m \u001b[0;34m*\u001b[0m\u001b[0margs\u001b[0m\u001b[0;34m,\u001b[0m \u001b[0;34m**\u001b[0m\u001b[0mkwargs\u001b[0m\u001b[0;34m)\u001b[0m\u001b[0;34m:\u001b[0m\u001b[0;34m\u001b[0m\u001b[0;34m\u001b[0m\u001b[0m\n\u001b[0;32m--> 102\u001b[0;31m         \u001b[0;32mreturn\u001b[0m \u001b[0mAttrIter\u001b[0m\u001b[0;34m(\u001b[0m\u001b[0;34m[\u001b[0m\u001b[0mfunc_obj\u001b[0m\u001b[0;34m(\u001b[0m\u001b[0;34m*\u001b[0m\u001b[0margs\u001b[0m\u001b[0;34m,\u001b[0m \u001b[0;34m**\u001b[0m\u001b[0mkwargs\u001b[0m\u001b[0;34m)\u001b[0m \u001b[0;32mfor\u001b[0m \u001b[0mfunc_obj\u001b[0m \u001b[0;32min\u001b[0m \u001b[0mself\u001b[0m\u001b[0;34m]\u001b[0m\u001b[0;34m)\u001b[0m\u001b[0;34m\u001b[0m\u001b[0;34m\u001b[0m\u001b[0m\n\u001b[0m\u001b[1;32m    103\u001b[0m \u001b[0;34m\u001b[0m\u001b[0m\n\u001b[1;32m    104\u001b[0m     \u001b[0;32mdef\u001b[0m \u001b[0m__eq__\u001b[0m\u001b[0;34m(\u001b[0m\u001b[0mself\u001b[0m\u001b[0;34m,\u001b[0m \u001b[0mother\u001b[0m\u001b[0;34m)\u001b[0m\u001b[0;34m:\u001b[0m\u001b[0;34m\u001b[0m\u001b[0;34m\u001b[0m\u001b[0m\n",
            "\u001b[0;32m/usr/local/lib/python3.10/dist-packages/agentpy/sequences.py\u001b[0m in \u001b[0;36m<listcomp>\u001b[0;34m(.0)\u001b[0m\n\u001b[1;32m    100\u001b[0m \u001b[0;34m\u001b[0m\u001b[0m\n\u001b[1;32m    101\u001b[0m     \u001b[0;32mdef\u001b[0m \u001b[0m__call__\u001b[0m\u001b[0;34m(\u001b[0m\u001b[0mself\u001b[0m\u001b[0;34m,\u001b[0m \u001b[0;34m*\u001b[0m\u001b[0margs\u001b[0m\u001b[0;34m,\u001b[0m \u001b[0;34m**\u001b[0m\u001b[0mkwargs\u001b[0m\u001b[0;34m)\u001b[0m\u001b[0;34m:\u001b[0m\u001b[0;34m\u001b[0m\u001b[0;34m\u001b[0m\u001b[0m\n\u001b[0;32m--> 102\u001b[0;31m         \u001b[0;32mreturn\u001b[0m \u001b[0mAttrIter\u001b[0m\u001b[0;34m(\u001b[0m\u001b[0;34m[\u001b[0m\u001b[0mfunc_obj\u001b[0m\u001b[0;34m(\u001b[0m\u001b[0;34m*\u001b[0m\u001b[0margs\u001b[0m\u001b[0;34m,\u001b[0m \u001b[0;34m**\u001b[0m\u001b[0mkwargs\u001b[0m\u001b[0;34m)\u001b[0m \u001b[0;32mfor\u001b[0m \u001b[0mfunc_obj\u001b[0m \u001b[0;32min\u001b[0m \u001b[0mself\u001b[0m\u001b[0;34m]\u001b[0m\u001b[0;34m)\u001b[0m\u001b[0;34m\u001b[0m\u001b[0;34m\u001b[0m\u001b[0m\n\u001b[0m\u001b[1;32m    103\u001b[0m \u001b[0;34m\u001b[0m\u001b[0m\n\u001b[1;32m    104\u001b[0m     \u001b[0;32mdef\u001b[0m \u001b[0m__eq__\u001b[0m\u001b[0;34m(\u001b[0m\u001b[0mself\u001b[0m\u001b[0;34m,\u001b[0m \u001b[0mother\u001b[0m\u001b[0;34m)\u001b[0m\u001b[0;34m:\u001b[0m\u001b[0;34m\u001b[0m\u001b[0;34m\u001b[0m\u001b[0m\n",
            "\u001b[0;32m<ipython-input-171-7ae3c588503d>\u001b[0m in \u001b[0;36mstep\u001b[0;34m(self)\u001b[0m\n\u001b[1;32m     30\u001b[0m     \u001b[0;32mdef\u001b[0m \u001b[0mstep\u001b[0m\u001b[0;34m(\u001b[0m\u001b[0mself\u001b[0m\u001b[0;34m)\u001b[0m\u001b[0;34m:\u001b[0m\u001b[0;34m\u001b[0m\u001b[0;34m\u001b[0m\u001b[0m\n\u001b[1;32m     31\u001b[0m         \u001b[0;34m\"\"\"Defines the camera's behavior per simulation step.\"\"\"\u001b[0m\u001b[0;34m\u001b[0m\u001b[0;34m\u001b[0m\u001b[0m\n\u001b[0;32m---> 32\u001b[0;31m         \u001b[0mdetected_robber\u001b[0m \u001b[0;34m=\u001b[0m \u001b[0mself\u001b[0m\u001b[0;34m.\u001b[0m\u001b[0mdetect_robber\u001b[0m\u001b[0;34m(\u001b[0m\u001b[0;34m)\u001b[0m\u001b[0;34m\u001b[0m\u001b[0;34m\u001b[0m\u001b[0m\n\u001b[0m\u001b[1;32m     33\u001b[0m         \u001b[0;32mif\u001b[0m \u001b[0mdetected_robber\u001b[0m\u001b[0;34m:\u001b[0m\u001b[0;34m\u001b[0m\u001b[0;34m\u001b[0m\u001b[0m\n\u001b[1;32m     34\u001b[0m             \u001b[0mself\u001b[0m\u001b[0;34m.\u001b[0m\u001b[0msend_alert\u001b[0m\u001b[0;34m(\u001b[0m\u001b[0mdetected_robber\u001b[0m\u001b[0;34m)\u001b[0m\u001b[0;34m\u001b[0m\u001b[0;34m\u001b[0m\u001b[0m\n",
            "\u001b[0;32m<ipython-input-171-7ae3c588503d>\u001b[0m in \u001b[0;36mdetect_robber\u001b[0;34m(self)\u001b[0m\n\u001b[1;32m     12\u001b[0m         \u001b[0;31m# use neighbors() to find all agents within the specified range\u001b[0m\u001b[0;34m\u001b[0m\u001b[0;34m\u001b[0m\u001b[0m\n\u001b[1;32m     13\u001b[0m         detected_robber = next(\n\u001b[0;32m---> 14\u001b[0;31m             (entity for entity in self.model.grid.neighbors(self, distance=self.detection_range)\n\u001b[0m\u001b[1;32m     15\u001b[0m              if isinstance(entity, Robber)),\n\u001b[1;32m     16\u001b[0m             \u001b[0;32mNone\u001b[0m  \u001b[0;31m# Default to None if no robber is detected\u001b[0m\u001b[0;34m\u001b[0m\u001b[0;34m\u001b[0m\u001b[0m\n",
            "\u001b[0;32m/usr/local/lib/python3.10/dist-packages/agentpy/grid.py\u001b[0m in \u001b[0;36mneighbors\u001b[0;34m(self, agent, distance)\u001b[0m\n\u001b[1;32m    320\u001b[0m         \"\"\"\n\u001b[1;32m    321\u001b[0m \u001b[0;34m\u001b[0m\u001b[0m\n\u001b[0;32m--> 322\u001b[0;31m         \u001b[0mpos\u001b[0m \u001b[0;34m=\u001b[0m \u001b[0mself\u001b[0m\u001b[0;34m.\u001b[0m\u001b[0mpositions\u001b[0m\u001b[0;34m[\u001b[0m\u001b[0magent\u001b[0m\u001b[0;34m]\u001b[0m\u001b[0;34m\u001b[0m\u001b[0;34m\u001b[0m\u001b[0m\n\u001b[0m\u001b[1;32m    323\u001b[0m \u001b[0;34m\u001b[0m\u001b[0m\n\u001b[1;32m    324\u001b[0m         \u001b[0;31m# TODO Change method upon initiation\u001b[0m\u001b[0;34m\u001b[0m\u001b[0;34m\u001b[0m\u001b[0m\n",
            "\u001b[0;31mKeyError\u001b[0m: CameraAgent (Obj 3)"
          ]
        }
      ]
    }
  ]
}