{
 "cells": [
  {
   "cell_type": "markdown",
   "metadata": {
    "colab_type": "text",
    "id": "view-in-github"
   },
   "source": [
    "<a href=\"https://colab.research.google.com/github/Roberto-Teigeiro/AgentSimulation/blob/main/DroneRobberSimulationV2.ipynb\" target=\"_parent\"><img src=\"https://colab.research.google.com/assets/colab-badge.svg\" alt=\"Open In Colab\"/></a>"
   ]
  },
  {
   "cell_type": "markdown",
   "metadata": {
    "id": "Dy_IqvBoD8gR"
   },
   "source": [
    "# Evidence 2\n"
   ]
  },
  {
   "cell_type": "markdown",
   "metadata": {
    "id": "DeUsXosAD4_m"
   },
   "source": [
    "## 0. Installing libraries"
   ]
  },
  {
   "cell_type": "code",
   "execution_count": 104,
   "metadata": {
    "colab": {
     "base_uri": "https://localhost:8080/"
    },
    "collapsed": true,
    "id": "64kTta8nB0kt",
    "outputId": "05717d30-fe2a-4fdc-928b-1c2fb30f9cf2"
   },
   "outputs": [
    {
     "name": "stdout",
     "output_type": "stream",
     "text": [
      "Defaulting to user installation because normal site-packages is not writeable\n",
      "Requirement already satisfied: agentpy in c:\\users\\id140\\appdata\\local\\packages\\pythonsoftwarefoundation.python.3.12_qbz5n2kfra8p0\\localcache\\local-packages\\python312\\site-packages (0.1.5)\n",
      "Requirement already satisfied: pathfinding in c:\\users\\id140\\appdata\\local\\packages\\pythonsoftwarefoundation.python.3.12_qbz5n2kfra8p0\\localcache\\local-packages\\python312\\site-packages (1.0.11)\n",
      "Requirement already satisfied: owlready2 in c:\\users\\id140\\appdata\\local\\packages\\pythonsoftwarefoundation.python.3.12_qbz5n2kfra8p0\\localcache\\local-packages\\python312\\site-packages (0.47)\n",
      "Requirement already satisfied: requests in c:\\users\\id140\\appdata\\local\\packages\\pythonsoftwarefoundation.python.3.12_qbz5n2kfra8p0\\localcache\\local-packages\\python312\\site-packages (2.32.3)\n",
      "Requirement already satisfied: numpy>=1.19 in c:\\users\\id140\\appdata\\local\\packages\\pythonsoftwarefoundation.python.3.12_qbz5n2kfra8p0\\localcache\\local-packages\\python312\\site-packages (from agentpy) (2.1.2)\n",
      "Requirement already satisfied: scipy>=1.5.2 in c:\\users\\id140\\appdata\\local\\packages\\pythonsoftwarefoundation.python.3.12_qbz5n2kfra8p0\\localcache\\local-packages\\python312\\site-packages (from agentpy) (1.14.1)\n",
      "Requirement already satisfied: matplotlib>=3.3.3 in c:\\users\\id140\\appdata\\local\\packages\\pythonsoftwarefoundation.python.3.12_qbz5n2kfra8p0\\localcache\\local-packages\\python312\\site-packages (from agentpy) (3.9.2)\n",
      "Requirement already satisfied: networkx>=2.5 in c:\\users\\id140\\appdata\\local\\packages\\pythonsoftwarefoundation.python.3.12_qbz5n2kfra8p0\\localcache\\local-packages\\python312\\site-packages (from agentpy) (3.4.2)\n",
      "Requirement already satisfied: pandas>=1.1.3 in c:\\users\\id140\\appdata\\local\\packages\\pythonsoftwarefoundation.python.3.12_qbz5n2kfra8p0\\localcache\\local-packages\\python312\\site-packages (from agentpy) (2.2.3)\n",
      "Requirement already satisfied: SALib>=1.3.7 in c:\\users\\id140\\appdata\\local\\packages\\pythonsoftwarefoundation.python.3.12_qbz5n2kfra8p0\\localcache\\local-packages\\python312\\site-packages (from agentpy) (1.5.1)\n",
      "Requirement already satisfied: joblib>=1.1.0 in c:\\users\\id140\\appdata\\local\\packages\\pythonsoftwarefoundation.python.3.12_qbz5n2kfra8p0\\localcache\\local-packages\\python312\\site-packages (from agentpy) (1.4.2)\n",
      "Requirement already satisfied: charset-normalizer<4,>=2 in c:\\users\\id140\\appdata\\local\\packages\\pythonsoftwarefoundation.python.3.12_qbz5n2kfra8p0\\localcache\\local-packages\\python312\\site-packages (from requests) (3.4.0)\n",
      "Requirement already satisfied: idna<4,>=2.5 in c:\\users\\id140\\appdata\\local\\packages\\pythonsoftwarefoundation.python.3.12_qbz5n2kfra8p0\\localcache\\local-packages\\python312\\site-packages (from requests) (3.10)\n",
      "Requirement already satisfied: urllib3<3,>=1.21.1 in c:\\users\\id140\\appdata\\local\\packages\\pythonsoftwarefoundation.python.3.12_qbz5n2kfra8p0\\localcache\\local-packages\\python312\\site-packages (from requests) (2.2.3)\n",
      "Requirement already satisfied: certifi>=2017.4.17 in c:\\users\\id140\\appdata\\local\\packages\\pythonsoftwarefoundation.python.3.12_qbz5n2kfra8p0\\localcache\\local-packages\\python312\\site-packages (from requests) (2024.8.30)\n",
      "Requirement already satisfied: contourpy>=1.0.1 in c:\\users\\id140\\appdata\\local\\packages\\pythonsoftwarefoundation.python.3.12_qbz5n2kfra8p0\\localcache\\local-packages\\python312\\site-packages (from matplotlib>=3.3.3->agentpy) (1.3.0)\n",
      "Requirement already satisfied: cycler>=0.10 in c:\\users\\id140\\appdata\\local\\packages\\pythonsoftwarefoundation.python.3.12_qbz5n2kfra8p0\\localcache\\local-packages\\python312\\site-packages (from matplotlib>=3.3.3->agentpy) (0.12.1)\n",
      "Requirement already satisfied: fonttools>=4.22.0 in c:\\users\\id140\\appdata\\local\\packages\\pythonsoftwarefoundation.python.3.12_qbz5n2kfra8p0\\localcache\\local-packages\\python312\\site-packages (from matplotlib>=3.3.3->agentpy) (4.54.1)\n",
      "Requirement already satisfied: kiwisolver>=1.3.1 in c:\\users\\id140\\appdata\\local\\packages\\pythonsoftwarefoundation.python.3.12_qbz5n2kfra8p0\\localcache\\local-packages\\python312\\site-packages (from matplotlib>=3.3.3->agentpy) (1.4.7)\n",
      "Requirement already satisfied: packaging>=20.0 in c:\\users\\id140\\appdata\\local\\packages\\pythonsoftwarefoundation.python.3.12_qbz5n2kfra8p0\\localcache\\local-packages\\python312\\site-packages (from matplotlib>=3.3.3->agentpy) (24.1)\n",
      "Requirement already satisfied: pillow>=8 in c:\\users\\id140\\appdata\\local\\packages\\pythonsoftwarefoundation.python.3.12_qbz5n2kfra8p0\\localcache\\local-packages\\python312\\site-packages (from matplotlib>=3.3.3->agentpy) (11.0.0)\n",
      "Requirement already satisfied: pyparsing>=2.3.1 in c:\\users\\id140\\appdata\\local\\packages\\pythonsoftwarefoundation.python.3.12_qbz5n2kfra8p0\\localcache\\local-packages\\python312\\site-packages (from matplotlib>=3.3.3->agentpy) (3.2.0)\n",
      "Requirement already satisfied: python-dateutil>=2.7 in c:\\users\\id140\\appdata\\local\\packages\\pythonsoftwarefoundation.python.3.12_qbz5n2kfra8p0\\localcache\\local-packages\\python312\\site-packages (from matplotlib>=3.3.3->agentpy) (2.9.0.post0)\n",
      "Requirement already satisfied: pytz>=2020.1 in c:\\users\\id140\\appdata\\local\\packages\\pythonsoftwarefoundation.python.3.12_qbz5n2kfra8p0\\localcache\\local-packages\\python312\\site-packages (from pandas>=1.1.3->agentpy) (2024.2)\n",
      "Requirement already satisfied: tzdata>=2022.7 in c:\\users\\id140\\appdata\\local\\packages\\pythonsoftwarefoundation.python.3.12_qbz5n2kfra8p0\\localcache\\local-packages\\python312\\site-packages (from pandas>=1.1.3->agentpy) (2024.2)\n",
      "Requirement already satisfied: multiprocess in c:\\users\\id140\\appdata\\local\\packages\\pythonsoftwarefoundation.python.3.12_qbz5n2kfra8p0\\localcache\\local-packages\\python312\\site-packages (from SALib>=1.3.7->agentpy) (0.70.17)\n",
      "Requirement already satisfied: six>=1.5 in c:\\users\\id140\\appdata\\local\\packages\\pythonsoftwarefoundation.python.3.12_qbz5n2kfra8p0\\localcache\\local-packages\\python312\\site-packages (from python-dateutil>=2.7->matplotlib>=3.3.3->agentpy) (1.16.0)\n",
      "Requirement already satisfied: dill>=0.3.9 in c:\\users\\id140\\appdata\\local\\packages\\pythonsoftwarefoundation.python.3.12_qbz5n2kfra8p0\\localcache\\local-packages\\python312\\site-packages (from multiprocess->SALib>=1.3.7->agentpy) (0.3.9)\n"
     ]
    },
    {
     "name": "stderr",
     "output_type": "stream",
     "text": [
      "\n",
      "[notice] A new release of pip is available: 24.2 -> 24.3.1\n",
      "[notice] To update, run: C:\\Users\\ID140\\AppData\\Local\\Microsoft\\WindowsApps\\PythonSoftwareFoundation.Python.3.12_qbz5n2kfra8p0\\python.exe -m pip install --upgrade pip\n"
     ]
    }
   ],
   "source": [
    "!pip install agentpy pathfinding owlready2 requests"
   ]
  },
  {
   "cell_type": "code",
   "execution_count": 105,
   "metadata": {
    "id": "wwjch697D0kA"
   },
   "outputs": [],
   "source": [
    "import agentpy as ap\n",
    "import pathfinding as pf        #use pathfinding algorithms for the agent's plan\n",
    "import matplotlib.pyplot as plt\n",
    "from owlready2 import *\n",
    "import itertools\n",
    "import random\n",
    "import IPython\n",
    "import math\n",
    "import requests"
   ]
  },
  {
   "cell_type": "markdown",
   "metadata": {
    "id": "veIPF7AOEMVX"
   },
   "source": [
    "## 1. Defining Ontology"
   ]
  },
  {
   "cell_type": "code",
   "execution_count": 106,
   "metadata": {
    "id": "9GaZv_6qEO7L"
   },
   "outputs": [],
   "source": [
    "# THIS CELL MUST NOT BE EXECUTED TWICE\n",
    "# If we need to execute this cell again you can do it deleting the ontology as follows:\n",
    "#onto.destroy(update_relation = True, update_is_a = True)\n",
    "\n",
    "#Ontology name and path\n",
    "onto = get_ontology(\"file:///content/coin_onto.owl\")"
   ]
  },
  {
   "cell_type": "code",
   "execution_count": 107,
   "metadata": {
    "colab": {
     "base_uri": "https://localhost:8080/",
     "height": 36
    },
    "id": "QETMY5wGEbYa",
    "outputId": "26d46261-c492-423d-8f30-6d012d629ef5"
   },
   "outputs": [
    {
     "data": {
      "text/plain": [
       "\"Ontology defined and saved as 'drone_security_ontology.owl'.\""
      ]
     },
     "execution_count": 107,
     "metadata": {},
     "output_type": "execute_result"
    }
   ],
   "source": [
    "# Opening the ontology\n",
    "with onto:\n",
    "    # Define core classes\n",
    "    class Entity(Thing):\n",
    "        \"\"\"Superclass for all entities.\"\"\"\n",
    "        pass\n",
    "\n",
    "    class Drone(Entity):\n",
    "        \"\"\"Represents the surveillance drone.\"\"\"\n",
    "        pass\n",
    "\n",
    "    class Camera(Entity):\n",
    "        \"\"\"Represents a fixed surveillance camera.\"\"\"\n",
    "        pass\n",
    "\n",
    "    class Robber(Entity):\n",
    "        \"\"\"Represents a potentially suspicious individual.\"\"\"\n",
    "        pass\n",
    "\n",
    "    class SecurityPersonnel(Entity):\n",
    "        \"\"\"Represents a security team member.\"\"\"\n",
    "        pass\n",
    "\n",
    "    class Place(Thing):\n",
    "        \"\"\"Represents a specific area or position.\"\"\"\n",
    "        pass\n",
    "\n",
    "    # Define relationships (Object Properties)\n",
    "    class is_in_place(ObjectProperty):\n",
    "        \"\"\"Links an entity to a position (Place).\"\"\"\n",
    "        domain = [Entity]\n",
    "        range = [Place]\n",
    "\n",
    "    class at_position(DataProperty,FunctionalProperty):\n",
    "        \"\"\" Specifies the position of a Place \"\"\"\n",
    "        domain = [Place]\n",
    "        range = [str]\n",
    "        pass\n",
    "\n",
    "    class detects_suspicion(ObjectProperty):\n",
    "        \"\"\"Links a camera or drone to a suspicious entity.\"\"\"\n",
    "        domain = [Camera, Drone]\n",
    "        range = [Robber]\n",
    "\n",
    "    class alerts(ObjectProperty):\n",
    "        \"\"\"Links a camera to a drone or security personnel.\"\"\"\n",
    "        domain = [Camera]\n",
    "        range = [Drone, SecurityPersonnel] # NO CAMERA - > security\n",
    "\n",
    "    class patrolled_by(ObjectProperty):\n",
    "        \"\"\"Links a place to a drone patrolling it.\"\"\"\n",
    "        domain = [Place]\n",
    "        range = [Drone]\n",
    "\n",
    "    class status(DataProperty, FunctionalProperty):\n",
    "        \"\"\"Indicates the status of an entity.\"\"\"\n",
    "        domain = [Entity]\n",
    "        range = [str]\n",
    "\n",
    "# Save the ontology\n",
    "onto.save(file=\"drone_security_ontology.owl\")\n",
    "\n",
    "# Confirmation\n",
    "\"Ontology defined and saved as 'drone_security_ontology.owl'.\""
   ]
  },
  {
   "cell_type": "markdown",
   "metadata": {
    "id": "b0kzRx3IRltw"
   },
   "source": [
    "## 2. Define agents classes and behaviour"
   ]
  },
  {
   "cell_type": "markdown",
   "metadata": {
    "id": "DimwRAscTTpo"
   },
   "source": [
    "### Drone"
   ]
  },
  {
   "cell_type": "code",
   "execution_count": 108,
   "metadata": {
    "id": "RBpntbbNIVFg"
   },
   "outputs": [],
   "source": [
    "def send_position(agent_type, position):\n",
    "    url = 'http://localhost:5000/update_position'\n",
    "    payload = {\n",
    "        'agent_type': agent_type,\n",
    "        'position': position\n",
    "    }\n",
    "    try:\n",
    "        response = requests.post(url, json=payload)\n",
    "        if response.status_code == 200:\n",
    "            print(f\"{agent_type} position sent successfully.\")\n",
    "        else:\n",
    "            print(f\"Failed to send {agent_type} position.\")\n",
    "    except requests.exceptions.ConnectionError:\n",
    "        print(\"Failed to connect to the Flask server.\")\n",
    "\n",
    "class DroneAgent(ap.Agent):\n",
    "    \"\"\"Represents a surveillance drone with BDI architecture.\"\"\"\n",
    "\n",
    "    def setup(self):\n",
    "        \"\"\"Initialize the drone's attributes.\"\"\"\n",
    "        self.beliefs = None  # Current robber belief\n",
    "        self.intention = None  # Current goal\n",
    "        self.plan_steps = []  # Steps to achieve the goal\n",
    "        self.intention_succeeded = True  # Whether the current intention is complete\n",
    "        self.patrol_mode = False  # Whether the drone is patrolling\n",
    "        self.agent_type = 0  # For visualization\n",
    "        self.landing_position = None  # The fixed landing station\n",
    "\n",
    "    def send_alert_to_security(self):\n",
    "        \"\"\"Send an alert to the SecurityPersonnelAgent.\"\"\"\n",
    "        if self.beliefs:\n",
    "            robber_position = eval(self.beliefs.is_in_place[0].at_position)\n",
    "            alert = {\n",
    "                'type': 'drone_signal',\n",
    "                'drone': self,\n",
    "                'location': robber_position\n",
    "            }\n",
    "            self.model.alerts.append(alert)\n",
    "            print(f\"Drone sent a signal to security: Robber detected at {robber_position}.\")\n",
    "\n",
    "    def process_camera_alerts(self):\n",
    "        \"\"\"Processes alerts from cameras and verifies the robber's presence.\"\"\"\n",
    "        for alert in self.model.alerts[:]:  # Iterate over a copy to allow safe removal\n",
    "            if 'type' in alert and alert['type'] == 'camera_signal':  # Check if 'type' exists\n",
    "                print(f\"Drone received camera alert: Robber at {alert['location']}.\")\n",
    "                self.intention = 'verify_camera_alert'\n",
    "                self.plan_steps = self.plan_to(alert['location'])\n",
    "                self.model.alerts.remove(alert)\n",
    "\n",
    "    def plan_to(self, target_position):\n",
    "        \"\"\"Creates a plan (sequence of movements) to a specified target.\"\"\"\n",
    "        current_position = self.model.grid.positions[self]\n",
    "        dx = target_position[0] - current_position[0]\n",
    "        dy = target_position[1] - current_position[1]\n",
    "\n",
    "        plan = []\n",
    "\n",
    "        # Crée des pas combinés jusqu'à ce que l'un des axes atteigne la cible\n",
    "        while dx != 0 and dy != 0:\n",
    "            step_x = 1 if dx > 0 else -1\n",
    "            step_y = 1 if dy > 0 else -1\n",
    "            plan.append((step_x, step_y))\n",
    "            dx -= step_x\n",
    "            dy -= step_y\n",
    "\n",
    "        # Ajoute les pas restants uniquement en x si nécessaire\n",
    "        while dx != 0:\n",
    "            step_x = 1 if dx > 0 else -1\n",
    "            plan.append((step_x, 0))\n",
    "            dx -= step_x\n",
    "\n",
    "        # Ajoute les pas restants uniquement en y si nécessaire\n",
    "        while dy != 0:\n",
    "            step_y = 1 if dy > 0 else -1\n",
    "            plan.append((0, step_y))\n",
    "            dy -= step_y\n",
    "\n",
    "        return plan\n",
    "\n",
    "\n",
    "    def land(self):\n",
    "        \"\"\"Simulates the drone landing at the station.\"\"\"\n",
    "        if self.model.grid.positions[self] != self.landing_position:\n",
    "            print(f\"Drone returning to its landing position at {self.landing_position}.\")\n",
    "            self.plan_steps = self.plan_to(self.landing_position)\n",
    "        else:\n",
    "            self.patrol_mode = False\n",
    "            print(f\"Drone has landed safely at {self.landing_position}.\")\n",
    "\n",
    "    def takeoff(self):\n",
    "        \"\"\"Simulates the drone taking off from the landing station.\"\"\"\n",
    "        self.patrol_mode = True\n",
    "        print(f\"Drone is taking off from {self.landing_position} and starting patrol.\")\n",
    "\n",
    "    def see(self, environment):\n",
    "        \"\"\"Perception: Detects the robber within range.\"\"\"\n",
    "        detection_range = 10\n",
    "        detected_robber = next(\n",
    "            (entity for entity in environment.neighbors(self, distance=detection_range)\n",
    "             if isinstance(entity, Robber)),\n",
    "            None\n",
    "        )\n",
    "        return detected_robber\n",
    "\n",
    "    def brf(self, detected_robber):\n",
    "        \"\"\"Belief Revision Function: Updates the belief system based on perceptions.\"\"\"\n",
    "        self.destroy_previous_beliefs()\n",
    "        if detected_robber:\n",
    "            current_position = self.model.grid.positions[detected_robber]\n",
    "            detected_robber.is_in_place = [Place(at_position=str(current_position))]\n",
    "            self.beliefs = detected_robber\n",
    "\n",
    "    def destroy_previous_beliefs(self):\n",
    "        \"\"\"Clears the drone's current belief system.\"\"\"\n",
    "        if self.beliefs:\n",
    "            if hasattr(self.beliefs, 'is_in_place') and self.beliefs.is_in_place:\n",
    "                destroy_entity(self.beliefs.is_in_place[0])\n",
    "            destroy_entity(self.beliefs)\n",
    "            self.beliefs = None\n",
    "\n",
    "    def execute_plan(self):\n",
    "        \"\"\"Executes the current plan by taking one step at a time.\"\"\"\n",
    "        if self.plan_steps:\n",
    "            next_step = self.plan_steps.pop(0)\n",
    "            self.model.grid.move_by(self, next_step)\n",
    "            print(f\"Drone moved to {self.model.grid.positions[self]}.\")\n",
    "        else:\n",
    "            self.intention_succeeded = True\n",
    "            print(\"Drone has completed its current plan.\")\n",
    "\n",
    "    def take_random_step(self):\n",
    "        \"\"\"Makes small random steps to patrol.\"\"\"\n",
    "        directions = [(1, 0), (-1, 0), (0, 1), (0, -1)]\n",
    "        step = random.choice(directions)\n",
    "        new_position = (\n",
    "            self.model.grid.positions[self][0] + step[0],\n",
    "            self.model.grid.positions[self][1] + step[1]\n",
    "        )\n",
    "        if 0 <= new_position[0] < self.model.p.worldSize[0] and 0 <= new_position[1] < self.model.p.worldSize[1]:\n",
    "            self.model.grid.move_by(self, step)\n",
    "            print(f\"Drone moved to {new_position}.\")\n",
    "\n",
    "    def step(self):\n",
    "        \"\"\"The main drone logic for a single simulation step.\"\"\"\n",
    "        position = self.model.grid.positions[self]\n",
    "        send_position('Drone', position)\n",
    "        # Step 1: Take off if not patrolling\n",
    "        if not self.patrol_mode:\n",
    "            self.takeoff()\n",
    "\n",
    "        # Step 2: Process camera alerts\n",
    "        self.process_camera_alerts()\n",
    "        if self.intention == 'verify_camera_alert':\n",
    "            self.execute_plan()\n",
    "            return\n",
    "\n",
    "        # Step 3: Direct detection of robbers\n",
    "        detected_robber = self.see(self.model.grid)\n",
    "        if detected_robber:\n",
    "            self.brf(detected_robber)\n",
    "            self.send_alert_to_security()\n",
    "            self.plan_steps = self.plan_to(eval(self.beliefs.is_in_place[0].at_position))\n",
    "            self.execute_plan()\n",
    "            return\n",
    "\n",
    "        # Step 4: Check if the drone is at the same position as the robber\n",
    "        if self.beliefs and self.model.grid.positions[self] == eval(self.beliefs.is_in_place[0].at_position):\n",
    "            print(f\"Drone captured the robber at {self.model.grid.positions[self]}!\")\n",
    "            self.model.grid.remove_agents(self.beliefs)  # Remove the robber\n",
    "            self.beliefs = None  # Clear belief about the robber\n",
    "            self.plan_steps = self.plan_to(self.landing_position)  # Plan to return to base\n",
    "            self.execute_plan()\n",
    "            return\n",
    "\n",
    "        # Step 5: Continue patrolling if no active tasks\n",
    "        if not self.plan_steps and not self.beliefs:\n",
    "            self.take_random_step()  # Random patrol movement\n",
    "            self.execute_plan()\n",
    "\n",
    "        # Step 6: Land if patrolling is complete\n",
    "        if not self.plan_steps and not self.beliefs:\n",
    "            self.land()\n",
    "\n",
    "\n"
   ]
  },
  {
   "cell_type": "markdown",
   "metadata": {
    "id": "YXTJ4okKTW5R"
   },
   "source": [
    "### Camera"
   ]
  },
  {
   "cell_type": "code",
   "execution_count": null,
   "metadata": {
    "id": "qskUv1UZqtAn"
   },
   "outputs": [],
   "source": [
    "class CameraAgent(ap.Agent):\n",
    "    \"\"\"Represents a stationary surveillance camera.\"\"\"\n",
    "\n",
    "    def setup(self):\n",
    "        \"\"\"Initialize the camera's attributes.\"\"\"\n",
    "        self.detection_range = 18  # Larger range than the drone\n",
    "        self.alerts_sent = 0  # Tracks the number of alerts sent\n",
    "        self.agent_type = 1  # Unique type identifier for visualization\n",
    "        \n",
    "\n",
    "    def detect_robber(self):\n",
    "        \"\"\"Detects the robber within the camera's perception range.\"\"\"\n",
    "        # use neighbors() to find all agents within the specified range\n",
    "        detected_robber = next(\n",
    "            (entity for entity in self.model.grid.neighbors(self, distance=self.detection_range)\n",
    "             if isinstance(entity, Robber)),\n",
    "            None  # Default to None if no robber is detected\n",
    "        )\n",
    "        return detected_robber\n",
    "\n",
    "    def send_alert(self, robber):\n",
    "        \"\"\"Sends an alert to the drone with the robber's location.\"\"\"\n",
    "        robber_position = self.model.grid.positions[robber]\n",
    "        alert = {'type': 'camera_signal',\n",
    "                 'camera' : self,\n",
    "                 'location': robber_position}\n",
    "        self.model.alerts.append(alert)  # Add the alert to the model's alert system\n",
    "        self.alerts_sent += 1\n",
    "        print(f\"Camera at {self.model.grid.positions[self]} sent an alert: Robber detected at {robber_position}\")\n",
    "\n",
    "    def step(self):\n",
    "       \n",
    "        \"\"\"Defines the camera's behavior per simulation step.\"\"\"\n",
    "        detected_robber = self.detect_robber()\n",
    "        if detected_robber:\n",
    "            self.send_alert(detected_robber)\n"
   ]
  },
  {
   "cell_type": "markdown",
   "metadata": {
    "id": "6au7ISEdTZA7"
   },
   "source": [
    "### Robber"
   ]
  },
  {
   "cell_type": "code",
   "execution_count": 110,
   "metadata": {
    "id": "46AmaYPkdewS"
   },
   "outputs": [],
   "source": [
    "class Robber(ap.Agent):\n",
    "    \"\"\"Represents a suspicious entity (robber) in the environment.\"\"\"\n",
    "\n",
    "    def setup(self):\n",
    "        \"\"\"Initialize the robber's attributes.\"\"\"\n",
    "        # No need for separate suspicious behavior\n",
    "        self.agent_type = 2  # Unique type identifier for visualization\n",
    "\n",
    "    def move_randomly(self):\n",
    "        \"\"\"Moves the robber randomly within the grid.\"\"\"\n",
    "        directions = [(1, 0), (-1, 0), (0, 1), (0, -1), (0, 0)]  # Including staying in place\n",
    "        step = random.choice(directions)\n",
    "        self.model.grid.move_by(self, step)\n",
    "\n",
    "    def step(self):\n",
    "        position = self.model.grid.positions[self]\n",
    "        send_position('Robber', position)\n",
    "        \"\"\"Defines the robber's behavior per simulation step.\"\"\"\n",
    "        self.move_randomly()\n"
   ]
  },
  {
   "cell_type": "markdown",
   "metadata": {
    "id": "5ylZyS9BTcat"
   },
   "source": [
    "### Security"
   ]
  },
  {
   "cell_type": "code",
   "execution_count": 111,
   "metadata": {
    "id": "-72A3l2fsBCt"
   },
   "outputs": [],
   "source": [
    "class SecurityPersonnelAgent(ap.Agent):\n",
    "    \"\"\"Represents security personnel responsible for simulated control of the drone.\"\"\"\n",
    "\n",
    "    def setup(self):\n",
    "        \"\"\"Initialize the agent's attributes.\"\"\"\n",
    "        self.in_communication = False  # Whether communication with the drone is active\n",
    "        self.alert_handled = False  # Tracks whether the current alert has been addressed\n",
    "        self.agent_type = 3  # Unique type identifier for visualization\n",
    "\n",
    "    def respond_to_drone_signal(self, drone, robber_position):\n",
    "        \"\"\"\n",
    "        Simulates taking control of the drone by communicating with it.\n",
    "\n",
    "        Args:\n",
    "            drone (DroneAgent): The drone requesting assistance.\n",
    "            robber_position (tuple): The location of the detected robber.\n",
    "        \"\"\"\n",
    "        print(f\"Security personnel are communicating with the drone at {robber_position}.\")\n",
    "        self.in_communication = True\n",
    "        self.confirm_robber(drone, robber_position)\n",
    "\n",
    "    def confirm_robber(self, drone, robber_position):\n",
    "        \"\"\"\n",
    "        Confirms the presence of the robber and issues a general alarm.\n",
    "\n",
    "        Args:\n",
    "            drone (DroneAgent): The drone currently under simulated control.\n",
    "            robber_position (tuple): The location of the detected robber.\n",
    "        \"\"\"\n",
    "        print(f\"Robber confirmed at {robber_position}. Issuing a general alarm.\")\n",
    "        self.simulate_general_alarm(drone)\n",
    "\n",
    "    def simulate_general_alarm(self, drone):\n",
    "        \"\"\"Simulates issuing a general alarm.\"\"\"\n",
    "        print(\"General alarm issued. Security personnel have resolved the alert.\")\n",
    "        self.in_communication = False\n",
    "        self.alert_handled = True\n",
    "        drone.receive_command(\"alert_resolved\")  # Simulated command to drone\n",
    "\n",
    "    def step(self):\n",
    "        \"\"\"\n",
    "        Defines the agent's behavior per simulation step.\n",
    "        Reacts only if an alert is present and the drone signals for assistance.\n",
    "        \"\"\"\n",
    "        position = self.model.grid.positions[self]\n",
    "        send_position('SecurityPersonnel', position)\n",
    "        if not self.in_communication and not self.alert_handled:\n",
    "            # Check if the drone has sent a signal for help\n",
    "            for alert in self.model.alerts[:]:\n",
    "                if 'type' not in alert:\n",
    "                    print(f\"Malformed alert: {alert}\")\n",
    "                    self.model.alerts.remove(alert)  # Remove invalid alerts\n",
    "                    continue\n",
    "\n",
    "                if alert['type'] == 'drone_signal':\n",
    "                    self.respond_to_drone_signal(alert['drone'], alert['location'])\n",
    "                    self.model.alerts.remove(alert)  # Remove the alert after handling\n"
   ]
  },
  {
   "cell_type": "markdown",
   "metadata": {
    "id": "iPlqoeBaqj0J"
   },
   "source": [
    "## Additional functions"
   ]
  },
  {
   "cell_type": "markdown",
   "metadata": {
    "id": "m4uPF-SUfV49"
   },
   "source": [
    "Destroy Beliefs"
   ]
  },
  {
   "cell_type": "code",
   "execution_count": 112,
   "metadata": {
    "id": "zoAttPsYdGs4"
   },
   "outputs": [],
   "source": [
    "def destroy_previous_beliefs(self):\n",
    "    \"\"\"Clears outdated beliefs and their associated ontology entities.\"\"\"\n",
    "    for belief in self.beliefs:\n",
    "        destroy_entity(belief.is_in_place[0])  # Destroy associated Place\n",
    "        destroy_entity(belief)  # Destroy the belief itself (e.g., Robber)\n",
    "    self.beliefs.clear()  # Reset beliefs list\n"
   ]
  },
  {
   "cell_type": "markdown",
   "metadata": {
    "id": "mZHWN9Pnpj0c"
   },
   "source": [
    "Move the agents thanks to a move_by function."
   ]
  },
  {
   "cell_type": "code",
   "execution_count": 113,
   "metadata": {
    "id": "eA9YC0hspjH2"
   },
   "outputs": [],
   "source": [
    "def move_by(agent, step):\n",
    "    \"\"\"\n",
    "    Moves the agent by the specified step on the grid.\n",
    "\n",
    "    Args:\n",
    "        agent (ap.Agent): The agent to move.\n",
    "        step (tuple): The step to move, e.g., (1, 0) for right or (0, -1) for down.\n",
    "    \"\"\"\n",
    "    current_position = agent.model.grid.positions[agent]\n",
    "    new_position = (current_position[0] + step[0], current_position[1] + step[1])\n",
    "\n",
    "    # Ensure the new position is within grid boundaries\n",
    "    if agent.model.grid.is_within_bounds(new_position):\n",
    "        agent.model.grid.move_to(agent, new_position)\n"
   ]
  },
  {
   "cell_type": "markdown",
   "metadata": {
    "id": "-jTkmLbzuKRa"
   },
   "source": [
    "## Simulation"
   ]
  },
  {
   "cell_type": "code",
   "execution_count": 114,
   "metadata": {
    "id": "bOUBnlMCuMXf"
   },
   "outputs": [],
   "source": [
    "class SurveillanceModel(ap.Model):\n",
    "    def setup(self):\n",
    "        \"\"\"Initialize the simulation with agents and a shared environment.\"\"\"\n",
    "        # Retrieve parameters\n",
    "        world_size = self.p.worldSize\n",
    "        drone_count = self.p.droneAgents\n",
    "        camera_count = self.p.cameraAgents\n",
    "        robber_count = self.p.robberAgents\n",
    "\n",
    "        # Create agents using ap.AgentList\n",
    "        self.drone = ap.AgentList(self, drone_count, DroneAgent)\n",
    "        self.cameras = ap.AgentList(self, camera_count, CameraAgent)\n",
    "        self.robber = ap.AgentList(self, robber_count, Robber)\n",
    "        self.security = ap.AgentList(self, 1, SecurityPersonnelAgent)\n",
    "\n",
    "        # Create a grid\n",
    "        self.grid = ap.Grid(self, world_size, track_empty=True)\n",
    "\n",
    "        # Place agents on the grid\n",
    "        self.grid.add_agents(self.drone, positions=[(world_size[0] // 2, world_size[1] // 2)])  # Drone at center\n",
    "        self.grid.add_agents(self.robber, random=True)  # Place robber randomly\n",
    "        self.grid.add_agents(self.cameras, random=True)  # Place cameras randomly\n",
    "        self.grid.add_agents(self.security, positions=[(5, 5)])  # Fixed position for security personnel\n",
    "\n",
    "        # Initialize landing position for the drones\n",
    "        for drone in self.drone:\n",
    "            drone.landing_position = (world_size[0] // 2, world_size[1] // 2)\n",
    "\n",
    "        # Create a shared alert system\n",
    "        self.alerts = []\n",
    "\n",
    "    def step(self):\n",
    "        \"\"\"Run the simulation for one step.\"\"\"\n",
    "        # Call the step method for each type of agent\n",
    "        self.robber.step()\n",
    "        self.cameras.step()\n",
    "        self.drone.step()\n",
    "        self.security.step()\n",
    "\n",
    "    def update(self):\n",
    "        \"\"\"Update data or visualization after each step.\"\"\"\n",
    "        pass\n",
    "\n",
    "    def end(self):\n",
    "        \"\"\"Finalize the simulation.\"\"\"\n",
    "        print(\"Simulation completed!\")\n",
    "\n"
   ]
  },
  {
   "cell_type": "code",
   "execution_count": 115,
   "metadata": {
    "id": "qpjVH1poCFDj"
   },
   "outputs": [],
   "source": [
    "def animation_plot(model, ax):\n",
    "    \"\"\"Visualizes the grid and agent types.\"\"\"\n",
    "    # Use attr_grid to get agent_type for each grid cell\n",
    "    agent_type_grid = model.grid.attr_grid('agent_type')\n",
    "    ap.gridplot(agent_type_grid, cmap='Accent', ax=ax)\n",
    "    ax.set_title(f\"Surveillance Simulation \\n Time-step: {model.t}\")\n"
   ]
  },
  {
   "cell_type": "code",
   "execution_count": 116,
   "metadata": {
    "id": "lYWsPp89uRS4"
   },
   "outputs": [],
   "source": [
    "# Parameters\n",
    "parameters = {\n",
    "    \"droneAgents\": 1,         # Number of drones\n",
    "    \"cameraAgents\": 3,        # Number of cameras\n",
    "    \"robberAgents\": 1,        # Number of robbers\n",
    "    \"worldSize\": (100, 100),    # Grid size (width, height)\n",
    "    \"steps\": 50,              # Maximum steps\n",
    "    \"seed\": 16               # Random seed for reproducibility\n",
    "}\n",
    "\n"
   ]
  },
  {
   "cell_type": "code",
   "execution_count": 117,
   "metadata": {
    "colab": {
     "base_uri": "https://localhost:8080/",
     "height": 1000
    },
    "collapsed": true,
    "id": "KZY1YRQ8dvKx",
    "outputId": "1f95f535-816f-47df-fe31-fdfde4bb114a"
   },
   "outputs": [
    {
     "ename": "AttributeError",
     "evalue": "SurveillanceModel has no attribute 'grid'.",
     "output_type": "error",
     "traceback": [
      "\u001b[1;31m---------------------------------------------------------------------------\u001b[0m",
      "\u001b[1;31mAttributeError\u001b[0m                            Traceback (most recent call last)",
      "Cell \u001b[1;32mIn[117], line 8\u001b[0m\n\u001b[0;32m      5\u001b[0m model \u001b[38;5;241m=\u001b[39m SurveillanceModel(parameters)\n\u001b[0;32m      7\u001b[0m \u001b[38;5;66;03m# Run the simulation with animation\u001b[39;00m\n\u001b[1;32m----> 8\u001b[0m animation \u001b[38;5;241m=\u001b[39m \u001b[43map\u001b[49m\u001b[38;5;241;43m.\u001b[39;49m\u001b[43manimate\u001b[49m\u001b[43m(\u001b[49m\u001b[43mmodel\u001b[49m\u001b[43m,\u001b[49m\u001b[43m \u001b[49m\u001b[43mfig\u001b[49m\u001b[43m,\u001b[49m\u001b[43m \u001b[49m\u001b[43max\u001b[49m\u001b[43m,\u001b[49m\u001b[43m \u001b[49m\u001b[43manimation_plot\u001b[49m\u001b[43m)\u001b[49m\n\u001b[0;32m     10\u001b[0m \u001b[38;5;66;03m# Display the animation\u001b[39;00m\n\u001b[0;32m     11\u001b[0m IPython\u001b[38;5;241m.\u001b[39mdisplay\u001b[38;5;241m.\u001b[39mHTML(animation\u001b[38;5;241m.\u001b[39mto_jshtml())\n",
      "File \u001b[1;32m~\\AppData\\Local\\Packages\\PythonSoftwareFoundation.Python.3.12_qbz5n2kfra8p0\\LocalCache\\local-packages\\Python312\\site-packages\\agentpy\\visualization.py:59\u001b[0m, in \u001b[0;36manimate\u001b[1;34m(model, fig, axs, plot, steps, seed, skip, fargs, **kwargs)\u001b[0m\n\u001b[0;32m     17\u001b[0m \u001b[38;5;28;01mdef\u001b[39;00m \u001b[38;5;21manimate\u001b[39m(model, fig, axs, plot, steps\u001b[38;5;241m=\u001b[39m\u001b[38;5;28;01mNone\u001b[39;00m, seed\u001b[38;5;241m=\u001b[39m\u001b[38;5;28;01mNone\u001b[39;00m,\n\u001b[0;32m     18\u001b[0m             skip\u001b[38;5;241m=\u001b[39m\u001b[38;5;241m0\u001b[39m, fargs\u001b[38;5;241m=\u001b[39m(), \u001b[38;5;241m*\u001b[39m\u001b[38;5;241m*\u001b[39mkwargs):\n\u001b[0;32m     19\u001b[0m \u001b[38;5;250m    \u001b[39m\u001b[38;5;124;03m\"\"\" Returns an animation of the model simulation,\u001b[39;00m\n\u001b[0;32m     20\u001b[0m \u001b[38;5;124;03m    using :func:`matplotlib.animation.FuncAnimation`.\u001b[39;00m\n\u001b[0;32m     21\u001b[0m \n\u001b[1;32m   (...)\u001b[0m\n\u001b[0;32m     56\u001b[0m \u001b[38;5;124;03m            HTML(animation.to_jshtml())\u001b[39;00m\n\u001b[0;32m     57\u001b[0m \u001b[38;5;124;03m    \"\"\"\u001b[39;00m\n\u001b[1;32m---> 59\u001b[0m     \u001b[43mmodel\u001b[49m\u001b[38;5;241;43m.\u001b[39;49m\u001b[43msim_setup\u001b[49m\u001b[43m(\u001b[49m\u001b[43msteps\u001b[49m\u001b[43m,\u001b[49m\u001b[43m \u001b[49m\u001b[43mseed\u001b[49m\u001b[43m)\u001b[49m\n\u001b[0;32m     60\u001b[0m     model\u001b[38;5;241m.\u001b[39mcreate_output()\n\u001b[0;32m     61\u001b[0m     pre_steps \u001b[38;5;241m=\u001b[39m \u001b[38;5;241m0\u001b[39m\n",
      "File \u001b[1;32m~\\AppData\\Local\\Packages\\PythonSoftwareFoundation.Python.3.12_qbz5n2kfra8p0\\LocalCache\\local-packages\\Python312\\site-packages\\agentpy\\model.py:316\u001b[0m, in \u001b[0;36mModel.sim_setup\u001b[1;34m(self, steps, seed)\u001b[0m\n\u001b[0;32m    313\u001b[0m \u001b[38;5;28mself\u001b[39m\u001b[38;5;241m.\u001b[39m_partly_run \u001b[38;5;241m=\u001b[39m \u001b[38;5;28;01mTrue\u001b[39;00m\n\u001b[0;32m    315\u001b[0m \u001b[38;5;66;03m# Execute setup and first update\u001b[39;00m\n\u001b[1;32m--> 316\u001b[0m \u001b[38;5;28;43mself\u001b[39;49m\u001b[38;5;241;43m.\u001b[39;49m\u001b[43msetup\u001b[49m\u001b[43m(\u001b[49m\u001b[38;5;241;43m*\u001b[39;49m\u001b[38;5;241;43m*\u001b[39;49m\u001b[38;5;28;43mself\u001b[39;49m\u001b[38;5;241;43m.\u001b[39;49m\u001b[43m_setup_kwargs\u001b[49m\u001b[43m)\u001b[49m\n\u001b[0;32m    317\u001b[0m \u001b[38;5;28mself\u001b[39m\u001b[38;5;241m.\u001b[39mupdate()\n\u001b[0;32m    319\u001b[0m \u001b[38;5;66;03m# Stop simulation if t too high\u001b[39;00m\n",
      "Cell \u001b[1;32mIn[114], line 12\u001b[0m, in \u001b[0;36mSurveillanceModel.setup\u001b[1;34m(self)\u001b[0m\n\u001b[0;32m     10\u001b[0m \u001b[38;5;66;03m# Create agents using ap.AgentList\u001b[39;00m\n\u001b[0;32m     11\u001b[0m \u001b[38;5;28mself\u001b[39m\u001b[38;5;241m.\u001b[39mdrone \u001b[38;5;241m=\u001b[39m ap\u001b[38;5;241m.\u001b[39mAgentList(\u001b[38;5;28mself\u001b[39m, drone_count, DroneAgent)\n\u001b[1;32m---> 12\u001b[0m \u001b[38;5;28mself\u001b[39m\u001b[38;5;241m.\u001b[39mcameras \u001b[38;5;241m=\u001b[39m \u001b[43map\u001b[49m\u001b[38;5;241;43m.\u001b[39;49m\u001b[43mAgentList\u001b[49m\u001b[43m(\u001b[49m\u001b[38;5;28;43mself\u001b[39;49m\u001b[43m,\u001b[49m\u001b[43m \u001b[49m\u001b[43mcamera_count\u001b[49m\u001b[43m,\u001b[49m\u001b[43m \u001b[49m\u001b[43mCameraAgent\u001b[49m\u001b[43m)\u001b[49m\n\u001b[0;32m     13\u001b[0m \u001b[38;5;28mself\u001b[39m\u001b[38;5;241m.\u001b[39mrobber \u001b[38;5;241m=\u001b[39m ap\u001b[38;5;241m.\u001b[39mAgentList(\u001b[38;5;28mself\u001b[39m, robber_count, Robber)\n\u001b[0;32m     14\u001b[0m \u001b[38;5;28mself\u001b[39m\u001b[38;5;241m.\u001b[39msecurity \u001b[38;5;241m=\u001b[39m ap\u001b[38;5;241m.\u001b[39mAgentList(\u001b[38;5;28mself\u001b[39m, \u001b[38;5;241m1\u001b[39m, SecurityPersonnelAgent)\n",
      "File \u001b[1;32m~\\AppData\\Local\\Packages\\PythonSoftwareFoundation.Python.3.12_qbz5n2kfra8p0\\LocalCache\\local-packages\\Python312\\site-packages\\agentpy\\sequences.py:259\u001b[0m, in \u001b[0;36mAgentList.__init__\u001b[1;34m(self, model, objs, cls, *args, **kwargs)\u001b[0m\n\u001b[0;32m    257\u001b[0m \u001b[38;5;28;01mif\u001b[39;00m \u001b[38;5;28misinstance\u001b[39m(objs, \u001b[38;5;28mint\u001b[39m):\n\u001b[0;32m    258\u001b[0m     objs \u001b[38;5;241m=\u001b[39m \u001b[38;5;28mself\u001b[39m\u001b[38;5;241m.\u001b[39m_obj_gen(model, objs, \u001b[38;5;28mcls\u001b[39m, \u001b[38;5;241m*\u001b[39margs, \u001b[38;5;241m*\u001b[39m\u001b[38;5;241m*\u001b[39mkwargs)\n\u001b[1;32m--> 259\u001b[0m \u001b[38;5;28;43msuper\u001b[39;49m\u001b[43m(\u001b[49m\u001b[43m)\u001b[49m\u001b[38;5;241;43m.\u001b[39;49m\u001b[38;5;21;43m__init__\u001b[39;49m\u001b[43m(\u001b[49m\u001b[43mobjs\u001b[49m\u001b[43m)\u001b[49m\n\u001b[0;32m    260\u001b[0m \u001b[38;5;28msuper\u001b[39m()\u001b[38;5;241m.\u001b[39m\u001b[38;5;21m__setattr__\u001b[39m(\u001b[38;5;124m'\u001b[39m\u001b[38;5;124mmodel\u001b[39m\u001b[38;5;124m'\u001b[39m, model)\n\u001b[0;32m    261\u001b[0m \u001b[38;5;28msuper\u001b[39m()\u001b[38;5;241m.\u001b[39m\u001b[38;5;21m__setattr__\u001b[39m(\u001b[38;5;124m'\u001b[39m\u001b[38;5;124mndim\u001b[39m\u001b[38;5;124m'\u001b[39m, \u001b[38;5;241m1\u001b[39m)\n",
      "File \u001b[1;32m~\\AppData\\Local\\Packages\\PythonSoftwareFoundation.Python.3.12_qbz5n2kfra8p0\\LocalCache\\local-packages\\Python312\\site-packages\\agentpy\\sequences.py:48\u001b[0m, in \u001b[0;36mAgentSequence._obj_gen\u001b[1;34m(model, n, cls, *args, **kwargs)\u001b[0m\n\u001b[0;32m     44\u001b[0m \u001b[38;5;28;01mfor\u001b[39;00m i \u001b[38;5;129;01min\u001b[39;00m \u001b[38;5;28mrange\u001b[39m(n):\n\u001b[0;32m     45\u001b[0m     \u001b[38;5;66;03m# AttrIter values get broadcasted among agents\u001b[39;00m\n\u001b[0;32m     46\u001b[0m     i_kwargs \u001b[38;5;241m=\u001b[39m {k: arg[i] \u001b[38;5;28;01mif\u001b[39;00m \u001b[38;5;28misinstance\u001b[39m(arg, AttrIter) \u001b[38;5;28;01melse\u001b[39;00m arg\n\u001b[0;32m     47\u001b[0m                 \u001b[38;5;28;01mfor\u001b[39;00m k, arg \u001b[38;5;129;01min\u001b[39;00m kwargs\u001b[38;5;241m.\u001b[39mitems()}\n\u001b[1;32m---> 48\u001b[0m     \u001b[38;5;28;01myield\u001b[39;00m \u001b[38;5;28;43mcls\u001b[39;49m\u001b[43m(\u001b[49m\u001b[43mmodel\u001b[49m\u001b[43m,\u001b[49m\u001b[43m \u001b[49m\u001b[38;5;241;43m*\u001b[39;49m\u001b[38;5;241;43m*\u001b[39;49m\u001b[43mi_kwargs\u001b[49m\u001b[43m)\u001b[49m\n",
      "File \u001b[1;32m~\\AppData\\Local\\Packages\\PythonSoftwareFoundation.Python.3.12_qbz5n2kfra8p0\\LocalCache\\local-packages\\Python312\\site-packages\\agentpy\\agent.py:29\u001b[0m, in \u001b[0;36mAgent.__init__\u001b[1;34m(self, model, *args, **kwargs)\u001b[0m\n\u001b[0;32m     27\u001b[0m \u001b[38;5;28;01mdef\u001b[39;00m \u001b[38;5;21m__init__\u001b[39m(\u001b[38;5;28mself\u001b[39m, model, \u001b[38;5;241m*\u001b[39margs, \u001b[38;5;241m*\u001b[39m\u001b[38;5;241m*\u001b[39mkwargs):\n\u001b[0;32m     28\u001b[0m     \u001b[38;5;28msuper\u001b[39m()\u001b[38;5;241m.\u001b[39m\u001b[38;5;21m__init__\u001b[39m(model)\n\u001b[1;32m---> 29\u001b[0m     \u001b[38;5;28;43mself\u001b[39;49m\u001b[38;5;241;43m.\u001b[39;49m\u001b[43msetup\u001b[49m\u001b[43m(\u001b[49m\u001b[38;5;241;43m*\u001b[39;49m\u001b[43margs\u001b[49m\u001b[43m,\u001b[49m\u001b[43m \u001b[49m\u001b[38;5;241;43m*\u001b[39;49m\u001b[38;5;241;43m*\u001b[39;49m\u001b[43mkwargs\u001b[49m\u001b[43m)\u001b[49m\n",
      "Cell \u001b[1;32mIn[109], line 9\u001b[0m, in \u001b[0;36mCameraAgent.setup\u001b[1;34m(self)\u001b[0m\n\u001b[0;32m      7\u001b[0m \u001b[38;5;28mself\u001b[39m\u001b[38;5;241m.\u001b[39malerts_sent \u001b[38;5;241m=\u001b[39m \u001b[38;5;241m0\u001b[39m  \u001b[38;5;66;03m# Tracks the number of alerts sent\u001b[39;00m\n\u001b[0;32m      8\u001b[0m \u001b[38;5;28mself\u001b[39m\u001b[38;5;241m.\u001b[39magent_type \u001b[38;5;241m=\u001b[39m \u001b[38;5;241m1\u001b[39m  \u001b[38;5;66;03m# Unique type identifier for visualization\u001b[39;00m\n\u001b[1;32m----> 9\u001b[0m position \u001b[38;5;241m=\u001b[39m \u001b[38;5;28;43mself\u001b[39;49m\u001b[38;5;241;43m.\u001b[39;49m\u001b[43mmodel\u001b[49m\u001b[38;5;241;43m.\u001b[39;49m\u001b[43mgrid\u001b[49m\u001b[38;5;241m.\u001b[39mpositions[\u001b[38;5;28mself\u001b[39m]\n\u001b[0;32m     10\u001b[0m send_position(\u001b[38;5;124m'\u001b[39m\u001b[38;5;124mCamera\u001b[39m\u001b[38;5;124m'\u001b[39m, position)\n",
      "File \u001b[1;32m~\\AppData\\Local\\Packages\\PythonSoftwareFoundation.Python.3.12_qbz5n2kfra8p0\\LocalCache\\local-packages\\Python312\\site-packages\\agentpy\\objects.py:27\u001b[0m, in \u001b[0;36mObject.__getattr__\u001b[1;34m(self, key)\u001b[0m\n\u001b[0;32m     26\u001b[0m \u001b[38;5;28;01mdef\u001b[39;00m \u001b[38;5;21m__getattr__\u001b[39m(\u001b[38;5;28mself\u001b[39m, key):\n\u001b[1;32m---> 27\u001b[0m     \u001b[38;5;28;01mraise\u001b[39;00m \u001b[38;5;167;01mAttributeError\u001b[39;00m(\u001b[38;5;124mf\u001b[39m\u001b[38;5;124m\"\u001b[39m\u001b[38;5;132;01m{\u001b[39;00m\u001b[38;5;28mself\u001b[39m\u001b[38;5;132;01m}\u001b[39;00m\u001b[38;5;124m has no attribute \u001b[39m\u001b[38;5;124m'\u001b[39m\u001b[38;5;132;01m{\u001b[39;00mkey\u001b[38;5;132;01m}\u001b[39;00m\u001b[38;5;124m'\u001b[39m\u001b[38;5;124m.\u001b[39m\u001b[38;5;124m\"\u001b[39m)\n",
      "\u001b[1;31mAttributeError\u001b[0m: SurveillanceModel has no attribute 'grid'."
     ]
    },
    {
     "data": {
      "image/png": "[encoded data removed]",
      "text/plain": [
       "<Figure size 800x800 with 1 Axes>"
      ]
     },
     "metadata": {},
     "output_type": "display_data"
    }
   ],
   "source": [
    "# Create figure for animation\n",
    "fig, ax = plt.subplots(figsize=(8, 8))\n",
    "\n",
    "# Create and run the model\n",
    "model = SurveillanceModel(parameters)\n",
    "\n",
    "# Run the simulation with animation\n",
    "animation = ap.animate(model, fig, ax, animation_plot)\n",
    "\n",
    "# Display the animation\n",
    "IPython.display.HTML(animation.to_jshtml())\n"
   ]
  }
 ],
 "metadata": {
  "colab": {
   "authorship_tag": "ABX9TyP44a8eYPtdr18YoL4wQue0",
   "include_colab_link": true,
   "provenance": []
  },
  "kernelspec": {
   "display_name": "Python 3",
   "name": "python3"
  },
  "language_info": {
   "codemirror_mode": {
    "name": "ipython",
    "version": 3
   },
   "file_extension": ".py",
   "mimetype": "text/x-python",
   "name": "python",
   "nbconvert_exporter": "python",
   "pygments_lexer": "ipython3",
   "version": "3.12.7"
  }
 },
 "nbformat": 4,
 "nbformat_minor": 0
}
